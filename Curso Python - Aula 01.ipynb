{
 "cells": [
  {
   "cell_type": "markdown",
   "metadata": {},
   "source": [
<<<<<<< HEAD
    "<img src=\"img/header.png\" alt=\"Devcated Banner\">\n",
    "<h1 style=\"float:left\"> Curso Python - Aula 01 - História da Linguagem Python<h1>\n",
    "<a href=\"https://www.linkedin.com/in/marcosmapl\"><img style=\"float:right;margin-left:5px\" src=\"img/linkedin.png\" alt=\"Linkedin Logo\" width=\"32\"></a>\n",
    "<a href=\"https://github.com/devcated/curso_python3\"><img style=\"float:right;margin-left:5px;margin-right:5px\" src=\"img/github-logo.png\" alt=\"Github repositório\" width=\"32\"></a>\n",
    "<a href=\"https://www.youtube.com/channel/UC7XyhhdgvWNIskpPiX_Y6mA\"><img style=\"float:right\" src=\"img/subscribe.png\" alt=\"Subscribe at my Channel\" width=\"100\"></a>\n",
=======
    "<img src=\"header.png\" alt=\"Devcated Banner\">\n",
    "<h1 style=\"float:left\"> Curso Python Aula 01 - História da Linguagem Python<h1>\n",
    "<a href=\"https://www.linkedin.com/in/marcosmapl\"><img style=\"float:right;margin-left:5px\" src=\"linkedin.png\" alt=\"Linkedin Logo\" width=\"32\"></a>\n",
    "<a href=\"https://github.com/devcated/curso_python3\"><img style=\"float:right;margin-left:5px;margin-right:5px\" src=\"github-logo.png\" alt=\"Github repositório\" width=\"32\"></a>\n",
    "<a href=\"https://www.youtube.com/channel/UC7XyhhdgvWNIskpPiX_Y6mA\"><img style=\"float:right\" src=\"subscribe.png\" alt=\"Subscribe at my Channel\" width=\"100\"></a>\n",
>>>>>>> e82641500564961b2510fd4c08a1718ac89f304e
    "<h2> Marcos Avner P. de Lima </h2>\n",
    "\n",
    "marcos.lima@icomp.ufam.edu.br"
   ]
  },
  {
   "cell_type": "markdown",
   "metadata": {},
   "source": [
    "## Roteiro\n",
    "* [História da Linguagem Python](#historia)\n",
    "    * [Guido Van Rossum](#guido-van-rossum)\n",
    "    * [Monty Python's Flying Circus](#monty-python)\n",
    "    * [History of Python by Guido - Youtube](#youtube-video)\n",
    "* [Versões da Linguagem](#versions)\n",
    "* [Quem usa Python atualmente?](#use)\n",
    "    * [Empresas](#companies)\n",
    "    * [Jogos](#games)\n",
    "    * [Filmes](#movies)\n",
    "    * [Embarcados](#embedded)\n",
    "* [Preparando o Ambiente](#ambiente)\n",
    "    * [Interpretadores Online](#online-int)\n",
    "    * [Instalando o Interpretador](#instalacao)\n",
    "    * [Plataforma Anaconda](#anaconda)\n",
    "    * [Outras Ferramentas](#outras)\n",
    "        * [Editor de Texto](#text-editor)\n",
    "        * [Ambiente Integrado de Desenvolvimento](#ide)\n",
    "* [Executando o Interpretador](#start-int)\n",
    "* [The Zen of Python](#zen)"
   ]
  },
  {
   "cell_type": "markdown",
   "metadata": {},
   "source": [
    "# História da Linguagem Python<a id=\"historia\"></a>\n",
    "\n",
    "A linguagem Python foi desenvolvida no final dos anos 80 pelo holandês, __Guido van Rossum__, no __Centrum Wiskunde & Informatica - CWI__. Ele foi alocado num projeto de uma linguagem chamada __ABC__. Sua ideia original era criar um sucessor para a linguagem de programação __ABC__ da qual era desenvolvedor colaborador. __Guido__ planejou gastar poucos meses no desenvolvimento, utilizando seu tempo livre durante o Natal de 1989. \n",
    "\n",
    "Foi somente em Janeiro de 1994 que __Guido__ lançou a versão `Python 1.0`. A linguagem Python foi projetada com a filosofia de priorizar a __legibilidade do código__ e __produtividade do desenvolvedor__.\n",
    "<a id=\"guido-van-rossum\"></a>\n",
    "<img src=\"img/guido-van-rossum.jpg\" alt=\"Guido Van Rossum - 1994\" height=\"400\" width=\"600\">\n",
    "\n",
    "Python é uma linguagem de programação de _alto nível, interpretada, imperativa, orientada a objetos, funcional, de tipagem dinâmica e forte_. \n",
    "* _Alto nível_ - É quando uma linguagem tem um nível de abstração relativamente elevado, longe do código de máquina e mais próximo à linguagem humana.\n",
    "* _Interpretada_ - É quando uma linguagem de programação em que o código fonte não é executado diretamente pelo sistema operacioanal e sim por um programa de computador chamado interpretador.\n",
    "* _Paradigma Imperativo_ - É um paradigma de programação que descreve a computação como ações, enunciados ou comandos que mudam o estado (variáveis) de um programa.\n",
    "* _Paradigma Orientado a Objetos_ - É um paradigma de programação baseado na composição e interação entre diversas unidades chamadas de _objetos_.\n",
    "* _Funcional_ - É um paradigma de programação que trata a computação como uma avaliação de funções matemáticas e que evita estados ou dados mutáveis.\n",
    "* _Tipagem_ - Podemos categoriza as linguagens de programação, quanto ao forma de tipagem:\n",
    "    1. Forte: Há verificação dos tipos de dados utilizados em tempo de execução ou compilação. Ex: Python e Java\n",
    "    2. Fraca: Não há verificação dos tipos de dados utilizados em tempo de execução ou compilação. Ex: JavaScript e PHP\n",
    "    3. Estática: A linguagem exige que  sejam declarados os tipos de dados utilizados, e uma vez definido não são possíveis alterações em tempo de execução. Ex: C# e Java\n",
    "    4. Dinâmica: Não a necessidade de declarar os tipos de dados utilizados e temos a possibilidade de alterar o tipo da nossa variável em tempo de execução. Ex: JavaScript e Python.\n",
    "\n",
    "Devido às suas características, ela é atualmente utilizada em diversos cenários: para processamento de textos, dados científicos, aprendizagem de máquina, aplicações desktop e sistemas para a web. Foi considerada pelo público a __4º Tecnologia mais popular__, a __2ª linguagem \"mais amada\"__ e a __1ª linguagem \"mais buscada\"__, de acordo com uma pesquisa conduzida pelo site [Stack Overflow em 2019](https://insights.stackoverflow.com/survey/2019#most-loved-dreaded-and-wanted), além de estar entre as __5 linguagens mais populares__, de acordo com uma pesquisa conduzida pela [RedMonk em Junho de 2019](https://redmonk.com/sogrady/2019/07/18/language-rankings-6-19/).\n",
    "\n",
    "O nome Python teve a sua origem no grupo humorístico britânico __Monty Python__, criador do programa __Monty Python's Flying Circus__.\n",
    "<a id=\"monty-python\"></a>\n",
    "<img src=\"img/monty-python.jpeg\" alt=\"Monty's Python Flying Circus\" height=\"400\" width=\"600\">\n",
    "\n",
    "### História da Linguagem Python por Guido Van Rossum - Youtube<a id=\"youtube-video\"></a>\n",
    "Link: https://www.youtube.com/watch?v=J0Aq44Pze-w"
   ]
  },
  {
   "cell_type": "markdown",
   "metadata": {},
   "source": [
    "## Versões da Linguagem Python<a id=\"versions\"><a/>\n",
    "\n",
    "* __Python 1.0 (Janeiro, 1994)__\n",
    "    * Functional programming tools\n",
    "        * lambda\n",
    "        * map\n",
    "        * filter\n",
    "        * reduce\n",
    "* __Python 1.4 (25 de Outubro, 1996)__\n",
    "    * Operador de Potência (x ** y)\n",
    "    * Números Complexos\n",
    "* __Python 1.5 (31 de Dezembro, 1997)__\n",
    "    * Expressões Lambda\n",
    "    * Doc Strings\n",
    "* __Python 1.6 (5 de Setembro, 2000)__\n",
    "    * urllib2\n",
    "* __Python 2.0 (16 de Outubro, 2000)__\n",
    "    * Suporte Unicode\n",
    "    * List comprehensions\n",
    "    * Garbage collector\n",
    "    * Novos Operadores de Atribuição\n",
    "* __Python 2.1 (15 de Abril, 2001)__\n",
    "    * Comparações Ricas\n",
    "* __Python 2.2 (21 de Dezembro, 2001)__\n",
    "    * Generators e Iterators\n",
    "    * Operador Divisão Inteira (Floor Division) `//`\n",
    "* __Python 2.3 (29 de Jullho, 2003)__\n",
    "    * Cerca de 20-30% mais rápida\n",
    "    * Nova IDLE\n",
    "    * Arquivos CSV\n",
    "    * Random (Mersenne Twister Algorithm)\n",
    "    * matplotlib\n",
    "* __Python 2.4 (30 de Novembro, 2004)__\n",
    "    * Function/method decorators\n",
    "    * Decimal\n",
    "* __Python 2.5 (19 de Setembro, 2006)__\n",
    "    * xml.etree\n",
    "    * sqlite\n",
    "    * ctypes\n",
    "    * with\n",
    "    * numpy\n",
    "    * pandas\n",
    "* __Python 2.6 (1 de Outubro, 2008)__\n",
    "    * str.format()\n",
    "* __Python 3.0 (3 de Dezembro, 2008)__\n",
    "    * Ênfase em remover construções e módulos redundantes\n",
    "    * print virou uma built-in function\n",
    "* __Python 3.1 (27 de Junho, 2009)__\n",
    "* __Python 3.2 (20 de Fevereiro, 2011)__\n",
    "    * Multi-threading\n",
    "* __Python 3.3 (29 de Setembro, 2012)__\n",
    "* __Python 3.4 (16 de Março, 2014)__\n",
    "* __Python 3.5 (13 de Setembro, 2015)__\n",
    "* __Python 3.6 (23 de Dezembro, 2016)__\n",
    "* __Python 3.7 (27 de Junho, 2018)__\n",
    "    * Python 3.7.4 (8 de Julho, 2019)\n",
    "\n"
   ]
  },
  {
   "cell_type": "markdown",
   "metadata": {},
   "source": [
    "## Quem usa Python atualmente?<a id=\"use\"></a>\n",
    "\n",
    "### Empresas<a id=\"companies\"></a>\n",
    "* [Drobox](https://www.pythonpeople.nl/how-python-powers-dropbox/)\n",
    "* [NASA](https://www.youtube.com/user/TEDtalksDirector)\n",
    "* [Google](https://quintagroup.com/cms/python/google)\n",
    "    * Youtube\n",
    "* [Spotify](https://labs.spotify.com/2013/03/20/how-we-use-python-at-spotify/)\n",
    "* [Netflix](https://www.zdnet.com/article/netflix-python-programming-language-is-behind-every-film-you-stream/)\n",
    "* Amazon\n",
    "* IBM, Intel e HP\n",
    "* NOKIA\n",
    "* Facebook\n",
    "    * Instragram\n",
    "* Yahoo\n",
    "* Globo\n",
    "\n",
    "### Jogos<a id=\"games\"></a>\n",
    "* Battlefield 2\n",
    "* Star Trek Bridge Command\n",
    "* Civilization IV\n",
    "\n",
    "### Filmes<a id=\"movies\"></a>\n",
    "* Walt Disney\n",
    "* Pixar\n",
    "\n",
    "### Embarcados<a id=\"embedded\"></a>\n",
    "* Arduino\n",
    "* Raspiberry Pi"
   ]
  },
  {
   "cell_type": "markdown",
   "metadata": {},
   "source": [
    "## Preparando o ambiente<a id=\"ambiente\"></a>\n",
    "\n",
<<<<<<< HEAD
    "Antes de começar a programar em Python, você precisara ter acesso a um __Interpretador__ Python. Um __Interpretador__ é um programa capaz de ler um código fonte e traduzí-lo para uma versão executável específica para o ambiente de execução. Há divesas opções para isso:\n",
=======
    "Antes de começar a programar em Python, você precisara ter acesso ao __Interpretador__ Python. Há divesas opções para isso:\n",
>>>>>>> e82641500564961b2510fd4c08a1718ac89f304e
    "* __Interpretadores Online:__<a id=\"online-int\"></a>\n",
    "    * [Python.org Online Console](https://www.python.org/shell).\n",
    "    * [Repl.it](https://repl.it/languages/python3).\n",
    "    * [Online GBD](https://www.onlinegbd.com/online_python_compiler).\n",
    "    * [Trinket.io](https://trinket.io/python).\n",
    "* __Instalando o Interpretador:__<a id=\"instalacao\"></a>\n",
    "    * __Windows__ - Normalmente não possui Python3 instalado, felizmente o processo de instalação é muito simples e envolve apenas baixar o instalador (adequado 32-bit/64-bit) no site da [Python Software Foundation](https://www.python.org), executá-lo.\n",
    "        * Para confirmar a instalação, abra uma __Janela de Comando__ (`Windows + R`, digite `cmd` e tecle `ENTER`).\n",
    "        * Na __Janela de Comando__ digite `python3` e tecle `ENTER`.\n",
    "    * __Linux__ - Há uma grande chance do seu sistema já possuir Python instalado, mas provavelmente não será a versão mais atual. \n",
    "        * Para verificar qual versão instalada basta abrir uma __Janela Terminal__ (`Ctrl+T`) e digite `python --version` e tecle `ENTER`.\n",
    "        * Se a versão exibida for diferente de __Python 3.7.x__ você não possui a versão mais atual lançada até a data em que escrevo esta aula e terá que atualizá-la.\n",
    "        * Para atualizar sua versão recomendo:\n",
    "            * Este tutorial [Instalando Python - RealPython](https://realpython.com/installing-python).\n",
    "            * Ou este vídeo [Como atualizar a versão do Python no Ubuntu](https://www.youtube.com/watch?v=vizOkM02TMQ)\n",
    "    * __Mac OS__ - Uma abordagem bastante recomendada pela comunidade é a instalação utilizando o gerenciador de pacotes __Homebrew__ conforme o tutorial [Instalando Python3 no Mac OS X - Docs Python](https://docs.python-guide.org/starting/install3/osx/).\n",
    "* __Plataforma Anaconda__ - Plataforma de Data Science e Machine Learning em Python/R. Disponível para Linux, Windows e Mac OS X. Download e instalação pelo site da plataforma [Anaconda](https://www.anaconda.com/distribuition/).<a id=\"anaconda\"></a>\n",
    "    * Traz diverso pacotes pré-instalados, além do __Jupyter Notebook__ e __Spyder IDE__.\n",
    "    * Gerenciamento e download de módulos/bibliotecas.\n",
    "    * Desenvolvimento e treino de modelos de __Machine Learning__ utilizando `scikit-learn`, `TensorFlow` e `theano`.\n",
    "    * __Análise de dados, escalabilidade e performance__ utilizando `dask`, `numPy`, `pandas` e `numba`.\n",
    "    * __Visualização__ de resultados com `matplotlib`, `bokeh`, `datashader` e `holoviews`.\n",
    "    \n",
    "\n",
    "### Outras Ferramentas<a id=\"outras\"></a>\n",
    "* __Editor de Texto__ - Ferramenta apenas para edição de código, em geral bom para aprendizagem e scripts.<a id=\"text-editor\"></a>\n",
    "    * `Sublime Text 3`.\n",
    "    * `Atom`.\n",
    "    * `GNU Emacs`.\n",
    "    * `Vi/Vim`.\n",
    "* __Ambiente Integrado de Desenvolvimento (IDE)__ - Fornece um conjunto de ferramentas para codificação, compilação, depuração, execução, controle de versão. Podem possuir outras funções como autocomplete, code snipets, syntax highlighting, drag-drop GUI layout, auto formatting, refactoring, database, browsers, etc.<a id=\"ide\"></a>\n",
    "    * `PyCharm`.\n",
    "    * `Spyder`.\n",
    "    * `Visual Studio Code`.\n",
    "    * `PyDev`.\n",
    "    * `Eclipse`.\n",
    "    * `IDLE`.\n",
    "    * `Wing`.\n",
    "    * `Rodeo`.\n",
    "    * `Thonny`.\n",
    "\n",
    "Qual a melhor opção __Editor de Texto__ ou __IDE__? Minha recomendação:\n",
    "* Para Iniciantes, testem as soluções com o menor número de customizações possíveis. \"Menos é mais!\"\n",
    "* Se você já usa Editores de Texto para outras tarefas (desenvolvimento web por exemplo), uma das opções dentre os Editores de Texto será mais adequada.\n",
    "* Se você já é um desenvolvedor de software e é familiarizado com alguma IDE compatível, traga o Python para dentro do seu mundo, assim vai tirar proveito de todo ferramental que você domina.\n",
    "* Link: [12 Melhores Editores e IDEs para Python](https://www.softwaretestinghelp.com/python-ide-code-editors/amp/)\n"
   ]
  },
  {
   "cell_type": "markdown",
   "metadata": {},
   "source": [
    "## Executando o Interpretador<a id=\"start-int\"></a>\n",
    "\n",
    "Para iniciar o __Interpretador__ digite `python3`, na janela do terminal, e aperte`ENTER`:\n",
    "<pre>\n",
    "$ python3.7.3\n",
    "Python 3.7.3 (default, Mar 27 201, 22:11:17)\n",
    "[GCC 7.3.0] Anaconda, Inc. on linux\n",
    "Type \"help\", \"copyright\", \"credits\" or \"license\" for more information.\n",
    ">>>|\n",
    "</pre>\n",
    "Com isso você instalou o __Interpretador__ e já pode começar a trabalhar com Python3. Para finalizar o __Interpretador__ digite `quit()` e aperte `ENTER`."
   ]
  },
  {
   "cell_type": "markdown",
   "metadata": {},
   "source": [
    "## The Zen of Python<a id=\"zen\"></a>"
   ]
  },
  {
   "cell_type": "markdown",
   "metadata": {},
   "source": [
<<<<<<< HEAD
    "__The Zen of Python__ é uma lista de 19 (talvez exista um 20º) princípios gerais para desenvolvimento."
=======
    "__The Zen of Python__ é uma lista de 19 (talvez 20 ~Easter Egg) princípios gerais para desenvolvimento."
>>>>>>> e82641500564961b2510fd4c08a1718ac89f304e
   ]
  },
  {
   "cell_type": "code",
   "execution_count": 1,
   "metadata": {},
   "outputs": [
    {
     "name": "stdout",
     "output_type": "stream",
     "text": [
      "The Zen of Python, by Tim Peters\n",
      "\n",
      "Beautiful is better than ugly.\n",
      "Explicit is better than implicit.\n",
      "Simple is better than complex.\n",
      "Complex is better than complicated.\n",
      "Flat is better than nested.\n",
      "Sparse is better than dense.\n",
      "Readability counts.\n",
      "Special cases aren't special enough to break the rules.\n",
      "Although practicality beats purity.\n",
      "Errors should never pass silently.\n",
      "Unless explicitly silenced.\n",
      "In the face of ambiguity, refuse the temptation to guess.\n",
      "There should be one-- and preferably only one --obvious way to do it.\n",
      "Although that way may not be obvious at first unless you're Dutch.\n",
      "Now is better than never.\n",
      "Although never is often better than *right* now.\n",
      "If the implementation is hard to explain, it's a bad idea.\n",
      "If the implementation is easy to explain, it may be a good idea.\n",
      "Namespaces are one honking great idea -- let's do more of those!\n"
     ]
    }
   ],
   "source": [
    "import this"
   ]
  },
  {
   "cell_type": "markdown",
   "metadata": {},
   "source": [
    "Vamos entender tais princípios:\n",
    "1. __Beautiful is better than ugly__ _(Bonito é melhor que feio)_\n",
    "    * Em Python, quando existem várias formas para chegar numa solução, escolhemos a __visualmente mais agradável__.\n",
    "1. __Explicit is better than implicit__ _(Explicito é melhor que implicito)_\n",
    "    * Em Python, sempre preferimos a opção mais __legível__, ou seja, aquela que apresenta todos os elementos para se fazer entender.\n",
    "1. __Simple is better than complex__ _(Simples é melhor que complexo)_\n",
    "    * Ao desenvolver um código Python, não busque o caminho mais complexo! Tente manter __simples__!\n",
    "1. __Complex is better than complicated__ _(Complexo é melhor que complicado)_\n",
    "    * Quando a alternativa simples não é possível, fuja da solução complexa.\n",
    "1. __Flat is better than nested__ _(Linear é melhor do que aninhado)_\n",
    "    * Evite criar estruturas dentro de estruturas ... Opte pela alternativa __linear__, sem aninhá-las.\n",
    "1. __Sparde is better than dense__ _(Esparso é melhor que denso)_\n",
    "    * Não tente amontoar código!\n",
    "1. __Readability counts__ _(Legibilidade conta)_\n",
    "    * Ao terminar de desenvolver, verifique a __legibilidade__ do seu código.\n",
    "1. __Special cases aren't special enough to break the rules. Athough praticality beats purity__ _(Casos especiais não são especiais o bastante para quebrar as regras. Ainda que praticidade vença a pureza)_\n",
    "    * __Nenhum caso__ é tão especial a ponto de passar por cima das regras!\n",
    "1. __Erros should never pass silently. Unless expliciy silenced__ _(Erros nunca devem passar silenciosamente. A menos que sejam explicitamente silenciados)_\n",
    "    * Silenciar exceções é um erro grave de manuntenção de código, pois pode esconder um erro crítico!\n",
    "1. __In the face of ambiguity, refuse the temptation to guess__ _(Diante da ambiguidade, recuse a tentação de adivinhar)_\n",
    "    * Mantenha seu código específico, limpo, visualmente agradável e sem ambiguidade.\n",
    "1. __There should be one - and preferably only one - obvious way to do it. Although that way may note be obvious at first unless you're Dutch__ _(Deveria haver um - e preferencialmente apenas um - modo óbvio para fazer algo. Embora esse modo possa não ser óbvio a princípio a menos que você seja \"Holandês\")_\n",
    "    * Python defende que __deve__ existir apenas uma maneira de se chegar a uma solução do problema. É isso que torna Python __tão simples__.\n",
    "    * A segunda parte é apenas uma referência ao criador do Python, Guido van Rossum - que é holandês. E por isso para ele aprender algo relacionado a linguagem seria muito mais fácil.\n",
    "1. __Now is better than never. Although neve is often better than right now__ _(Agora é melhor que nunca. Embora nunca frequentemente seja melhor que já)_\n",
    "    * Primeiramente, não gaste seu tempo demasiadamente com planejamento, as vezes é melhor fazer uma primeira versão e iterar adicionando pequenas melhorias até ter uma versão final.\n",
    "    * Mas mesmo assim, nunca saia fazendo _qualquer coisa_ , apenas pelo fato de se ter algo.\n",
    "1. __If the implementation is hard to explain, it's a bad idea__ _(Se a implementação é difícil de explicar, é uma má ideia)_\n",
    "    * Se a sua solução é de difícil entendimento, revise-a!\n",
    "1. __If the implementation is easy to explain, it may be a good idea__ _(Se a implementação é fácil de explicar, pode ser uma boa ideia)_\n",
    "    * Agora, se a solução é simples de ser explicada, ela __pode ser__ uma boa ideia.\n",
    "1. __Namespaces are one honking great idea -- let's do more of those!__ _(Namespaces são uma grande ideia - vamos ter mais dessas)_\n",
    "\n",
    "<b>Fontes:</b> \n",
    "* [What do different aphorisms in The Zen of Python means?](https://www.quora.com/What-do-different-aphorisms-in-The-Zen-of-Python-mean)\n",
    "* [A Brief Analysis of \"The Zen of Python\"](https://medium.com/@Pythonidaer/a-brief-analysis-of-the-zen-of-python-2bfd3b76edbf)"
   ]
  },
  {
   "cell_type": "markdown",
   "metadata": {},
   "source": [
<<<<<<< HEAD
    "<img src=\"img/devcated-logo-black.png\" alt=\"Devcated Logo\" width=\"180\">\n",
=======
    "<img src=\"devcated-logo-black.png\" alt=\"Devcated Logo\" width=\"180\">\n",
>>>>>>> e82641500564961b2510fd4c08a1718ac89f304e
    "<p><center>&copy; 2019</center></p>"
   ]
  }
 ],
 "metadata": {
  "kernelspec": {
   "display_name": "Python 3",
   "language": "python",
   "name": "python3"
  },
  "language_info": {
   "codemirror_mode": {
    "name": "ipython",
    "version": 3
   },
   "file_extension": ".py",
   "mimetype": "text/x-python",
   "name": "python",
   "nbconvert_exporter": "python",
   "pygments_lexer": "ipython3",
   "version": "3.7.3"
  }
 },
 "nbformat": 4,
 "nbformat_minor": 2
}
