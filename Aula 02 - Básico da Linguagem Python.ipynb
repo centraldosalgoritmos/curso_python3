{
 "cells": [
  {
   "cell_type": "markdown",
   "metadata": {},
   "source": [
    "<img src=\"../img/header-no-links.png\" alt=\"Devcated Banner\" width=\"100%\">\n",
    "<a href=\"https://www.linkedin.com/in/marcosmapl\"><img style=\"position:absolute;top:255px;left:1070px;\" src=\"../img/linkedin.png\" alt=\"Linkedin Logo\" width=\"32\"></a>\n",
    "<a href=\"https://github.com/devcated/curso_python3\"><img style=\"position:absolute;top:255px;left:1035px;\" src=\"../img/github-logo.png\" alt=\"Github repositório\" width=\"32\"></a>\n",
    "<a href=\"https://www.youtube.com/channel/UC7XyhhdgvWNIskpPiX_Y6mA\"><img style=\"position:absolute;top:255px;left:930px\" src=\"../img/subscribe.png\" alt=\"Subscribe at my Channel\" width=\"100\"></a>\n",
    "<h1 style=\"float:left\"> Curso Python - Aula 02 - Básico da Linguagem<h1>\n",
    "<h2> Marcos Avner P. de Lima </h2>\n",
    "marcos.lima@icomp.ufam.edu.br"
   ]
  },
  {
   "cell_type": "markdown",
   "metadata": {},
   "source": [
    "## Roteiro\n",
    "* [Keywords - Palavras reservadas](#keywords)\n",
    "* [Identificadores](#identifiers)\n",
    "* [Variáveis](#variables)\n",
    "    * [Referência para Objetos](#ref-obj)\n",
    "    * [Referência Dinâmica e Tipos Fortes](#ref-din)\n",
    "* [Estrutura de um Programa em Python](#structure)\n",
    "* [Formato de Arquivo e Codificação](#code-style)\n",
    "    * [Identação](#identation)\n",
    "    * [Comprimento da Linha de Código](#line-len)\n",
    "    * [Importação de Módulos](#import)\n",
    "    * [Comentários](#comments)\n",
    "* [Execução de Código](#exec)"
   ]
  },
  {
   "cell_type": "markdown",
   "metadata": {},
   "source": [
    "## Keywords<a id=\"keywords\"></a>\n",
    "\n",
    "São termos únicos pertencentes a linguagem que possuem um significado especial (executam algum tipo de comando ou ação). Juntos eles formam o vocabulário da linguagem Python, representando a sintaxe e estrutura de um programa."
   ]
  },
  {
   "cell_type": "code",
   "execution_count": 1,
   "metadata": {},
   "outputs": [
    {
     "data": {
      "text/plain": [
       "['False',\n",
       " 'None',\n",
       " 'True',\n",
       " 'and',\n",
       " 'as',\n",
       " 'assert',\n",
       " 'async',\n",
       " 'await',\n",
       " 'break',\n",
       " 'class',\n",
       " 'continue',\n",
       " 'def',\n",
       " 'del',\n",
       " 'elif',\n",
       " 'else',\n",
       " 'except',\n",
       " 'finally',\n",
       " 'for',\n",
       " 'from',\n",
       " 'global',\n",
       " 'if',\n",
       " 'import',\n",
       " 'in',\n",
       " 'is',\n",
       " 'lambda',\n",
       " 'nonlocal',\n",
       " 'not',\n",
       " 'or',\n",
       " 'pass',\n",
       " 'raise',\n",
       " 'return',\n",
       " 'try',\n",
       " 'while',\n",
       " 'with',\n",
       " 'yield']"
      ]
     },
     "execution_count": 1,
     "metadata": {},
     "output_type": "execute_result"
    }
   ],
   "source": [
    "import keyword\n",
    "\n",
    "keyword.kwlist"
   ]
  },
  {
   "cell_type": "markdown",
   "metadata": {},
   "source": [
    "OBS: Python é uma linguagem `Case Sensitive`. Isso significa que `try` é uma __keyword__  enquanto `TRY` não!"
   ]
  },
  {
   "cell_type": "markdown",
   "metadata": {},
   "source": [
    "## Identificadores<a id=\"identifiers\"></a>\n",
    "\n",
    "Identificadores são nomes definidos pelos programadores para representar uma variável, função, classe, módulo ou outro objeto.\n",
    "\n",
    "Python possui alguma regras para definição de identificadores:\n",
    "\n",
    "* Na composição do nome do identificador só serão aceitos __letras__ `[a-zA-Z]`, __digitos__ `[0-9]` ou __underscore__ `[_]`.\n",
    "* Não é permitido começar o nome do identificador com um __digito__ `[0-9]`.\n",
    "* Não é permitido usar __keywords__ como nome de identificadores.\n",
    "* Não é permitido uso de __caractere de pontuação__ `[. ! @ # * / % + -]` no nome de identificadores. Alguns destes símbolos são __operadores__ da linguagem Python.\n",
    "* OBS: Não há nenhuma restrição quanto o tamanho (quantidade de caracteres) máximo do nome de um identificador, porém a [Python Enhancement Proposal (PEP) - 8: Style Guide For Python Code](https://www.python.org/dev/peps/pep-0008/) recomenda limitar todas as linhas de um programa a 79 characteres."
   ]
  },
  {
   "cell_type": "code",
   "execution_count": 2,
   "metadata": {},
   "outputs": [
    {
     "data": {
      "text/plain": [
       "False"
      ]
     },
     "execution_count": 2,
     "metadata": {},
     "output_type": "execute_result"
    }
   ],
   "source": [
    "# Testando se um identificador é válido\n",
    "keyword.iskeyword('devcated')"
   ]
  },
  {
   "cell_type": "code",
   "execution_count": 3,
   "metadata": {},
   "outputs": [
    {
     "data": {
      "text/plain": [
       "True"
      ]
     },
     "execution_count": 3,
     "metadata": {},
     "output_type": "execute_result"
    }
   ],
   "source": [
    "keyword.iskeyword('try')"
   ]
  },
  {
   "cell_type": "code",
   "execution_count": 4,
   "metadata": {},
   "outputs": [
    {
     "data": {
      "text/plain": [
       "False"
      ]
     },
     "execution_count": 4,
     "metadata": {},
     "output_type": "execute_result"
    }
   ],
   "source": [
    "# python 3.0\n",
    "'devcated.com'.isidentifier()"
   ]
  },
  {
   "cell_type": "code",
   "execution_count": 5,
   "metadata": {},
   "outputs": [
    {
     "data": {
      "text/plain": [
       "True"
      ]
     },
     "execution_count": 5,
     "metadata": {},
     "output_type": "execute_result"
    }
   ],
   "source": [
    "'devcated_com'.isidentifier()"
   ]
  },
  {
   "cell_type": "markdown",
   "metadata": {},
   "source": [
    "Algumas boas práticas para nomenclatura de identificadores:\n",
    "* Nome de __Classes__ com primeira letra maiúscula: \n",
    "    * `Carro`\n",
    "    * `ContaBancaria` \n",
    "    * `Reserva`\n",
    "* Identificadores __privados__ devem começar com `_`. \n",
    "    * `_salario`\n",
    "    * `_config`\n",
    "    * `_status`\n",
    "* Use nomes que possuam __significado__ e representem o dado armazenado. \n",
    "    * `s = 1000.50`, Soma? Salario? Desvio Padrão? `saldo_conta = 1000.50`!"
   ]
  },
  {
   "cell_type": "markdown",
   "metadata": {},
   "source": [
    "## Variáveis<a id=\"variables\"></a>\n",
    "\n",
    "No geral um programa consiste de numa __instruções__ que serão executadas e __dados__ que serão manipulados por tais instruções.\n",
    "\n",
    "Os __dados__ ficam armazenados em regiões endereçadas da memória, cada memória possui milhares de endereços numéricos e únicos. Agora imagine se tivermos que gravar, para cada dado manipulado em nosso programa, seu endereço de memória? Muito complicado!\n",
    "\n",
    "Pensando nisso, criou-se o conceito de __variáveis__ que são endereços de memória representados por um `identificador`, pois é muito mais intuitivo lembrar que um dado relacionado ao salario está armazenado em na variável `salario_bruto`, ou que o modelo de um carro está armazenado em `modelo_carro`, do que no endereço `0xFF081632`!\n",
    "\n",
    "Dito isto, podemos então definir uma __variável__ como  um local na memória __nomeado__ ( _alias_ ), onde foi armazenado algum __dado__ ( _idade, nome, salário, etc._ ).\n",
    "\n",
    "Em Python uma __variável__ é criada quando lhe associamos um valor (dado), tal processo é chamado de `atribuição` ou `vinculaçaõ (binding)`. Usamos o operador `=` para atribuir um valor a uma variável:"
   ]
  },
  {
   "cell_type": "code",
   "execution_count": 6,
   "metadata": {},
   "outputs": [],
   "source": [
    "idade = 30\n",
    "altura = 1.85\n",
    "peso = 102\n",
    "nome = 'Anthony Edward \"Tony\" Stark'\n",
    "masculino = True"
   ]
  },
  {
   "cell_type": "code",
   "execution_count": 7,
   "metadata": {},
   "outputs": [
    {
     "name": "stdout",
     "output_type": "stream",
     "text": [
      "Anthony Edward \"Tony\" Stark\n",
      "30\n"
     ]
    }
   ],
   "source": [
    "# Em python usamos a função print() para imprimir valores de variáveis no console\n",
    "print(nome)\n",
    "print(idade)"
   ]
  },
  {
   "cell_type": "code",
   "execution_count": 8,
   "metadata": {},
   "outputs": [
    {
     "name": "stdout",
     "output_type": "stream",
     "text": [
      "35\n"
     ]
    }
   ],
   "source": [
    "# Podemos modificar o valor armazenado na variável atribuindo um novo valor\n",
    "idade = 35\n",
    "print(idade)"
   ]
  },
  {
   "cell_type": "markdown",
   "metadata": {},
   "source": [
    "### Referência para Objetos<a id=\"ref-obj\"></a>\n",
    "    \n",
    "Em Python quando fazemos uma atribuição a uma variável, estamos criando uma `referência` ao `objeto` armazenado na memória. Para ilustrar considere uma `lista` de números inteiros:"
   ]
  },
  {
   "cell_type": "code",
   "execution_count": 9,
   "metadata": {},
   "outputs": [
    {
     "data": {
      "text/plain": [
       "[3, 1, 2, 4]"
      ]
     },
     "execution_count": 9,
     "metadata": {},
     "output_type": "execute_result"
    }
   ],
   "source": [
    "a = [3,1,2,4]\n",
    "a"
   ]
  },
  {
   "cell_type": "markdown",
   "metadata": {},
   "source": [
    "Suponha que vamos atribuir a variável `a` a uma nova variável `b`:"
   ]
  },
  {
   "cell_type": "code",
   "execution_count": 10,
   "metadata": {},
   "outputs": [
    {
     "data": {
      "text/plain": [
       "[3, 1, 2, 4]"
      ]
     },
     "execution_count": 10,
     "metadata": {},
     "output_type": "execute_result"
    }
   ],
   "source": [
    "b = a\n",
    "b"
   ]
  },
  {
   "cell_type": "markdown",
   "metadata": {},
   "source": [
    "Em algumas linguagens, essa atribuição faria os dados __[3,1,2,4]__ serem copiados.\n",
    "Em Python, `a` e `b`, na verdade, agora se referem ao mesmo objeto: uma `list`.\n",
    "Para comprovar isto, vamos adicionar um novo elemento a `b`:"
   ]
  },
  {
   "cell_type": "code",
   "execution_count": 11,
   "metadata": {},
   "outputs": [
    {
     "data": {
      "text/plain": [
       "([3, 1, 2, 4, 0], [3, 1, 2, 4, 0])"
      ]
     },
     "execution_count": 11,
     "metadata": {},
     "output_type": "execute_result"
    }
   ],
   "source": [
    "b.append(0)\n",
    "a,b"
   ]
  },
  {
   "cell_type": "markdown",
   "metadata": {},
   "source": [
    "### Referências Dinâmicas e Tipos Fortes<a id=\"ref-din\"></a>\n",
    "\n",
    "Em contraste com muitas linguagens compiladas como Java e C++, as variáveis em Python não possuem um tipo predefinido. Não a problemas em alterar o `objeto` referênciado:"
   ]
  },
  {
   "cell_type": "code",
   "execution_count": 12,
   "metadata": {},
   "outputs": [
    {
     "data": {
      "text/plain": [
       "int"
      ]
     },
     "execution_count": 12,
     "metadata": {},
     "output_type": "execute_result"
    }
   ],
   "source": [
    "a = 5\n",
    "type(a)"
   ]
  },
  {
   "cell_type": "code",
   "execution_count": 13,
   "metadata": {},
   "outputs": [
    {
     "data": {
      "text/plain": [
       "str"
      ]
     },
     "execution_count": 13,
     "metadata": {},
     "output_type": "execute_result"
    }
   ],
   "source": [
    "a = 'foo'\n",
    "type(a)"
   ]
  },
  {
   "cell_type": "markdown",
   "metadata": {},
   "source": [
    "## Estrutura de um Programa em Python<a id=\"structure\"></a>\n",
    "\n",
    "Programas em Python podem ser decompostos em `módulos`, `instruções`, `expressões` e `objetos`:\n",
    "1. Programas são compostos por `módulos`\n",
    "2. Módulos contém `instruções`\n",
    "3. Instruções são formadas por `expressões`\n",
    "4. Expressões criam e manipulam `objetos`\n",
    "\n",
    "Veja o exemplo abaixo:"
   ]
  },
  {
   "cell_type": "code",
   "execution_count": 24,
   "metadata": {},
   "outputs": [
    {
     "name": "stdout",
     "output_type": "stream",
     "text": [
      "0    10\n",
      "1    16\n",
      "2    35\n",
      "3    33\n",
      "4    51\n",
      "dtype: int64\n",
      "43.57142857142857\n",
      "41.0\n"
     ]
    }
   ],
   "source": [
    "# importação do módulo Pandas, com o 'alias' pd\n",
    "import pandas as pd\n",
    "\n",
    "# cria um novo Objeto do tipo 'list' contendo números inteiros\n",
    "lista = [10,16,35,33,51,49,62,80,5,27,38,44,67,93]\n",
    "\n",
    "# utilizo o módulo 'Pandas' para criar um 'vetor' unidimensional com os elementos da lista\n",
    "serie = pd.Series(lista)\n",
    "\n",
    "# imprime os 5 primeiros elementos\n",
    "print(serie.head())\n",
    "\n",
    "# imprime a 'média' dos elementos\n",
    "print(serie.mean())\n",
    "\n",
    "# imprime a 'mediana' dos elementos\n",
    "print(serie.median())"
   ]
  },
  {
   "cell_type": "markdown",
   "metadata": {},
   "source": [
    "## Formato de Arquivo e Codificação ([PEP 8](https://www.python.org/dev/peps/pep-0008/) )<a id=\"code-style\"></a> \n",
    "\n",
    "Código fonte Python é salvo em arquivos texto com extensão `.py`. Todo código Python deve se possível usar codificação `UTF-8`.\n",
    "\n",
    "### Identação<a id=\"identation\"></a>\n",
    "\n",
    "Python apesar de ser derivada da `Linguagem C` não utiliza chaves para organizar a estrutura do código. Em vez disso, Python utiliza espaços em branco (tabulações ou espaços). Considere uma pequena função para encontrar o maior valor entre dois argumentos:"
   ]
  },
  {
   "cell_type": "code",
   "execution_count": 14,
   "metadata": {},
   "outputs": [
    {
     "name": "stdout",
     "output_type": "stream",
     "text": [
      "5\n"
     ]
    }
   ],
   "source": [
    "# Add 4 spaces (an extra level of indentation) to distinguish arguments from the rest.\n",
    "def maior(x, y):\n",
    "    if (x > y):\n",
    "        return x\n",
    "    else:\n",
    "        return y\n",
    "\n",
    "print(maior(5,3))"
   ]
  },
  {
   "cell_type": "markdown",
   "metadata": {},
   "source": [
    "Percebemos os seguintes elementos:\n",
    "* `Dois-pontos (:)` para indicar o início de um bloco de código indentado.\n",
    "* * Não há chaves para identificar `blocos de código`, `classes`, `controles de fluxo` ou `funções`.\n",
    "* `Blocos de código` são identificado pela identação.\n",
    "* Não há necessidade de `ponto e vígula (;)` para indicar o término de uma instrução. Por ser derivada da `linguagem C` o `;` ainda pode ser utiizado para separar diversas instruções em uma única linha:\n",
    "    * `continuar = False, contador = contador + 1, error = 'Overflow'`\n",
    "\n",
    "Recomendo fortemente que você use `4 espaços` como sua indentação padrão, pois são o padrão adotado pela grande maioria dos Programadores Python."
   ]
  },
  {
   "cell_type": "markdown",
   "metadata": {},
   "source": [
    "### Comprimento da Linha de Código<a id=\"line-len\"></a>\n",
    "\n",
    "Limite todas as linhas a um __máximo__ de `79 caracteres`. Limitar a largura da janela do editor possibilita a abertura de vários arquivos lado a lado e funciona bem ao usar ferramentas de revisão de código que apresentam as duas versões em colunas adjacentes."
   ]
  },
  {
   "cell_type": "code",
   "execution_count": 15,
   "metadata": {},
   "outputs": [
    {
     "name": "stdout",
     "output_type": "stream",
     "text": [
      "aisudhauishduiasdhuiahsduianvjsnfdbmadfhmadfhopadmhokjandhkmsjgnhasnfjojasfgkoanfdgoadfngahdfjhgfghjklçjhgfhjklhghjkljhgjkljhgjkjhg\n",
      "aonoaisgnoaifjiafjioajgoiafjgaiodfjgioadjfgioajdfgajndfoafiadsiogjadiofgjaiodfgjadjfioajfioajfgiojadaksdnfosdngodanfgioadfgmaodfgmadfigmaoidfmgoaifmgikdofoagiamfgmoadfnhoadfmhojadfnhoadfmhoafhoandfhio\n"
     ]
    }
   ],
   "source": [
    "l1 = \"aisudhauishduiasdhuiahsduianvjsnfdbmadfhmadfhopadmhokjandhkmsjgnhasnfjojasfgkoanfdgoadfngahdfjhgfghjklçjhgfhjklhghjkljhgjkljhgjkjhg\"\n",
    "l2 = \"aonoaisgnoaifjiafjioajgoiafjgaiodfjgioadjfgioajdfg\" \\\n",
    "                    \"ajndfoafiadsiogjadiofgjaiodfgjadjfioajfioajfgiojad\" \\\n",
    "                    \"aksdnfosdngodanfgioadfgmaodfgmadfigmaoidfmgoaifmgi\" \\\n",
    "                    \"kdofoagiamfgmoadfnhoadfmhojadfnhoadfmhoafhoandfhio\"\n",
    "print(l1)\n",
    "print(l2)"
   ]
  },
  {
   "cell_type": "markdown",
   "metadata": {},
   "source": [
    "### Importação de Módulos<a id=\"import\"></a>\n",
    "\n",
    "Devem vir nas primeiras linhas do arquivo de código, logo após quaisquer comentários e textos de documentação. As importações geralmente devem estar em linhas separadas e agrupadas na seguite ordem:\n",
    "* Importações de `módulos padrão` da linguagem.\n",
    "* Importações de `módulos de terceiros` relacionadas ao projeto.\n",
    "* Importações `específicas de aplicativos` ou `bibliotecas locais`.\n",
    "\n",
    "OBS: É aconselhável colocar uma linha em branco entre cada grupo de importações."
   ]
  },
  {
   "cell_type": "code",
   "execution_count": 16,
   "metadata": {},
   "outputs": [
    {
     "name": "stdout",
     "output_type": "stream",
     "text": [
      "posix\n",
      "<module 'posixpath' from '/home/marcoslima/anaconda3/lib/python3.7/posixpath.py'>\n",
      "1013\n",
      "3.7.3 (default, Mar 27 2019, 22:11:17) \n",
      "[GCC 7.3.0]\n",
      "sys.version_info(major=3, minor=7, micro=3, releaselevel='final', serial=0)\n",
      "2019-10-13 17:39:30.637532\n"
     ]
    }
   ],
   "source": [
    "import os\n",
    "import sys\n",
    "\n",
    "import datetime as dt\n",
    "\n",
    "print(os.name)\n",
    "print(os.path)\n",
    "\n",
    "print(sys.api_version)\n",
    "print(sys.version)\n",
    "print(sys.version_info)\n",
    "\n",
    "print(dt.datetime.now())"
   ]
  },
  {
   "cell_type": "markdown",
   "metadata": {},
   "source": [
    "### Comentários<a id=\"comments\"></a>\n",
    "\n",
    "Os comentários são parte integrante de qualquer programa. Eles podem vir na forma de `docstrings` no nível do módulo, ou mesmo explicações em linha que ajudam a esclarecer uma função complexa.\n",
    "\n",
    "Os comentários devem ser __frases completas__ e __escritos se possível em inglês__, a menos que você tenha 1000% de certeza de que o código nunca será lido por pessoas que não falam seu idioma.\n",
    "\n",
    "Para escrever um comentário em Python, basta preceder o texto do comentário pelo `sinal de sustenido (#)`:"
   ]
  },
  {
   "cell_type": "code",
   "execution_count": 17,
   "metadata": {},
   "outputs": [
    {
     "name": "stdout",
     "output_type": "stream",
     "text": [
      "Olá!\n"
     ]
    }
   ],
   "source": [
    "# isto é um comentário em linha e será ignorado\n",
    "\n",
    "'''\n",
    "Comentários em várias linhas\n",
    "Linha 01\n",
    "Linha 02\n",
    "Linha 03\n",
    "'''\n",
    "\n",
    "print(\"Olá!\") # outro comentário que será ignorado"
   ]
  },
  {
   "cell_type": "markdown",
   "metadata": {},
   "source": [
    "No entanto, tenha cuidado ao colocar esses __comentários multilinhas__. Dependendo de onde eles estão no seu programa, eles podem se transformar em [docstrings](https://www.python.org/dev/peps/pep-0257/), que são peças de documentação associadas a uma função ou método."
   ]
  },
  {
   "cell_type": "markdown",
   "metadata": {},
   "source": [
    "## Execução de Código<a id=\"exec\"></a>\n",
    "\n",
    "* __Código-fonte__: Escrito num arquivo texto com codificação `UTF-8` e extensão `.py`.\n",
    "* __Byte-code__: O `código-fonte` é então convertido em `byte code`, ou seja, para um série de instruções compreensíveis pela máquina.\n",
    "* __PVM__: O `byte code` é executado dentro da `Python Virtual Machine`.\n",
    "<img src=\"../img/pvm.png\" alt=\"Python Virtual Machine\">"
   ]
  },
  {
   "cell_type": "markdown",
   "metadata": {},
   "source": [
    "<img style=\"float:center;z-index:1;position:relative\" src=\"../img/footer-background.png\" alt=\"footer-bk\" width=\"100%\">\n",
    "<p style=\"float:center;z-index:2;position:absolute;top:75px;left:590px\">&copy; 2019</p>"
   ]
  }
 ],
 "metadata": {
  "kernelspec": {
   "display_name": "Python 3",
   "language": "python",
   "name": "python3"
  },
  "language_info": {
   "codemirror_mode": {
    "name": "ipython",
    "version": 3
   },
   "file_extension": ".py",
   "mimetype": "text/x-python",
   "name": "python",
   "nbconvert_exporter": "python",
   "pygments_lexer": "ipython3",
   "version": "3.7.5"
  }
 },
 "nbformat": 4,
 "nbformat_minor": 2
}
