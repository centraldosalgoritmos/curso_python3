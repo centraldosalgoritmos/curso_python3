{
 "cells": [
  {
   "cell_type": "markdown",
   "metadata": {},
   "source": [
    "<img src=\"./img/channel-art.png\" alt=\"O Mago dos Bits - Channel Art\" width=\"100%\">\n",
    "\n",
    "# Curso Python - Aula 03 - Operadores & Números\n",
    "\n",
    "__Marcos Avner P. de Lima__\n",
    "\n",
    "marcos.lima@icomp.ufam.edu.br"
   ]
  },
  {
   "cell_type": "markdown",
   "metadata": {},
   "source": [
    "***\n",
    "## Roteiro\n",
    "* [1. Operadores](#1.-Operadores)\n",
    "    * [1.1 Operadores Aritméticos](#1.1-Operadores-Aritméticos)\n",
    "        * [1.1.1 Uso dos Parênteses](#1.1.1-Uso-dos-Parênteses)\n",
    "    * [1.2 Operador de Atribuição](#1.2-Operador-de-Atribuição)\n",
    "* [2. Tipos de Dados](#2.-Tipos-de-Dados)\n",
    "    * [2.1 Função type()](#2.1-Função-type)\n",
    "* [3. Tipos Numéricos](#3-Tipos-Numéricos)\n",
    "    * [3.1 Inteiros - int](#3.1-Inteiros)\n",
    "        * [3.1.1 Função bin()](#3.1.1-Função-bin)\n",
    "        * [3.1.2 Função oct()](#3.1.2-Função-oct)\n",
    "        * [3.1.3 Função hex()](#3.1.3-Função-hex)\n",
    "        * [3.1.4 Função bit_length()](#3.1.4-Função-bit_length)\n",
    "        * [3.1.5 Ordem dos Bits](#3.1.5-Ordem-dos-Bits)\n",
    "        * [3.1.6 Função to_bytes()](#3.1.6-Função-to_bytes)\n",
    "        * [3.1.7 Função from_bytes()](#3.1.7-Função-from_bytes)\n",
    "* [4. Operadores Bitwise](#4.-Operadores-de-Bits)\n",
    "* [5. Booleanos - _boolean_](#5.-Booleanos)\n",
    "    * [5.1 Operador Identidade - is](#5.1-Operador-Identidade-is)\n",
    "* [6. Operadores Lógicos](#6.-Operadores-Lógicos)\n",
    "    * [6.1 Short-Circuits](#6.1-Short-Circuits)\n",
    "* [7. Operadores Lógicos Bitwise](#7.-Operadores-Lógicos-Bitwise)\n",
    "    * [7.1 Operador AND Bitwise - &](#7.1-Operador-AND-Bitwise-&)\n",
    "    * [7.2 Operador OR Bitwise - |](#7.2-Operador-OR-Bitwise-|)\n",
    "    * [7.3 Operador XOR Bitwise - ^](#7.3-Operador-XOR-Bitwise-^)"
   ]
  },
  {
   "cell_type": "markdown",
   "metadata": {},
   "source": [
    "***\n",
    "## 1. Operadores\n",
    "\n",
    "Em Python utilizamos __operadores__ para manipular dados armazenados em __variáveis__. Python fornece os seguintes tipos de operadores:\n",
    "* Aritméticos\n",
    "* Atribuição\n",
    "* Relacionais\n",
    "* Lógicos\n",
    "* Bitwise\n",
    "* Membership\n",
    "* Identidade\n",
    "\n",
    "Veja a tabela de operadores abaixo:\n",
    "<table style=\"font-size: 16px;font-family:'Courier New';width:100%;border:solid 1px black\">\n",
    "    <thead>\n",
    "        <th width=\"15%\"><center>Operador</center></th>\n",
    "        <th width=\"60%\"><center>Descrição</center></th>\n",
    "        <th><center>Categoria</center></th>\n",
    "    </thead>\n",
    "    <tr style=\"border:solid 1px black;\">\n",
    "        <td><center>( )</center></td>\n",
    "        <td><p>Parênteses (Parentheses/Grouping)</p></td>\n",
    "        <td><center>-</center></td>\n",
    "    </tr>\n",
    "    <tr style=\"border:solid 1px black\">\n",
    "        <td><center>x ** y</center></td>\n",
    "        <td><p>Potenciação (Exponentiation)</p></td>\n",
    "        <td><center>Aritmético</center></td>\n",
    "    </tr>\n",
    "    <tr style=\"border:solid 1px black\">\n",
    "        <td><center>~x</center></td>\n",
    "        <td><p>Complemento de 1 (Bitwise not)</p></td>\n",
    "        <td><center>Bitwise</center></td>\n",
    "    </tr>\n",
    "    <tr style=\"border:solid 1px black\">\n",
    "        <td><center>+x<br />-x</center></td>\n",
    "        <td><p>Positivo (Unary Plus)<br />Negativo (Unary Minus)</p></td>\n",
    "        <td><center>Aritmético</center></td>\n",
    "    </tr>\n",
    "    <tr style=\"border:solid 1px black\">\n",
    "        <td><center>x * y<br />x / y<br />x % y</center></td>\n",
    "        <td><p>Multiplicação (Multiplication)<br />Divisão (Division)<br />Resto (Modulus)</p></td>\n",
    "        <td><center>Aritmético</center></td>\n",
    "    </tr>\n",
    "    <tr style=\"border:solid 1px black\">\n",
    "        <td><center>x + y<br />x - y</center></td>\n",
    "        <td><p>Adição (Addition)<br />Subtração (Subtraction)</p></td>\n",
    "        <td><center>Aritmético</center></td>\n",
    "    </tr>\n",
    "    <tr style=\"border:solid 1px black\">\n",
    "        <td><center> x << y <br /> x >> y </center></td>\n",
    "        <td><p>Deslocamento de bits a Esquerda (Bitwise Left Shift)<br />Deslocamento de bits a Direita (Bitwise Right Shift)</p></td>\n",
    "        <td><center>Bitwise</center></td>\n",
    "    </tr>\n",
    "    <tr style=\"border:solid 1px black\">\n",
    "        <td><center>x & y</center></td>\n",
    "        <td><p>AND bit-a-bit</p></td>\n",
    "        <td><center>Bitwise</center></td>\n",
    "    </tr>\n",
    "    <tr style=\"border:solid 1px black\">\n",
    "        <td><center>x ^ y</center></td>\n",
    "        <td><p>XOR bit-a-bit</p></td>\n",
    "        <td><center>Bitwise</center></td>\n",
    "    </tr>\n",
    "    <tr style=\"border:solid 1px black\">\n",
    "        <td><center>x | y</center></td>\n",
    "        <td><p>OR bit-a-bit</p></td>\n",
    "        <td><center>Bitwise</center></td>\n",
    "    </tr>\n",
    "    <tr style=\"border:solid 1px black\">\n",
    "        <td><center>x in y<br />x not in y<br />x is y<br />x is not y</center></td>\n",
    "        <td><p>Membership<br /><br />Identidade</p></td>\n",
    "        <td><center>Membership<br />Identidade</center></td>\n",
    "    </tr>\n",
    "    <tr style=\"border:solid 1px black\">\n",
    "        <td><center>x < y <br /> x <= y <br /> x > y <br /> x >= y <br /> x != y <br /> x == y </center></td>\n",
    "        <td><p>Menor que (Less Than)<br /> Menor ou Igual (Less or Equal)<br />Maior que (Greater Than)<br />Maior ou Igual (Greater or Equal)<br />Diferente (Not Equal)<br />Igual (Equal)</p></td>\n",
    "        <td><center>Relacionais</center></td>\n",
    "    </tr>\n",
    "    <tr style=\"border:solid 1px black\">\n",
    "        <td><center>not x</center></td>\n",
    "        <td><p>NÃO lógico (Boolean NOT)</p></td>\n",
    "        <td><center>Lógicos</center></td>\n",
    "    </tr>\n",
    "    <tr style=\"border:solid 1px black\">\n",
    "        <td><center>x and y</center></td>\n",
    "        <td><p>E lógico (Boolean AND)</p></td>\n",
    "        <td><center>Lógicos</center></td>\n",
    "    </tr>\n",
    "    <tr style=\"border:solid 1px black\">\n",
    "        <td><center>x or y</center></td>\n",
    "        <td><p>OU lógico (Boolean OR)</p></td>\n",
    "        <td><center>Lógico</center></td>\n",
    "    </tr>\n",
    "</table"
   ]
  },
  {
   "cell_type": "markdown",
   "metadata": {},
   "source": [
    "***\n",
    "### 1.1 Operadores Aritméticos\n",
    "\n",
    "São a base dos cálculos matemáticos."
   ]
  },
  {
   "cell_type": "code",
   "execution_count": 1,
   "metadata": {},
   "outputs": [
    {
     "name": "stdout",
     "output_type": "stream",
     "text": [
      "7\n",
      "2\n",
      "-5\n",
      "5\n"
     ]
    }
   ],
   "source": [
    "# Operador Aritmético de Adição\n",
    "print(5 + 2)\n",
    "\n",
    "# Operador Aritmético de Subtração\n",
    "print(5 - 3)\n",
    "\n",
    "# Operador Aritméticos Unário Positivo\n",
    "print(+(-5))\n",
    "\n",
    "# Operador Aritméticos Unário Negativo\n",
    "print(-(-5))"
   ]
  },
  {
   "cell_type": "code",
   "execution_count": 2,
   "metadata": {},
   "outputs": [
    {
     "name": "stdout",
     "output_type": "stream",
     "text": [
      "15\n",
      "1.6666666666666667\n",
      "1\n"
     ]
    }
   ],
   "source": [
    "# Operador Aritmético de Multiplicação\n",
    "print(5 * 3)\n",
    "\n",
    "# Operador Aritmético de Divisão Ponto Flutuante\n",
    "print(5 / 3)\n",
    "\n",
    "# Operador Aritmético de Divisão Inteira\n",
    "print(5 // 3)"
   ]
  },
  {
   "cell_type": "code",
   "execution_count": 3,
   "metadata": {},
   "outputs": [
    {
     "name": "stdout",
     "output_type": "stream",
     "text": [
      "125\n",
      "1\n"
     ]
    }
   ],
   "source": [
    "# Operador Aritmético de Potenciação\n",
    "print(5 ** 3)\n",
    "\n",
    "# Operador Aritmético de Módulo\n",
    "print(10 % 3)"
   ]
  },
  {
   "cell_type": "markdown",
   "metadata": {},
   "source": [
    "#### 1.1.1 Uso dos Parênteses\n",
    "\n",
    "Assim como na matemática os `( )` podem ser utilizados para agrupar termos e alterar a ordem de avaliação dos operadores em uma expressão:"
   ]
  },
  {
   "cell_type": "code",
   "execution_count": 4,
   "metadata": {},
   "outputs": [
    {
     "name": "stdout",
     "output_type": "stream",
     "text": [
      "6\n",
      "36\n",
      "0\n",
      "4\n"
     ]
    }
   ],
   "source": [
    "print(8 - 2 ** 5 % 3)\n",
    "print((8 - 2) ** (5 % 3))\n",
    "print((8 - 2) ** 5 % 3)\n",
    "print(8 - 2 ** (5 % 3))"
   ]
  },
  {
   "cell_type": "markdown",
   "metadata": {},
   "source": [
    "***\n",
    "### 1.2 Operador de Atribuição\n",
    "\n",
    "É utilizado para associar um valor a uma variável, tal processo recebe o nome de `binding`."
   ]
  },
  {
   "cell_type": "code",
   "execution_count": 2,
   "metadata": {},
   "outputs": [
    {
     "name": "stdout",
     "output_type": "stream",
     "text": [
      "15\n",
      "10\n"
     ]
    }
   ],
   "source": [
    "a = 15 # atribuição simples\n",
    "b = 10\n",
    "print(a)\n",
    "print(b)"
   ]
  },
  {
   "cell_type": "code",
   "execution_count": 6,
   "metadata": {},
   "outputs": [
    {
     "name": "stdout",
     "output_type": "stream",
     "text": [
      "6\n",
      "5\n"
     ]
    }
   ],
   "source": [
    "# atribuição de uma expressão\n",
    "a = 3 * 2\n",
    "print(a)\n",
    "\n",
    "# atribuição utilizando variáveis\n",
    "b = a - 1\n",
    "print(b)"
   ]
  },
  {
   "cell_type": "markdown",
   "metadata": {},
   "source": [
    "O operador `=` pode ser combinado com outros operadores criando expressões mais curtas."
   ]
  },
  {
   "cell_type": "code",
   "execution_count": 7,
   "metadata": {},
   "outputs": [
    {
     "name": "stdout",
     "output_type": "stream",
     "text": [
      "11\n"
     ]
    }
   ],
   "source": [
    "b += a # equivalente a 'b = b + a'\n",
    "print(b)"
   ]
  },
  {
   "cell_type": "code",
   "execution_count": 8,
   "metadata": {},
   "outputs": [
    {
     "name": "stdout",
     "output_type": "stream",
     "text": [
      "5\n"
     ]
    }
   ],
   "source": [
    "b -= a # equivalente a 'b = b - a'\n",
    "print(b)"
   ]
  },
  {
   "cell_type": "code",
   "execution_count": 9,
   "metadata": {},
   "outputs": [
    {
     "name": "stdout",
     "output_type": "stream",
     "text": [
      "30\n"
     ]
    }
   ],
   "source": [
    "b *= a # equivalente a 'b = b * a'\n",
    "print(b)"
   ]
  },
  {
   "cell_type": "code",
   "execution_count": 10,
   "metadata": {},
   "outputs": [
    {
     "name": "stdout",
     "output_type": "stream",
     "text": [
      "5.0\n"
     ]
    }
   ],
   "source": [
    "b /= a # equivalente a 'b = b / a'\n",
    "print(b)"
   ]
  },
  {
   "cell_type": "code",
   "execution_count": 11,
   "metadata": {},
   "outputs": [
    {
     "name": "stdout",
     "output_type": "stream",
     "text": [
      "1.0\n"
     ]
    }
   ],
   "source": [
    "a %= b # equivalente a 'a = a % b'\n",
    "print(a)"
   ]
  },
  {
   "cell_type": "code",
   "execution_count": 12,
   "metadata": {},
   "outputs": [
    {
     "name": "stdout",
     "output_type": "stream",
     "text": [
      "1.0\n"
     ]
    }
   ],
   "source": [
    "b = 3\n",
    "a **= b # equivalente a 'a = a ** b'\n",
    "print(a)"
   ]
  },
  {
   "cell_type": "markdown",
   "metadata": {},
   "source": [
    "Agora iremos dar uma pausa no estudo de Operadores e iniciar o Estudo dos `Tipos de Dados`, pois os próximos Operadores exigem um entendimento sobre `Tipos de Dados`."
   ]
  },
  {
   "cell_type": "markdown",
   "metadata": {},
   "source": [
    "***\n",
    "## 2. Tipos de Dados\n",
    "\n",
    "Muito do trabalho de codificação em linguagens de baixo-nível, como C ou C++, envolve implementar __Objetos__ (também chamados de __Estruturas de dados__ ). Você precisa planejar o uso da memória, gerenciar a alocação/desalocação de memória, implementar métodos de acesso e busca, etc. Tudo isso é demorado e propenso a erros, roubando produtividade do desenvolvedor.\n",
    "\n",
    "Python fornece um __Modelo de Objetos__ consistente, e dentro dele, tudo é um __Objeto__ (números, strings, estrutura de dados, funções, classes, módulos, etc.). Todo __Objeto__ possui:\n",
    "* Um __Tipo de Dado__ (por exemplo _string_ , _function_ , _int_ )\n",
    "* __Atributos__ (por exemplo _tamanho_ , _nome_ , _raio_ )\n",
    "* __Métodos__ (por exemplo _latir()_ , _acelerar()_ , _consultarSaldo()_ ). \n",
    "\n",
    "Python fornece diversos __Tipos de Objetos__  dentro do seu modelo:\n",
    "* Number\n",
    "    * int\n",
    "        * boolean\n",
    "    * float\n",
    "    * complex\n",
    "    * decimal\n",
    "    * fraction\n",
    "* Sequences\n",
    "    * mutable\n",
    "        * string\n",
    "        * list\n",
    "    * immutable\n",
    "        * tuple\n",
    "        * range\n",
    "* Dictionary\n",
    "* Set\n",
    "* None"
   ]
  },
  {
   "cell_type": "markdown",
   "metadata": {},
   "source": [
    "***\n",
    "### 2.1 Função `type`\n",
    "Podemos fazer uso da função `type(obj)` para verificar o tipo do __Objeto__ `obj`. O valor retornado é um texto (`string`) que descreve a __Classe__ a qual `obj` pertence."
   ]
  },
  {
   "cell_type": "code",
   "execution_count": 100,
   "metadata": {},
   "outputs": [
    {
     "name": "stdout",
     "output_type": "stream",
     "text": [
      "<class 'int'>\n"
     ]
    }
   ],
   "source": [
    "a = 15\n",
    "print(type(a))"
   ]
  },
  {
   "cell_type": "code",
   "execution_count": 101,
   "metadata": {},
   "outputs": [
    {
     "name": "stdout",
     "output_type": "stream",
     "text": [
      "Help on int object:\n",
      "\n",
      "class int(object)\n",
      " |  int([x]) -> integer\n",
      " |  int(x, base=10) -> integer\n",
      " |  \n",
      " |  Convert a number or string to an integer, or return 0 if no arguments\n",
      " |  are given.  If x is a number, return x.__int__().  For floating point\n",
      " |  numbers, this truncates towards zero.\n",
      " |  \n",
      " |  If x is not a number or if base is given, then x must be a string,\n",
      " |  bytes, or bytearray instance representing an integer literal in the\n",
      " |  given base.  The literal can be preceded by '+' or '-' and be surrounded\n",
      " |  by whitespace.  The base defaults to 10.  Valid bases are 0 and 2-36.\n",
      " |  Base 0 means to interpret the base from the string as an integer literal.\n",
      " |  >>> int('0b100', base=0)\n",
      " |  4\n",
      " |  \n",
      " |  Methods defined here:\n",
      " |  \n",
      " |  __abs__(self, /)\n",
      " |      abs(self)\n",
      " |  \n",
      " |  __add__(self, value, /)\n",
      " |      Return self+value.\n",
      " |  \n",
      " |  __and__(self, value, /)\n",
      " |      Return self&value.\n",
      " |  \n",
      " |  __bool__(self, /)\n",
      " |      self != 0\n",
      " |  \n",
      " |  __ceil__(...)\n",
      " |      Ceiling of an Integral returns itself.\n",
      " |  \n",
      " |  __divmod__(self, value, /)\n",
      " |      Return divmod(self, value).\n",
      " |  \n",
      " |  __eq__(self, value, /)\n",
      " |      Return self==value.\n",
      " |  \n",
      " |  __float__(self, /)\n",
      " |      float(self)\n",
      " |  \n",
      " |  __floor__(...)\n",
      " |      Flooring an Integral returns itself.\n",
      " |  \n",
      " |  __floordiv__(self, value, /)\n",
      " |      Return self//value.\n",
      " |  \n",
      " |  __format__(self, format_spec, /)\n",
      " |      Default object formatter.\n",
      " |  \n",
      " |  __ge__(self, value, /)\n",
      " |      Return self>=value.\n",
      " |  \n",
      " |  __getattribute__(self, name, /)\n",
      " |      Return getattr(self, name).\n",
      " |  \n",
      " |  __getnewargs__(self, /)\n",
      " |  \n",
      " |  __gt__(self, value, /)\n",
      " |      Return self>value.\n",
      " |  \n",
      " |  __hash__(self, /)\n",
      " |      Return hash(self).\n",
      " |  \n",
      " |  __index__(self, /)\n",
      " |      Return self converted to an integer, if self is suitable for use as an index into a list.\n",
      " |  \n",
      " |  __int__(self, /)\n",
      " |      int(self)\n",
      " |  \n",
      " |  __invert__(self, /)\n",
      " |      ~self\n",
      " |  \n",
      " |  __le__(self, value, /)\n",
      " |      Return self<=value.\n",
      " |  \n",
      " |  __lshift__(self, value, /)\n",
      " |      Return self<<value.\n",
      " |  \n",
      " |  __lt__(self, value, /)\n",
      " |      Return self<value.\n",
      " |  \n",
      " |  __mod__(self, value, /)\n",
      " |      Return self%value.\n",
      " |  \n",
      " |  __mul__(self, value, /)\n",
      " |      Return self*value.\n",
      " |  \n",
      " |  __ne__(self, value, /)\n",
      " |      Return self!=value.\n",
      " |  \n",
      " |  __neg__(self, /)\n",
      " |      -self\n",
      " |  \n",
      " |  __or__(self, value, /)\n",
      " |      Return self|value.\n",
      " |  \n",
      " |  __pos__(self, /)\n",
      " |      +self\n",
      " |  \n",
      " |  __pow__(self, value, mod=None, /)\n",
      " |      Return pow(self, value, mod).\n",
      " |  \n",
      " |  __radd__(self, value, /)\n",
      " |      Return value+self.\n",
      " |  \n",
      " |  __rand__(self, value, /)\n",
      " |      Return value&self.\n",
      " |  \n",
      " |  __rdivmod__(self, value, /)\n",
      " |      Return divmod(value, self).\n",
      " |  \n",
      " |  __repr__(self, /)\n",
      " |      Return repr(self).\n",
      " |  \n",
      " |  __rfloordiv__(self, value, /)\n",
      " |      Return value//self.\n",
      " |  \n",
      " |  __rlshift__(self, value, /)\n",
      " |      Return value<<self.\n",
      " |  \n",
      " |  __rmod__(self, value, /)\n",
      " |      Return value%self.\n",
      " |  \n",
      " |  __rmul__(self, value, /)\n",
      " |      Return value*self.\n",
      " |  \n",
      " |  __ror__(self, value, /)\n",
      " |      Return value|self.\n",
      " |  \n",
      " |  __round__(...)\n",
      " |      Rounding an Integral returns itself.\n",
      " |      Rounding with an ndigits argument also returns an integer.\n",
      " |  \n",
      " |  __rpow__(self, value, mod=None, /)\n",
      " |      Return pow(value, self, mod).\n",
      " |  \n",
      " |  __rrshift__(self, value, /)\n",
      " |      Return value>>self.\n",
      " |  \n",
      " |  __rshift__(self, value, /)\n",
      " |      Return self>>value.\n",
      " |  \n",
      " |  __rsub__(self, value, /)\n",
      " |      Return value-self.\n",
      " |  \n",
      " |  __rtruediv__(self, value, /)\n",
      " |      Return value/self.\n",
      " |  \n",
      " |  __rxor__(self, value, /)\n",
      " |      Return value^self.\n",
      " |  \n",
      " |  __sizeof__(self, /)\n",
      " |      Returns size in memory, in bytes.\n",
      " |  \n",
      " |  __str__(self, /)\n",
      " |      Return str(self).\n",
      " |  \n",
      " |  __sub__(self, value, /)\n",
      " |      Return self-value.\n",
      " |  \n",
      " |  __truediv__(self, value, /)\n",
      " |      Return self/value.\n",
      " |  \n",
      " |  __trunc__(...)\n",
      " |      Truncating an Integral returns itself.\n",
      " |  \n",
      " |  __xor__(self, value, /)\n",
      " |      Return self^value.\n",
      " |  \n",
      " |  bit_length(self, /)\n",
      " |      Number of bits necessary to represent self in binary.\n",
      " |      \n",
      " |      >>> bin(37)\n",
      " |      '0b100101'\n",
      " |      >>> (37).bit_length()\n",
      " |      6\n",
      " |  \n",
      " |  conjugate(...)\n",
      " |      Returns self, the complex conjugate of any int.\n",
      " |  \n",
      " |  to_bytes(self, /, length, byteorder, *, signed=False)\n",
      " |      Return an array of bytes representing an integer.\n",
      " |      \n",
      " |      length\n",
      " |        Length of bytes object to use.  An OverflowError is raised if the\n",
      " |        integer is not representable with the given number of bytes.\n",
      " |      byteorder\n",
      " |        The byte order used to represent the integer.  If byteorder is 'big',\n",
      " |        the most significant byte is at the beginning of the byte array.  If\n",
      " |        byteorder is 'little', the most significant byte is at the end of the\n",
      " |        byte array.  To request the native byte order of the host system, use\n",
      " |        `sys.byteorder' as the byte order value.\n",
      " |      signed\n",
      " |        Determines whether two's complement is used to represent the integer.\n",
      " |        If signed is False and a negative integer is given, an OverflowError\n",
      " |        is raised.\n",
      " |  \n",
      " |  ----------------------------------------------------------------------\n",
      " |  Class methods defined here:\n",
      " |  \n",
      " |  from_bytes(bytes, byteorder, *, signed=False) from builtins.type\n",
      " |      Return the integer represented by the given array of bytes.\n",
      " |      \n",
      " |      bytes\n",
      " |        Holds the array of bytes to convert.  The argument must either\n",
      " |        support the buffer protocol or be an iterable object producing bytes.\n",
      " |        Bytes and bytearray are examples of built-in objects that support the\n",
      " |        buffer protocol.\n",
      " |      byteorder\n",
      " |        The byte order used to represent the integer.  If byteorder is 'big',\n",
      " |        the most significant byte is at the beginning of the byte array.  If\n",
      " |        byteorder is 'little', the most significant byte is at the end of the\n",
      " |        byte array.  To request the native byte order of the host system, use\n",
      " |        `sys.byteorder' as the byte order value.\n",
      " |      signed\n",
      " |        Indicates whether two's complement is used to represent the integer.\n",
      " |  \n",
      " |  ----------------------------------------------------------------------\n",
      " |  Static methods defined here:\n",
      " |  \n",
      " |  __new__(*args, **kwargs) from builtins.type\n",
      " |      Create and return a new object.  See help(type) for accurate signature.\n",
      " |  \n",
      " |  ----------------------------------------------------------------------\n",
      " |  Data descriptors defined here:\n",
      " |  \n",
      " |  denominator\n",
      " |      the denominator of a rational number in lowest terms\n",
      " |  \n",
      " |  imag\n",
      " |      the imaginary part of a complex number\n",
      " |  \n",
      " |  numerator\n",
      " |      the numerator of a rational number in lowest terms\n",
      " |  \n",
      " |  real\n",
      " |      the real part of a complex number\n",
      "\n"
     ]
    }
   ],
   "source": [
    "help(a)"
   ]
  },
  {
   "cell_type": "markdown",
   "metadata": {},
   "source": [
    "***\n",
    "## 3 Tipos Numéricos\n",
    "\n",
    "Python disponibiliza vários tipos númericos para as mais diversas aplicações. A seguir, estão listados os tipo de dados numéricos:\n",
    "* `int` (inteiros)\n",
    "    * `bool` (booleanos)\n",
    "* `float` (ponto flutuante)\n",
    "* `complex` (complexos: real + imag)\n",
    "* `fraction` (frações)\n",
    "* `decimal` (ponto fluante com precisão fixa)"
   ]
  },
  {
   "cell_type": "markdown",
   "metadata": {},
   "source": [
    "***\n",
    "### 3.1 Inteiros\n",
    "\n",
    "São utilizados para representar valores positivos ou negativos sem casas decimais. Em Python não há limite para o quão grande um valor inteiro pode ser. Obviamente, ele é limitado apenas pela quantidade de memória que seu sistema possui. "
   ]
  },
  {
   "cell_type": "code",
   "execution_count": 23,
   "metadata": {},
   "outputs": [
    {
     "name": "stdout",
     "output_type": "stream",
     "text": [
      "7 -3\n",
      "2182178937192831982371897231872381723897189237192718571938571093571835109735901357\n",
      "10000000000\n"
     ]
    }
   ],
   "source": [
    "x = 7\n",
    "y = -3\n",
    "print(x,y)\n",
    "\n",
    "# o limite é a sua memória\n",
    "print(2182178937192831982371897231872381723897189237192718571938571093571835109735901357)\n",
    "\n",
    "# o underscore pode ser utilizado para melhorar a legibilidade separando digitos\n",
    "print(100_000_000_00)"
   ]
  },
  {
   "cell_type": "markdown",
   "metadata": {},
   "source": [
    "Alem disso podemos representar __inteiros__ utilizando outros sistemas de numeração que não seja o decimal. Para isso bastante adicionar um identificador no início do valor literal:\n",
    "* `0b` ou `0B` - para representação utilizando __Sistema Binário__\n",
    "* `0o` ou `0O` - para representação utilizando __Sistema Octal__\n",
    "* `0x` ou `0X` - para representação utilizando __Sistema Hexadecimal__"
   ]
  },
  {
   "cell_type": "code",
   "execution_count": 24,
   "metadata": {},
   "outputs": [
    {
     "name": "stdout",
     "output_type": "stream",
     "text": [
      "14\n",
      "65\n",
      "42\n"
     ]
    }
   ],
   "source": [
    "# base 2 - binário[0,1]\n",
    "a = 0b1110 # (1*2*2*2) + (1*2*2) + (1*2) + (0*1)\n",
    "print(a)\n",
    "\n",
    "# base 8 - octal[0-7]\n",
    "a = 0o101 # (1*8*8) + (0*8) + (1*1)\n",
    "print(a)\n",
    " \n",
    "# base 16 - hexadecimal[0-9,A-F] (A=10, B=11, C=12 D=13, E=14, F=15)\n",
    "a = 0x2A # (2*16) + (10*1)\n",
    "print(a)"
   ]
  },
  {
   "cell_type": "markdown",
   "metadata": {},
   "source": [
    "#### 3.1.1 Função `bin`\n",
    "Retorna a representação `binária` de um inteiro passado como parametro."
   ]
  },
  {
   "cell_type": "code",
   "execution_count": 25,
   "metadata": {},
   "outputs": [
    {
     "name": "stdout",
     "output_type": "stream",
     "text": [
      "-0b100101\n",
      "0b11111111\n",
      "0b111101\n"
     ]
    }
   ],
   "source": [
    "a = bin(-37)\n",
    "print(a)\n",
    "a = bin(0xFF)\n",
    "print(a)\n",
    "a = bin(0o75)\n",
    "print(a)"
   ]
  },
  {
   "cell_type": "markdown",
   "metadata": {},
   "source": [
    "#### 3.1.2 Função `oct`\n",
    "Retorna a representação `octal` de um inteiro passado como parametro."
   ]
  },
  {
   "cell_type": "code",
   "execution_count": 26,
   "metadata": {},
   "outputs": [
    {
     "name": "stdout",
     "output_type": "stream",
     "text": [
      "-0o45\n",
      "0o377\n",
      "0o15\n"
     ]
    }
   ],
   "source": [
    "a = oct(-37)\n",
    "print(a)\n",
    "a = oct(0xFF)\n",
    "print(a)\n",
    "a = oct(0b1101)\n",
    "print(a)"
   ]
  },
  {
   "cell_type": "markdown",
   "metadata": {},
   "source": [
    "#### 3.1.3 Função `hex`\n",
    "Retorna a representaçao `hexadecimal` de um inteiro `decimal` passado como parametro."
   ]
  },
  {
   "cell_type": "code",
   "execution_count": 27,
   "metadata": {},
   "outputs": [
    {
     "name": "stdout",
     "output_type": "stream",
     "text": [
      "0xff\n"
     ]
    }
   ],
   "source": [
    "a = hex(255) # (16 * 15) + (1 * 15) , f = 15\n",
    "print(a)"
   ]
  },
  {
   "cell_type": "markdown",
   "metadata": {},
   "source": [
    "#### 3.1.4 Função `bit_length`\n",
    "Retorna o `nº de bits` necessários para representar um inteiro em `binário`. São excluídos da contagem o `bit de sinal`e `zeros` a esquerda."
   ]
  },
  {
   "cell_type": "code",
   "execution_count": 28,
   "metadata": {},
   "outputs": [
    {
     "name": "stdout",
     "output_type": "stream",
     "text": [
      "3 0b11 2\n"
     ]
    }
   ],
   "source": [
    "a = 3\n",
    "print(a, bin(a), a.bit_length())"
   ]
  },
  {
   "cell_type": "markdown",
   "metadata": {},
   "source": [
    "#### 3.1.5 Ordem dos Bits\n",
    "Para uma máquina não existe diferença em ler uma sequência de bits da `esquerda para direita` ou `direita para esquerda`. Por isso, a ordem (importância) dos bits varia de acordo com a `arquitetura` da plataforma de execução. Isso em inglês é chamado de `endianness`.\n",
    "\n",
    "Felizmente Python possui o módulo `sys` que trás diversas informações inclusive o tipo de representação utilizado:"
   ]
  },
  {
   "cell_type": "code",
   "execution_count": 29,
   "metadata": {},
   "outputs": [
    {
     "name": "stdout",
     "output_type": "stream",
     "text": [
      "little\n"
     ]
    }
   ],
   "source": [
    "# descobrir a ordem dos bytes\n",
    "import sys\n",
    "print(sys.byteorder)"
   ]
  },
  {
   "cell_type": "markdown",
   "metadata": {},
   "source": [
    "Existem dois tipos de representação:\n",
    "* __Big-endian__ (`'big'`) - na qual o `byte` __mais significativo__ vem primeiro.\n",
    "* __Little-endian__ (`'little'`) - na qual o `byte` __menos significativo__ vem primeiro."
   ]
  },
  {
   "cell_type": "markdown",
   "metadata": {},
   "source": [
    "#### 3.1.6 Função `to_bytes`\n",
    "Retorna a representação de um inteiro num array de bytes. Recebe três parametros:\n",
    "* `length` - quantidade de bytes usados na representação.\n",
    "* `byteorder` - tipo de representação desejada (`'big'` ou `'litte'`).\n",
    "* `signed` - se o inteiro é sinalizado, valor padrão é False.\n",
    "Caso a quantidade de `bytes` não seja suficiente para representar o valor inteiro, um `OverflowError` será lançado."
   ]
  },
  {
   "cell_type": "code",
   "execution_count": 30,
   "metadata": {},
   "outputs": [
    {
     "name": "stdout",
     "output_type": "stream",
     "text": [
      "b'\\x04\\x00'\n",
      "b'\\x00\\x04'\n",
      "b'\\xff\\xff\\xff\\xfc\\x00'\n"
     ]
    }
   ],
   "source": [
    "print((1024).to_bytes(2, byteorder='big'))\n",
    "# b'\\x04\\x00' (04 * 16 * 16)\n",
    "print((1024).to_bytes(2, byteorder='little'))\n",
    "# b'\\x00\\x04' (16 * 16 * 04)\n",
    "print((-1024).to_bytes(5, byteorder='big', signed=True))"
   ]
  },
  {
   "cell_type": "markdown",
   "metadata": {},
   "source": [
    "#### 3.1.7 Função `from_bytes`\n",
    "Retorna um inteiro `decimal` a partir de um array de `bytes`."
   ]
  },
  {
   "cell_type": "code",
   "execution_count": 31,
   "metadata": {},
   "outputs": [
    {
     "name": "stdout",
     "output_type": "stream",
     "text": [
      "16\n",
      "4096\n",
      "-1024\n",
      "64512\n",
      "513\n"
     ]
    }
   ],
   "source": [
    "print(int.from_bytes(b'\\x00\\x10', byteorder='big'))\n",
    "print(int.from_bytes(b'\\x00\\x10', byteorder='little'))\n",
    "print(int.from_bytes(b'\\xfc\\x00', byteorder='big', signed=True))\n",
    "print(int.from_bytes(b'\\xfc\\x00', byteorder='big', signed=False))\n",
    "print(int.from_bytes([0, 2, 1], byteorder='big'))"
   ]
  },
  {
   "cell_type": "markdown",
   "metadata": {},
   "source": [
    "***\n",
    "### 4. Operadores de Bits\n",
    "\n",
    "Realizam operações nos bits."
   ]
  },
  {
   "cell_type": "code",
   "execution_count": 32,
   "metadata": {},
   "outputs": [
    {
     "name": "stdout",
     "output_type": "stream",
     "text": [
      "0b101\n",
      "40\n",
      "0b101000\n"
     ]
    }
   ],
   "source": [
    "# Operador Bitwise Left-Shift\n",
    "x = 5\n",
    "y = 3\n",
    "print(bin(x))\n",
    "\n",
    "# desloca todos os bits de 'x' três casa para esquerda.\n",
    "x = x << y # x = x * (2 ** 3)\n",
    "print(x) \n",
    "print(bin(x))"
   ]
  },
  {
   "cell_type": "code",
   "execution_count": 33,
   "metadata": {},
   "outputs": [
    {
     "name": "stdout",
     "output_type": "stream",
     "text": [
      "0b101000\n",
      "5\n",
      "0b101\n"
     ]
    }
   ],
   "source": [
    "# Operador Bitwise Right-Shift\n",
    "x = 40\n",
    "y = 3\n",
    "print(bin(x))\n",
    "\n",
    "# desloca todos os bits de 'x' três casa para direita.\n",
    "x = x >> y # x = x / (2 ** 3)\n",
    "print(x) \n",
    "print(bin(x))"
   ]
  },
  {
   "cell_type": "code",
   "execution_count": 34,
   "metadata": {},
   "outputs": [
    {
     "name": "stdout",
     "output_type": "stream",
     "text": [
      "255\n",
      "0b11111111\n",
      "-256\n",
      "-0b100000000\n"
     ]
    }
   ],
   "source": [
    "# Operador Bitwise NOT\n",
    "x = 255\n",
    "print(x)\n",
    "print(bin(x))\n",
    "\n",
    "# inverte todos os bits de 'x'\n",
    "y = ~x\n",
    "print(y)\n",
    "print(bin(y))"
   ]
  },
  {
   "cell_type": "markdown",
   "metadata": {},
   "source": [
    "***\n",
    "### 5. Booleanos\n",
    "\n",
    "Estes representam os valores da verdade Falso e Verdadeiro. Os dois objetos que representam os valores `False` e `True` são os únicos objetos booleanos. O tipo `Boolean` é um subtipo do tipo `Int` e os valores booleanos se comportam como os valores `0` e `1`, respectivamente, em quase todos os contextos, a exceção é que, quando convertidos em uma string, as strings `\"False\"` ou `\"True\"` são retornadas , respectivamente."
   ]
  },
  {
   "cell_type": "code",
   "execution_count": 35,
   "metadata": {},
   "outputs": [
    {
     "name": "stdout",
     "output_type": "stream",
     "text": [
      "True\n",
      "False\n"
     ]
    }
   ],
   "source": [
    "a = True\n",
    "b = False\n",
    "print(a)\n",
    "print(b)"
   ]
  },
  {
   "cell_type": "code",
   "execution_count": 36,
   "metadata": {},
   "outputs": [
    {
     "data": {
      "text/plain": [
       "bool"
      ]
     },
     "execution_count": 36,
     "metadata": {},
     "output_type": "execute_result"
    }
   ],
   "source": [
    "type(True)"
   ]
  },
  {
   "cell_type": "code",
   "execution_count": 37,
   "metadata": {},
   "outputs": [
    {
     "data": {
      "text/plain": [
       "bool"
      ]
     },
     "execution_count": 37,
     "metadata": {},
     "output_type": "execute_result"
    }
   ],
   "source": [
    "type(False)"
   ]
  },
  {
   "cell_type": "markdown",
   "metadata": {},
   "source": [
    "O tipo `Boolean` está fortemente ligado ao resultado de operações __comparativas__ ou operações __lógicas__. Por isso vamos introduzir esses novos operadores, vejamos primeiramente os `Operadores Comparativos`:"
   ]
  },
  {
   "cell_type": "code",
   "execution_count": 38,
   "metadata": {},
   "outputs": [
    {
     "name": "stdout",
     "output_type": "stream",
     "text": [
      "True\n",
      "True\n"
     ]
    }
   ],
   "source": [
    "x = 12; y = 10; z = 10\n",
    "print(x > y) # x é maior que y?\n",
    "print(z >= y) # z é maior ou igual a y?"
   ]
  },
  {
   "cell_type": "code",
   "execution_count": 39,
   "metadata": {},
   "outputs": [
    {
     "name": "stdout",
     "output_type": "stream",
     "text": [
      "False\n",
      "True\n"
     ]
    }
   ],
   "source": [
    "print(x < y) # x é menor que y?\n",
    "print(z <= y) # z é menor ou igual a y?"
   ]
  },
  {
   "cell_type": "code",
   "execution_count": 40,
   "metadata": {},
   "outputs": [
    {
     "name": "stdout",
     "output_type": "stream",
     "text": [
      "False\n",
      "True\n",
      "True\n"
     ]
    }
   ],
   "source": [
    "print(x == y) # x é igual a y?\n",
    "print(z == y) # z é igual a y?\n",
    "print(x != y) # x é diferente de y?"
   ]
  },
  {
   "cell_type": "markdown",
   "metadata": {},
   "source": [
    "#### 5.1 Operador Identidade `is`\n",
    "\n",
    "Em Python utilizamos o operador `==` para testar a igualdade entre dois objetos. Porém o que acontece quando os objetos são de tipos diferentes?"
   ]
  },
  {
   "cell_type": "code",
   "execution_count": 41,
   "metadata": {},
   "outputs": [
    {
     "name": "stdout",
     "output_type": "stream",
     "text": [
      "0b1\n",
      "0b0\n"
     ]
    }
   ],
   "source": [
    "# Observe o valor binário associado a cada objeto boolean\n",
    "print(bin(True))\n",
    "print(bin(False))"
   ]
  },
  {
   "cell_type": "code",
   "execution_count": 42,
   "metadata": {
    "scrolled": true
   },
   "outputs": [
    {
     "name": "stdout",
     "output_type": "stream",
     "text": [
      "True\n",
      "False\n",
      "False\n",
      "False\n",
      "True\n",
      "False\n"
     ]
    }
   ],
   "source": [
    "print(0 == False)\n",
    "print(1 == False)\n",
    "print(3 == False)\n",
    "\n",
    "print(0 == True)\n",
    "print(1 == True)\n",
    "print(3 == True)"
   ]
  },
  {
   "cell_type": "markdown",
   "metadata": {},
   "source": [
    "Perceba que o operador `==` apenas compara os __valores__  de cada objeto, não faz distinção de tipo.\n",
    "Tal comportamento em algumas situações pode não ser adequado para nós. Por isso, quando queremos comparar não apenas valor mas também o tipo de dois objetos, utilizamos o operador `is`."
   ]
  },
  {
   "cell_type": "code",
   "execution_count": 43,
   "metadata": {},
   "outputs": [
    {
     "name": "stdout",
     "output_type": "stream",
     "text": [
      "False\n",
      "False\n"
     ]
    }
   ],
   "source": [
    "print(1 is True)\n",
    "print(0 is False)"
   ]
  },
  {
   "cell_type": "markdown",
   "metadata": {},
   "source": [
    "Além disso podemos fazer uso da função `isinstance(obj,type)` que verifica se o objeto `obj` pertence a classe `type`."
   ]
  },
  {
   "cell_type": "code",
   "execution_count": 44,
   "metadata": {},
   "outputs": [
    {
     "name": "stdout",
     "output_type": "stream",
     "text": [
      "True\n",
      "False\n",
      "False\n"
     ]
    }
   ],
   "source": [
    "print(isinstance(1, int)) # se o 'objeto 1' é uma instancia da classe de objetos 'int'\n",
    "print(isinstance(1, bool)) # se o 'objeto 1' é uma instancia da classe de objetos 'bool'\n",
    "print(isinstance(0, bool)) # se o 'objeto 0' é uma instancia da classe de objetos 'bool'"
   ]
  },
  {
   "cell_type": "code",
   "execution_count": 1,
   "metadata": {},
   "outputs": [
    {
     "name": "stdout",
     "output_type": "stream",
     "text": [
      "True\n"
     ]
    }
   ],
   "source": [
    "print(isinstance(2.0, (int, float)))"
   ]
  },
  {
   "cell_type": "code",
   "execution_count": 45,
   "metadata": {},
   "outputs": [
    {
     "name": "stdout",
     "output_type": "stream",
     "text": [
      "True\n",
      "True\n"
     ]
    }
   ],
   "source": [
    "print(isinstance(True, bool)) # se o 'objeto True' é uma instancia da classe de objetos 'bool'\n",
    "print(isinstance(False, bool)) # se o 'objeto True' é uma instancia da classe de objetos 'bool'"
   ]
  },
  {
   "cell_type": "code",
   "execution_count": 46,
   "metadata": {},
   "outputs": [
    {
     "name": "stdout",
     "output_type": "stream",
     "text": [
      "True\n",
      "True\n"
     ]
    }
   ],
   "source": [
    "print(isinstance(True, int)) # se o 'objeto True' é uma instancia da classe de objetos 'int'\n",
    "print(isinstance(False, int)) # se o 'objeto True' é uma instancia da classe de objetos 'bool'"
   ]
  },
  {
   "cell_type": "markdown",
   "metadata": {},
   "source": [
    "***\n",
    "### 6. Operadores Lógicos\n",
    "\n",
    "Os `Operadores Lógicos` fazem comparações lógicas entre __dois operandos__ e retornam `True` ou `False`:\n",
    "* `and` - retorna `True` se ambos os operandos forem `True`.\n",
    "* `or` - retorna `True` se pelo menos um dos operandos for `True`.\n",
    "* `not` - retornar o valor contrário de um operando."
   ]
  },
  {
   "cell_type": "code",
   "execution_count": 47,
   "metadata": {},
   "outputs": [
    {
     "name": "stdout",
     "output_type": "stream",
     "text": [
      "True\n",
      "False\n",
      "False\n",
      "False\n"
     ]
    }
   ],
   "source": [
    "# operador 'and' \n",
    "print(True and True)\n",
    "print(True and False)\n",
    "print(False and True)\n",
    "print(False and False)"
   ]
  },
  {
   "cell_type": "code",
   "execution_count": 48,
   "metadata": {},
   "outputs": [
    {
     "name": "stdout",
     "output_type": "stream",
     "text": [
      "True\n",
      "True\n",
      "True\n",
      "False\n"
     ]
    }
   ],
   "source": [
    "# operador 'or'\n",
    "print(True or True)\n",
    "print(True or False)\n",
    "print(False or True)\n",
    "print(False or False)"
   ]
  },
  {
   "cell_type": "code",
   "execution_count": 49,
   "metadata": {},
   "outputs": [
    {
     "name": "stdout",
     "output_type": "stream",
     "text": [
      "False\n",
      "True\n"
     ]
    }
   ],
   "source": [
    "# operador 'not'\n",
    "print(not True)\n",
    "print(not False)"
   ]
  },
  {
   "cell_type": "markdown",
   "metadata": {},
   "source": [
    "#### 6.1 Short-Circuits\n",
    "\n",
    "Em Python ocorre uma otimização na análise de condições chamada de `short-circuit`. Ocorre que quando interpretador percebe que uma condição será `False` ou `True` após analisar o __primeiro operando__ e o __operador__ o interpretador simplesmente ignora o __segundo operado__ e já retorna o resultado da operação. Observe os dois exemplos abaixo:"
   ]
  },
  {
   "cell_type": "code",
   "execution_count": 50,
   "metadata": {},
   "outputs": [
    {
     "name": "stdout",
     "output_type": "stream",
     "text": [
      "True\n"
     ]
    }
   ],
   "source": [
    "print(True or print('operando 2'))"
   ]
  },
  {
   "cell_type": "code",
   "execution_count": 51,
   "metadata": {},
   "outputs": [
    {
     "name": "stdout",
     "output_type": "stream",
     "text": [
      "operando 2\n",
      "None\n"
     ]
    }
   ],
   "source": [
    "print(False or print('operando 2'))"
   ]
  },
  {
   "cell_type": "markdown",
   "metadata": {},
   "source": [
    "No primeiro exemplo o interpretador percebe que como o __primeiro operando__ é `True` e temos o operador `or` a condição já será verdadeira não importa o valor do __segundo operando__, então ele simplesmente ignora a instrução `print('1')`.\n",
    "No segundo exemplo o interpretador não consegue deduzir o resultador da operação e precisa executar o __segundo operando__. Por isso temos `operando 2` impresso.\n",
    "\n",
    "O mesmo raciocínio é válido para o operador `and`:"
   ]
  },
  {
   "cell_type": "code",
   "execution_count": 52,
   "metadata": {},
   "outputs": [
    {
     "name": "stdout",
     "output_type": "stream",
     "text": [
      "False\n"
     ]
    }
   ],
   "source": [
    "print(False and print('operando 2'))"
   ]
  },
  {
   "cell_type": "code",
   "execution_count": 53,
   "metadata": {},
   "outputs": [
    {
     "name": "stdout",
     "output_type": "stream",
     "text": [
      "operando 2\n",
      "None\n"
     ]
    }
   ],
   "source": [
    "print(True and print('operando 2'))"
   ]
  },
  {
   "cell_type": "markdown",
   "metadata": {},
   "source": [
    "***\n",
    "### 7. Operadores Lógicos Bitwise\n",
    "\n",
    "Há também operadores lógicos que trabalham bit-a-bit:\n",
    "* Operador `&` é a versão bitwise do Operador `and`\n",
    "* Operador `|` é a versão bitwise do Operador `or`\n",
    "* Operador `^` é chamdo de OU Exclusivo."
   ]
  },
  {
   "cell_type": "markdown",
   "metadata": {},
   "source": [
    "#### 7.1 Operador AND Bitwise `&`\n",
    "\n",
    "Pode ser utilizado como __mascara de bits__:"
   ]
  },
  {
   "cell_type": "code",
   "execution_count": 54,
   "metadata": {},
   "outputs": [
    {
     "name": "stdout",
     "output_type": "stream",
     "text": [
      "0b10011001\n",
      "0b10101010\n",
      "136\n"
     ]
    }
   ],
   "source": [
    "a = 153 # 0b 10 01 10 01\n",
    "b = 170 # 0b 10 10 10 10\n",
    "print(bin(a))\n",
    "print(bin(b))\n",
    "\n",
    "# AND bit-a-bit\n",
    "print(a & b) #0b 10 00 10 00 (128 + 8)"
   ]
  },
  {
   "cell_type": "code",
   "execution_count": 55,
   "metadata": {},
   "outputs": [
    {
     "name": "stdout",
     "output_type": "stream",
     "text": [
      "1\n",
      "0\n"
     ]
    }
   ],
   "source": [
    "# uso como máscara de bits\n",
    "# exemplo - descobrir se um número é impar\n",
    "mascara = 1\n",
    "print(a & mascara) # todo número impar tem o primeiro bit '1'\n",
    "print(b & mascara) # todo número par tem o primeiro bit '0'b"
   ]
  },
  {
   "cell_type": "code",
   "execution_count": 56,
   "metadata": {},
   "outputs": [
    {
     "name": "stdout",
     "output_type": "stream",
     "text": [
      "0b10000\n",
      "0b10011001\n",
      "16\n",
      "0b10000\n",
      "1\n"
     ]
    }
   ],
   "source": [
    "# exemplo - obter o 'n-ésimo' bit de um número\n",
    "n = 5\n",
    "mascara = 1 << (n-1)\n",
    "print(bin(mascara))\n",
    "print(bin(a))\n",
    "bit = a & mascara\n",
    "print(bit)\n",
    "print(bin(bit))\n",
    "print(bit >> (n-1))"
   ]
  },
  {
   "cell_type": "markdown",
   "metadata": {},
   "source": [
    "Ou como um __desativador de bits__:"
   ]
  },
  {
   "cell_type": "code",
   "execution_count": 57,
   "metadata": {},
   "outputs": [
    {
     "name": "stdout",
     "output_type": "stream",
     "text": [
      "0b10011001\n",
      "0b11110101\n",
      "0b10010001\n"
     ]
    }
   ],
   "source": [
    "# exemplo - desativar o 2º e 4º bit de um número\n",
    "mascara = 0b11110101\n",
    "bit = (a & mascara)\n",
    "print(bin(a))\n",
    "print(bin(mascara))\n",
    "print(bin(bit))"
   ]
  },
  {
   "cell_type": "markdown",
   "metadata": {},
   "source": [
    "#### 7.2 Operador OR Bitwise `|`\n",
    "Pode ser utilizado como __ativador de bits__:"
   ]
  },
  {
   "cell_type": "code",
   "execution_count": 58,
   "metadata": {},
   "outputs": [
    {
     "name": "stdout",
     "output_type": "stream",
     "text": [
      "0b11000\n",
      "0b10101\n",
      "0b11101\n"
     ]
    }
   ],
   "source": [
    "# exemplo - ativar o 5º, 3º e 1º bit de um número\n",
    "a = 0b11000\n",
    "mascara = 0b10101\n",
    "print(bin(a))\n",
    "print(bin(mascara))\n",
    "print(bin(a | mascara))"
   ]
  },
  {
   "cell_type": "markdown",
   "metadata": {},
   "source": [
    "#### 7.3 Operador XOR Bitwise `^`\n",
    "\n",
    "O operador `^` funciona semelhante ao operador `|` porém retorna `0`/`False` se ambos os bits comparados forem iguais. \n",
    "\n",
    "Pode ser utilizado para verificar se bits são __opostos__ ."
   ]
  },
  {
   "cell_type": "code",
   "execution_count": 2,
   "metadata": {},
   "outputs": [
    {
     "name": "stdout",
     "output_type": "stream",
     "text": [
      "255\n",
      "0b11111111\n"
     ]
    }
   ],
   "source": [
    "a = 0b01_01_01_01\n",
    "b = 0b10_10_10_10\n",
    "print(a ^ b) # (128 + 64 + 32 + 16 + 8 + 4 + 2 + 1)\n",
    "print(bin(a^b))"
   ]
  },
  {
   "cell_type": "markdown",
   "metadata": {},
   "source": [
    "Pode encontrar um número `impar` num conjunto de números `pares`:"
   ]
  },
  {
   "cell_type": "code",
   "execution_count": 60,
   "metadata": {},
   "outputs": [
    {
     "name": "stdout",
     "output_type": "stream",
     "text": [
      "25\n",
      "0b11001\n"
     ]
    }
   ],
   "source": [
    "a = 8\n",
    "b = 2\n",
    "c = 21\n",
    "d = 6\n",
    "x = a ^ b ^ c ^ d\n",
    "print(x)\n",
    "print(bin(x))"
   ]
  },
  {
   "cell_type": "markdown",
   "metadata": {},
   "source": [
    "Para trocar o valor de duas variáveis:"
   ]
  },
  {
   "cell_type": "code",
   "execution_count": 61,
   "metadata": {},
   "outputs": [
    {
     "name": "stdout",
     "output_type": "stream",
     "text": [
      "8 13\n"
     ]
    }
   ],
   "source": [
    "x = 13\n",
    "y = 8\n",
    "\n",
    "x ^= y # x = x^y\n",
    "y = x ^ y\n",
    "x ^= y # x = x^y\n",
    "\n",
    "print(x,y)"
   ]
  },
  {
   "cell_type": "markdown",
   "metadata": {},
   "source": [
    "<a href=\"https://github.com/omagodosbits/curso_python3\"><img style=\"display: inline-flex;margin-left: 400px;margin-right:auto\" src=\"./img/github-logo.png\" alt=\"Github repositório\" width=\"30\"></a>\n",
    "<a href=\"https://www.linkedin.com/in/marcosmapl\"><img style=\"display: inline-flex;margin-left: auto;margin-right:auto\" src=\"./img/linkedin.png\" alt=\"Linkedin Logo\" width=\"30\"></a>\n",
    "<a href=\"https://www.youtube.com/channel/UCH2hQ1qlt_Emv4exefAmw0w\"><img style=\"display: inline-flex;margin-left:auto;margin-right:auto\" src=\"./img/subscribe.png\" alt=\"Subscribe at my Channel\" width=\"90\"></a>\n",
    "<p style=\"text-align:center\">&copy; 2020 O Mago dos Bits</p>"
   ]
  }
 ],
 "metadata": {
  "kernelspec": {
   "display_name": "Python 3",
   "language": "python",
   "name": "python3"
  },
  "language_info": {
   "codemirror_mode": {
    "name": "ipython",
    "version": 3
   },
   "file_extension": ".py",
   "mimetype": "text/x-python",
   "name": "python",
   "nbconvert_exporter": "python",
   "pygments_lexer": "ipython3",
   "version": "3.7.5"
  }
 },
 "nbformat": 4,
 "nbformat_minor": 2
}
