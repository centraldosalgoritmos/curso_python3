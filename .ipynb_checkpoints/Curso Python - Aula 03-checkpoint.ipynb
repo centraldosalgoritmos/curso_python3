{
 "cells": [
  {
   "cell_type": "markdown",
   "metadata": {},
   "source": [
    "<img src=\"img/header.png\" alt=\"Devcated\">\n",
    "<h1 style=\"float:left\"> Curso Python - Aula 03 - Tipos de Dados<h1>\n",
    "<a href=\"https://www.linkedin.com/in/marcosmapl\"><img style=\"float:right;margin-left:5px\" src=\"img/linkedin.png\" alt=\"Linkedin Logo\" width=\"32\"></a>\n",
    "<a href=\"https://github.com/devcated/curso_python3\"><img style=\"float:right;margin-left:5px;margin-right:5px\" src=\"img/github-logo.png\" alt=\"Github repositório\" width=\"32\"></a>\n",
    "<a href=\"https://www.youtube.com/channel/UC7XyhhdgvWNIskpPiX_Y6mA\"><img style=\"float:right\" src=\"img/subscribe.png\" alt=\"Subscribe at my Channel\" width=\"100\"></a>\n",
    "<h2> Marcos Avner P. de Lima </h2>\n",
    "\n",
    "marcos.lima@icomp.ufam.edu.br"
   ]
  },
  {
   "cell_type": "markdown",
   "metadata": {},
   "source": [
    "## Roteiro\n",
    "* [Palavras reservadas](#keywords)"
   ]
  },
  {
   "cell_type": "markdown",
   "metadata": {},
   "source": [
    "## Tipos Built-in\n",
    "\n",
    "Muito do trabalho de codificação em linguagens de baixo-nível,como C ou C++, envolve implementar `objetos` (também chamados de `estruturas de dados`). Você precisa planejar o uso da memória, gerenciar a alocação/desalocação de memória, implementar métodos de acesso e busca, etc. Tudo isso é 'tedioso' e propenso a erros, roubando produtividade do desenvolvedor.\n",
    "\n",
    "Python fornece um `modelo de objetos` consistente, e dentro dele, tudo é um `objeto` (número, string, estrutura de dados, função, classe, módulo, etc.). Todo `objeto` tem um tipo associado (por exemplo, _string_ ou _function_ ), atributos (por exemplo _tamanho_ ou _nome_ ) e métodos. Python fornece os seguintes tipos:\n",
    "* Number\n",
    "    * Boolean\n",
    "* String\n",
    "* List\n",
    "* Dictionary\n",
    "* Tuples\n",
    "* File\n",
    "* Set\n",
    "* None\n",
    "* Outros\n",
    "    * Functions\n",
    "    * Modules\n",
    "    * Classes"
   ]
  },
  {
   "cell_type": "markdown",
   "metadata": {},
   "source": [
    "## Number\n",
    "\n",
    "\n",
    "No Python 3, efetivamente não há limite para grande um valor inteiro pode ser. Obviamente, ele é limitado pela quantidade de memória que seu sistema possui. Nos dados numéricos também existem 4 subtipos. A seguir, estão os subtipos do tipo de dados numéricos:\n",
    "* `int` (inteiros)\n",
    "    * `bool` (booleanos)\n",
    "* `float` (ponto flutuante)\n",
    "* `complex` (complexos - real + imag)\n",
    "\n",
    "### Inteiros - `int`\n",
    "\n",
    "São utilizados para representar valores positivos ou negativos sem casas decimais."
   ]
  },
  {
   "cell_type": "code",
   "execution_count": 1,
   "metadata": {},
   "outputs": [
    {
     "name": "stdout",
     "output_type": "stream",
     "text": [
      "7 -3\n",
      "2182178937192831982371897231872381723897189237192718571938571093571835109735901357\n",
      "10000000000\n"
     ]
    }
   ],
   "source": [
    "x = 7\n",
    "y = -3\n",
    "print(x,y)\n",
    "print(2182178937192831982371897231872381723897189237192718571938571093571835109735901357)\n",
    "# o underscore pode ser utilizado para melhorar a legibilidade separando digitos\n",
    "print(100_000_000_00)"
   ]
  },
  {
   "cell_type": "markdown",
   "metadata": {},
   "source": [
    "Alem disso podemos representar __inteiros__ utilizando outras representações, bastante adicionar um identificador no inicio do valor literal:\n",
    "* `0b` ou `0B` - Binário\n",
    "* `0o` ou `0O` - Octal\n",
    "* `0x` ou `0X` - Hexadecimal"
   ]
  },
  {
   "cell_type": "code",
   "execution_count": 2,
   "metadata": {},
   "outputs": [
    {
     "name": "stdout",
     "output_type": "stream",
     "text": [
      "2\n",
      "8\n",
      "16\n"
     ]
    }
   ],
   "source": [
    "# base 2 - binário[0,1] (8 + 4 + 2 + 0)\n",
    "a = 0b10\n",
    "print(a)\n",
    "\n",
    "# base 8 - octal[0-7] (8 + 0)\n",
    "a = 0o10\n",
    "print(a)\n",
    "\n",
    "# base 16 - hexadecimal[0-9,A-F] (A=10, B=11, C=12 D=13, E=14, F=15)\n",
    "a = 0x10\n",
    "print(a)"
   ]
  },
  {
   "cell_type": "markdown",
   "metadata": {},
   "source": [
    "Podemos fazer uso da função `type()` para verificar o tipo de uma variável:"
   ]
  },
  {
   "cell_type": "code",
   "execution_count": 10,
   "metadata": {},
   "outputs": [
    {
     "name": "stdout",
     "output_type": "stream",
     "text": [
      "<class 'int'>\n",
      "<class 'float'>\n",
      "<class 'str'>\n",
      "<class 'bool'>\n",
      "<class 'complex'>\n"
     ]
    }
   ],
   "source": [
    "a = 15\n",
    "b = 0.5\n",
    "c = 'avg'\n",
    "d = True\n",
    "e = 3 - 1j\n",
    "\n",
    "print(type(a))\n",
    "print(type(b))\n",
    "print(type(c))\n",
    "print(type(d))\n",
    "print(type(e))"
   ]
  },
  {
   "cell_type": "markdown",
   "metadata": {},
   "source": [
    "#### Conversão para binário - `bin()` "
   ]
  },
  {
   "cell_type": "code",
   "execution_count": 11,
   "metadata": {},
   "outputs": [
    {
     "name": "stdout",
     "output_type": "stream",
     "text": [
      "-0b100101\n"
     ]
    }
   ],
   "source": [
    "a = -37\n",
    "\n",
    "# `bin(int)`retorna a representação binária de um inteiro decimal\n",
    "x = bin(a)\n",
    "print(x)"
   ]
  },
  {
   "cell_type": "markdown",
   "metadata": {},
   "source": [
    "#### Conversão para octal - `oct()`"
   ]
  },
  {
   "cell_type": "code",
   "execution_count": 12,
   "metadata": {},
   "outputs": [
    {
     "name": "stdout",
     "output_type": "stream",
     "text": [
      "-0o45\n"
     ]
    }
   ],
   "source": [
    "# `oct(int)` retorna a representação octal de um inteiro decimal\n",
    "x = oct(a)\n",
    "print(x)"
   ]
  },
  {
   "cell_type": "markdown",
   "metadata": {},
   "source": [
    "#### Conversão para hexadecimal - `hex()`"
   ]
  },
  {
   "cell_type": "code",
   "execution_count": 15,
   "metadata": {},
   "outputs": [
    {
     "name": "stdout",
     "output_type": "stream",
     "text": [
      "-0x25\n"
     ]
    }
   ],
   "source": [
    "# `hex(int)` retorna a representação hexadecimal de um inteiro decimal\n",
    "x = hex(a)\n",
    "print(x)"
   ]
  },
  {
   "cell_type": "markdown",
   "metadata": {},
   "source": [
    "#### Número de bits necessários para represenar um inteiro em binário"
   ]
  },
  {
   "cell_type": "code",
   "execution_count": 14,
   "metadata": {},
   "outputs": [
    {
     "name": "stdout",
     "output_type": "stream",
     "text": [
      "6\n"
     ]
    }
   ],
   "source": [
    "# `bit_length()` retorna o número de bits necessários para representar um inteiro em binário.\n",
    "# são excluídos os zeros a esquerda e o bit de sinal.\n",
    "print(a.bit_length())"
   ]
  },
  {
   "cell_type": "markdown",
   "metadata": {},
   "source": [
    "#### Descobrir a ordem dos bytes para sua arquitetura"
   ]
  },
  {
   "cell_type": "code",
   "execution_count": 16,
   "metadata": {},
   "outputs": [
    {
     "name": "stdout",
     "output_type": "stream",
     "text": [
      "little\n"
     ]
    }
   ],
   "source": [
    "# descobrir a ordem dos bytes\n",
    "import sys\n",
    "print(sys.byteorder)"
   ]
  },
  {
   "cell_type": "markdown",
   "metadata": {},
   "source": [
    "#### Representação em bytes - `to_bytes()`"
   ]
  },
  {
   "cell_type": "code",
   "execution_count": 17,
   "metadata": {},
   "outputs": [
    {
     "name": "stdout",
     "output_type": "stream",
     "text": [
      "b'\\x04\\x00'\n",
      "b'\\x00\\x04\\x00\\x00\\x00\\x00\\x00\\x00\\x00\\x00'\n",
      "b'\\xff\\xff\\xff\\xfc\\x00'\n"
     ]
    }
   ],
   "source": [
    "# `to_bytes(lenght, byteorder, *, signed)` retorna um array de bytes representando o inteiro \n",
    "# length - quantidade de bytes usadas na representação\n",
    "# byteorder - pode ser `big` ou `little`\n",
    "# signed - indica se o inteiro é sinalidade, False por padrão.\n",
    "# OverflowError\n",
    "\n",
    "print((1024).to_bytes(2, byteorder='big'))\n",
    "# b'\\x04\\x00' (4 * 16 * 16)\n",
    "print((1024).to_bytes(10, byteorder='little'))\n",
    "# b'\\x00\\x04\\x00\\x00\\x00\\x00\\x00\\x00\\x00\\x00' (16 * 16 * 4)\n",
    "print((-1024).to_bytes(5, byteorder='big', signed=True))"
   ]
  },
  {
   "cell_type": "markdown",
   "metadata": {},
   "source": [
    "#### Representação inteira - `from_bytes()`"
   ]
  },
  {
   "cell_type": "code",
   "execution_count": 18,
   "metadata": {},
   "outputs": [
    {
     "name": "stdout",
     "output_type": "stream",
     "text": [
      "16\n",
      "4096\n",
      "-1024\n",
      "64512\n",
      "513\n"
     ]
    }
   ],
   "source": [
    "# `from_bytes(lenght, byteorder, *, signed)` retorna a representação inteira de um array de bytes \n",
    "# bytes\n",
    "# byteorder - pode ser `big` ou `little`\n",
    "# signed - indica se o inteiro é sinalidade, False por padrão.\n",
    "# OverflowError\n",
    "\n",
    "print(int.from_bytes(b'\\x00\\x10', byteorder='big'))\n",
    "print(int.from_bytes(b'\\x00\\x10', byteorder='little'))\n",
    "print(int.from_bytes(b'\\xfc\\x00', byteorder='big', signed=True))\n",
    "print(int.from_bytes(b'\\xfc\\x00', byteorder='big', signed=False))\n",
    "print(int.from_bytes([0, 2, 1], byteorder='big'))"
   ]
  },
  {
   "cell_type": "markdown",
   "metadata": {},
   "source": [
    "### Ponto Flutuante - `float`\n",
    "\n",
    "Números de ponto flutuante são geralmente implementados usando o `double` (64 bits) em C. Informações sobre a precisão e representação interna dos números de ponto flutuante da máquina na qual seu programa está sendo executado estão disponíveis em `sys.float_info`."
   ]
  },
  {
   "cell_type": "code",
   "execution_count": 23,
   "metadata": {},
   "outputs": [
    {
     "name": "stdout",
     "output_type": "stream",
     "text": [
      "sys.float_info(max=1.7976931348623157e+308, max_exp=1024, max_10_exp=308, min=2.2250738585072014e-308, min_exp=-1021, min_10_exp=-307, dig=15, mant_dig=53, epsilon=2.220446049250313e-16, radix=2, rounds=1)\n",
      "1.7976931348623157e+308\n",
      "2.2250738585072014e-308\n"
     ]
    }
   ],
   "source": [
    "print(sys.float_info)\n",
    "print(sys.float_info.max)\n",
    "print(sys.float_info.min)"
   ]
  },
  {
   "cell_type": "code",
   "execution_count": 24,
   "metadata": {},
   "outputs": [
    {
     "data": {
      "text/plain": [
       "(3, 2)"
      ]
     },
     "execution_count": 24,
     "metadata": {},
     "output_type": "execute_result"
    }
   ],
   "source": [
    "# 'as_interger_ratio()' Retorna uma tupla (par) de inteiros cuja divisão resulta no ponto flutuante.\n",
    "(1.5).as_integer_ratio()"
   ]
  },
  {
   "cell_type": "code",
   "execution_count": 25,
   "metadata": {},
   "outputs": [
    {
     "name": "stdout",
     "output_type": "stream",
     "text": [
      "False True\n"
     ]
    }
   ],
   "source": [
    "# 'is_integer()' retorna True se o float for um valor inteiro, False caso contrário.\n",
    "x = 4.5\n",
    "y = 3.0\n",
    "print(x.is_integer(), y.is_integer())"
   ]
  },
  {
   "cell_type": "markdown",
   "metadata": {},
   "source": [
    "#### Representação Hexadecimal"
   ]
  },
  {
   "cell_type": "code",
   "execution_count": 26,
   "metadata": {},
   "outputs": [
    {
     "name": "stdout",
     "output_type": "stream",
     "text": [
      "0x1.bbe76c8b43958p+2\n",
      "6.936\n",
      "3740.0\n"
     ]
    }
   ],
   "source": [
    "x = 6.936\n",
    "print(x.hex())\n",
    "print(float.fromhex('0x1.bbe76c8b43958p+2'))\n",
    "print(float.fromhex('0x3.a7p10'))"
   ]
  },
  {
   "cell_type": "markdown",
   "metadata": {},
   "source": [
    "<img src=\"img/devcated-logo-black.png\" alt=\"Devcated Logo\" width=\"180\">\n",
    "<p><center>&copy; 2019</center></p>"
   ]
  }
 ],
 "metadata": {
  "kernelspec": {
   "display_name": "Python 3",
   "language": "python",
   "name": "python3"
  },
  "language_info": {
   "codemirror_mode": {
    "name": "ipython",
    "version": 3
   },
   "file_extension": ".py",
   "mimetype": "text/x-python",
   "name": "python",
   "nbconvert_exporter": "python",
   "pygments_lexer": "ipython3",
   "version": "3.7.3"
  }
 },
 "nbformat": 4,
 "nbformat_minor": 2
}
