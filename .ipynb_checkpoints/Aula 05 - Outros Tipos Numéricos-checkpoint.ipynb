{
 "cells": [
  {
   "cell_type": "markdown",
   "metadata": {},
   "source": [
    "<img src=\"./img/channel-art.png\" alt=\"Devcated Banner\" width=\"100%\">\n",
    "\n",
    "# Curso Python - Aula 05 - Outros Tipos Numéricos\n",
    "\n",
    "__Marcos Avner P. de Lima__\n",
    "\n",
    "marcos.lima@icomp.ufam.edu.br"
   ]
  },
  {
   "cell_type": "markdown",
   "metadata": {},
   "source": [
    "***\n",
    "## Roteiro\n",
    "* [Números Complexos - _complex_](#Números-Complexos)\n",
    "* [Cast](#Cast)"
   ]
  },
  {
   "cell_type": "markdown",
   "metadata": {},
   "source": [
    "***\n",
    "## 1. Números Complexos\n",
    "\n",
    "Números Complexos têm uma parte `real` e `imaginária`, onde cada um é `float`.  "
   ]
  },
  {
   "cell_type": "code",
   "execution_count": 98,
   "metadata": {},
   "outputs": [
    {
     "name": "stdout",
     "output_type": "stream",
     "text": [
      "Help on class complex in module builtins:\n",
      "\n",
      "class complex(object)\n",
      " |  complex(real=0, imag=0)\n",
      " |  \n",
      " |  Create a complex number from a real part and an optional imaginary part.\n",
      " |  \n",
      " |  This is equivalent to (real + imag*1j) where imag defaults to 0.\n",
      " |  \n",
      " |  Methods defined here:\n",
      " |  \n",
      " |  __abs__(self, /)\n",
      " |      abs(self)\n",
      " |  \n",
      " |  __add__(self, value, /)\n",
      " |      Return self+value.\n",
      " |  \n",
      " |  __bool__(self, /)\n",
      " |      self != 0\n",
      " |  \n",
      " |  __divmod__(self, value, /)\n",
      " |      Return divmod(self, value).\n",
      " |  \n",
      " |  __eq__(self, value, /)\n",
      " |      Return self==value.\n",
      " |  \n",
      " |  __float__(self, /)\n",
      " |      float(self)\n",
      " |  \n",
      " |  __floordiv__(self, value, /)\n",
      " |      Return self//value.\n",
      " |  \n",
      " |  __format__(...)\n",
      " |      complex.__format__() -> str\n",
      " |      \n",
      " |      Convert to a string according to format_spec.\n",
      " |  \n",
      " |  __ge__(self, value, /)\n",
      " |      Return self>=value.\n",
      " |  \n",
      " |  __getattribute__(self, name, /)\n",
      " |      Return getattr(self, name).\n",
      " |  \n",
      " |  __getnewargs__(...)\n",
      " |  \n",
      " |  __gt__(self, value, /)\n",
      " |      Return self>value.\n",
      " |  \n",
      " |  __hash__(self, /)\n",
      " |      Return hash(self).\n",
      " |  \n",
      " |  __int__(self, /)\n",
      " |      int(self)\n",
      " |  \n",
      " |  __le__(self, value, /)\n",
      " |      Return self<=value.\n",
      " |  \n",
      " |  __lt__(self, value, /)\n",
      " |      Return self<value.\n",
      " |  \n",
      " |  __mod__(self, value, /)\n",
      " |      Return self%value.\n",
      " |  \n",
      " |  __mul__(self, value, /)\n",
      " |      Return self*value.\n",
      " |  \n",
      " |  __ne__(self, value, /)\n",
      " |      Return self!=value.\n",
      " |  \n",
      " |  __neg__(self, /)\n",
      " |      -self\n",
      " |  \n",
      " |  __pos__(self, /)\n",
      " |      +self\n",
      " |  \n",
      " |  __pow__(self, value, mod=None, /)\n",
      " |      Return pow(self, value, mod).\n",
      " |  \n",
      " |  __radd__(self, value, /)\n",
      " |      Return value+self.\n",
      " |  \n",
      " |  __rdivmod__(self, value, /)\n",
      " |      Return divmod(value, self).\n",
      " |  \n",
      " |  __repr__(self, /)\n",
      " |      Return repr(self).\n",
      " |  \n",
      " |  __rfloordiv__(self, value, /)\n",
      " |      Return value//self.\n",
      " |  \n",
      " |  __rmod__(self, value, /)\n",
      " |      Return value%self.\n",
      " |  \n",
      " |  __rmul__(self, value, /)\n",
      " |      Return value*self.\n",
      " |  \n",
      " |  __rpow__(self, value, mod=None, /)\n",
      " |      Return pow(value, self, mod).\n",
      " |  \n",
      " |  __rsub__(self, value, /)\n",
      " |      Return value-self.\n",
      " |  \n",
      " |  __rtruediv__(self, value, /)\n",
      " |      Return value/self.\n",
      " |  \n",
      " |  __str__(self, /)\n",
      " |      Return str(self).\n",
      " |  \n",
      " |  __sub__(self, value, /)\n",
      " |      Return self-value.\n",
      " |  \n",
      " |  __truediv__(self, value, /)\n",
      " |      Return self/value.\n",
      " |  \n",
      " |  conjugate(...)\n",
      " |      complex.conjugate() -> complex\n",
      " |      \n",
      " |      Return the complex conjugate of its argument. (3-4j).conjugate() == 3+4j.\n",
      " |  \n",
      " |  ----------------------------------------------------------------------\n",
      " |  Static methods defined here:\n",
      " |  \n",
      " |  __new__(*args, **kwargs) from builtins.type\n",
      " |      Create and return a new object.  See help(type) for accurate signature.\n",
      " |  \n",
      " |  ----------------------------------------------------------------------\n",
      " |  Data descriptors defined here:\n",
      " |  \n",
      " |  imag\n",
      " |      the imaginary part of a complex number\n",
      " |  \n",
      " |  real\n",
      " |      the real part of a complex number\n",
      "\n"
     ]
    }
   ],
   "source": [
    "help(complex)"
   ]
  },
  {
   "cell_type": "code",
   "execution_count": 71,
   "metadata": {},
   "outputs": [
    {
     "name": "stdout",
     "output_type": "stream",
     "text": [
      "(15-9j)\n"
     ]
    }
   ],
   "source": [
    "z = 5 - 3j\n",
    "z *= 3\n",
    "print(z)"
   ]
  },
  {
   "cell_type": "code",
   "execution_count": 72,
   "metadata": {},
   "outputs": [
    {
     "name": "stdout",
     "output_type": "stream",
     "text": [
      "(10-5j)\n"
     ]
    }
   ],
   "source": [
    "z += -5 + 4j\n",
    "print(z)"
   ]
  },
  {
   "cell_type": "markdown",
   "metadata": {},
   "source": [
    "Para extrair as partes `real` e `imaginária` basta usar as propriedades `real` e `imag`."
   ]
  },
  {
   "cell_type": "code",
   "execution_count": 73,
   "metadata": {},
   "outputs": [
    {
     "name": "stdout",
     "output_type": "stream",
     "text": [
      "10.0 -5.0\n"
     ]
    }
   ],
   "source": [
    "print(z.real,z.imag)"
   ]
  },
  {
   "cell_type": "markdown",
   "metadata": {},
   "source": [
    "Podemos obter o `conjugado` do número complexo através da propriedade `conjugate`."
   ]
  },
  {
   "cell_type": "code",
   "execution_count": 74,
   "metadata": {},
   "outputs": [
    {
     "data": {
      "text/plain": [
       "(10+5j)"
      ]
     },
     "execution_count": 74,
     "metadata": {},
     "output_type": "execute_result"
    }
   ],
   "source": [
    "z.conjugate()"
   ]
  },
  {
   "cell_type": "markdown",
   "metadata": {},
   "source": [
    "***\n",
    "## 2. Módulo Decimal\n",
    "\n",
    "O tipo `Decimal` permite realizar, de forma rápida e eficiente, operações aritméticas em ponto flutuante com arredondamento correto. Ele oferece diversas vantagens em relação ao tipo `float`.\n",
    "* Modelo de ponto flutuante que foi projetado com um princípio orientador primordial - os computadores devem fornecer uma aritmética que funcione da mesma maneira que a aritmética que as pessoas aprendem na escola.\n",
    "* Os números decimais podem ser representados exatamente.\n",
    "* É aconselhável em aplicações contábeis que possuem restrições de igualdade.\n",
    "* Incorpora uma noção de casas significativas, de modo que `1,30 + 1,20` é `2,50`. O zero à direita é mantido para indicar significância. Esta é a apresentação habitual para __aplicações monetárias__.\n",
    "* Ao contrário do ponto flutuante binário baseado em hardware, o módulo decimal possui uma precisão alterável pelo usuário (padrão de 28 casas), que pode escalar conforme a necessidade do seu problema.\n",
    "\n",
    "Diferente dos demais tipos apresentados até aqui, o tipo `decimal` está num módulo separado chamado `decimal.py`. Para fazer uso desse tipo precisamos importar o módulo `decimal`."
   ]
  },
  {
   "cell_type": "code",
   "execution_count": 75,
   "metadata": {},
   "outputs": [
    {
     "name": "stdout",
     "output_type": "stream",
     "text": [
      "3.3000000000000003\n",
      "3.300000000000000266453525910\n"
     ]
    }
   ],
   "source": [
    "import decimal\n",
    "\n",
    "print(1.1 + 2.2)\n",
    "\n",
    "# criando um objeto 'decimal'\n",
    "n = decimal.Decimal(1.1)\n",
    "print(n + (n*2))"
   ]
  },
  {
   "cell_type": "markdown",
   "metadata": {},
   "source": [
    "Continuamos com problemas de precisão certo? Acontece que o objeto `Decimal` foi criado com um número `float` que já apresentava erros. Para evitar tais erros é possível criar objetos `Decimal` usando texto (`strings`)."
   ]
  },
  {
   "cell_type": "code",
   "execution_count": 76,
   "metadata": {},
   "outputs": [
    {
     "name": "stdout",
     "output_type": "stream",
     "text": [
      "3.3\n"
     ]
    }
   ],
   "source": [
    "# não é necessário importar novamente o módulo\n",
    "\n",
    "n = decimal.Decimal('1.1') # perceba que agora estamos passando um texto\n",
    "print(n + (n*2))"
   ]
  },
  {
   "cell_type": "code",
   "execution_count": 77,
   "metadata": {},
   "outputs": [
    {
     "name": "stdout",
     "output_type": "stream",
     "text": [
      "8.70\n",
      "8.4100\n"
     ]
    }
   ],
   "source": [
    "n = decimal.Decimal('2.90')\n",
    "print(n * 3) \n",
    "print(n ** 2) # observe que as casa decimais acompanham a operação utilizada"
   ]
  },
  {
   "cell_type": "markdown",
   "metadata": {},
   "source": [
    "### 2.1 Contexto\n",
    "\n",
    "Adicionalmente no módulo `decimal` temos um outro objeto chamado de `context`. Um `context` é um ambiente no qual executamos as operações aritméticas. Ele determina:\n",
    "* a `precisão` utilizada\n",
    "* regras de `arredondamento`\n",
    "* limites para os `expoentes`\n",
    "* `flags` indicando os resultados de operações\n",
    "* e quando devem ser lançada um `exception`"
   ]
  },
  {
   "cell_type": "code",
   "execution_count": 78,
   "metadata": {},
   "outputs": [
    {
     "name": "stdout",
     "output_type": "stream",
     "text": [
      "28\n",
      "-999999\n",
      "999999\n",
      "1\n",
      "0\n"
     ]
    }
   ],
   "source": [
    "# acessando as informações do contexto.\n",
    "\n",
    "print(decimal.getcontext().prec) # quantidade de bits de 'precisão'\n",
    "print(decimal.getcontext().Emin) # 'expoente' mínimo\n",
    "print(decimal.getcontext().Emax) # 'expoente' máximo\n",
    "print(decimal.getcontext().capitals) # se a letra 'e' do expoente deve ser exibida em maiúscula\n",
    "print(decimal.getcontext().clamp) # se o 'expoente' é limitado a ((Emin-prec)+1) <= e <= ((Emax-prec)+1)"
   ]
  },
  {
   "cell_type": "markdown",
   "metadata": {},
   "source": [
    "Cada processo (`thread`) próprio contexto que especifica o ambiente para as operações aritméticas em todo o processo. Porém em algumas situações desejamos realizar alguma operação com uma precisão maior, ou com números maiores. Para isso o módulo `decimal` disponibiliza um outro objeto temporário chamado `localcontext`."
   ]
  },
  {
   "cell_type": "code",
   "execution_count": 79,
   "metadata": {},
   "outputs": [
    {
     "name": "stdout",
     "output_type": "stream",
     "text": [
      "10.3\n",
      "10.2857143\n",
      "10.3\n"
     ]
    }
   ],
   "source": [
    "# alterando a precisão global de toda aplicação\n",
    "decimal.getcontext().prec = 3\n",
    "\n",
    "div = decimal.Decimal(72) / decimal.Decimal(7)\n",
    "print(div)\n",
    "\n",
    "# aqui criamos um novo objeto contexto e chamamos de 'ctx' dentro de um bloco 'with'\n",
    "# todas as operações realizadas dentro do bloco serão feitas usando o contexto local 'ctx'\n",
    "with decimal.localcontext() as ctx:\n",
    "    ctx.prec = 9\n",
    "    div = decimal.Decimal(72) / decimal.Decimal(7)\n",
    "    print(div)\n",
    "\n",
    "# aqui encerra o bloco 'with'\n",
    "# voltamos para o contexto global\n",
    "div = decimal.Decimal(72) / decimal.Decimal(7)\n",
    "print(div)"
   ]
  },
  {
   "cell_type": "markdown",
   "metadata": {},
   "source": [
    "### 2.2 Arredondamento\n",
    "\n",
    "As regras de arredondamento podem ser alteradas modificando o atributo `rounding`. Os valores permitidos são algumas `constantes` do módulo `decimal`:\n",
    "* decimal.__ROUND_CEILING__ - Arredonda em direção ao `infinito` (positivo ou negativo).\n",
    "* decimal.__ROUND_DOWN__ - Arredonda em direção ao `zero` (positivo ou negativo).\n",
    "* decimal.__ROUND_FLOOR__ - Arredonda em direção ao `-Infinito` (negativo).\n",
    "* decimal.__ROUND_HALF_DOWN__ - Arredonda para o `mais próximo` ou `zero`.\n",
    "* decimal.__ROUND_HALF_EVEN__ - Arredonda para o `mais próximo` ou `par`.\n",
    "* decimal.__ROUND_HALF_UP__ - Arredonda para `mais próximo` ou `para cima`.\n",
    "* decimal.__ROUND_UP__ - Arredonda `para cima`."
   ]
  },
  {
   "cell_type": "code",
   "execution_count": 80,
   "metadata": {},
   "outputs": [
    {
     "name": "stdout",
     "output_type": "stream",
     "text": [
      "ROUND_HALF_EVEN\n"
     ]
    }
   ],
   "source": [
    "# verificando a regra de arredondamento\n",
    "print(decimal.getcontext().rounding)"
   ]
  },
  {
   "cell_type": "code",
   "execution_count": 81,
   "metadata": {},
   "outputs": [
    {
     "name": "stdout",
     "output_type": "stream",
     "text": [
      "5.85987\n"
     ]
    }
   ],
   "source": [
    "decimal.getcontext().prec = 6 # apenas 1 digito e sem casa decimal\n",
    "x = decimal.Decimal('3.1415926535')\n",
    "y = decimal.Decimal('2.7182818285')\n",
    "print(x + y)"
   ]
  },
  {
   "cell_type": "code",
   "execution_count": 82,
   "metadata": {},
   "outputs": [
    {
     "name": "stdout",
     "output_type": "stream",
     "text": [
      "5.85988\n"
     ]
    }
   ],
   "source": [
    "# arredonda para o mais próximo ou para cima\n",
    "decimal.getcontext().rounding = decimal.ROUND_UP\n",
    "print(x + y)"
   ]
  },
  {
   "cell_type": "code",
   "execution_count": 83,
   "metadata": {},
   "outputs": [
    {
     "name": "stdout",
     "output_type": "stream",
     "text": [
      "-5.85988\n",
      "-5.85987\n"
     ]
    }
   ],
   "source": [
    "x = decimal.Decimal('-3.1415926535')\n",
    "y = decimal.Decimal('-2.7182818285')\n",
    "\n",
    "# arredonda em direção ao -Infinito\n",
    "decimal.getcontext().rounding = decimal.ROUND_FLOOR\n",
    "print(x + y)\n",
    "\n",
    "# arredonda em direção ao zero\n",
    "decimal.getcontext().rounding = decimal.ROUND_DOWN\n",
    "print(x + y)"
   ]
  },
  {
   "cell_type": "markdown",
   "metadata": {},
   "source": [
    "***\n",
    "## 3. Módulo Fractions\n",
    "\n",
    "O módulo `fractions` provê suporte para aritmética com números racionais.\n",
    "Podemos criar um objeto `Fraction` utilizando:\n",
    "* um par de `inteiros`\n",
    "* outro objeto `fraction`\n",
    "* um `float`\n",
    "* um `decimal`\n",
    "* e uma `string`"
   ]
  },
  {
   "cell_type": "code",
   "execution_count": 84,
   "metadata": {},
   "outputs": [],
   "source": [
    "# importando o módulo\n",
    "import fractions as fct"
   ]
  },
  {
   "cell_type": "markdown",
   "metadata": {},
   "source": [
    "### 3.1 Criando um objeto Fraction de um par de Inteiros"
   ]
  },
  {
   "cell_type": "code",
   "execution_count": 85,
   "metadata": {},
   "outputs": [
    {
     "name": "stdout",
     "output_type": "stream",
     "text": [
      "-8/5\n",
      "0\n"
     ]
    }
   ],
   "source": [
    "# utilizando um par de inteiros\n",
    "x = fct.Fraction(16,-10)\n",
    "print(x)\n",
    "x = fct.Fraction(0,1)\n",
    "print(x)"
   ]
  },
  {
   "cell_type": "markdown",
   "metadata": {},
   "source": [
    "### 3.2 Criando um objeto Fraction de uma String"
   ]
  },
  {
   "cell_type": "code",
   "execution_count": 86,
   "metadata": {},
   "outputs": [
    {
     "name": "stdout",
     "output_type": "stream",
     "text": [
      "3/7\n",
      "-3/16\n",
      "-1/8\n",
      "7/1000000\n"
     ]
    }
   ],
   "source": [
    "# utilizando 'strings'\n",
    "x = fct.Fraction('3/7')\n",
    "print(x)\n",
    "x = fct.Fraction('-15/80')\n",
    "print(x)\n",
    "x = fct.Fraction('-.125')\n",
    "print(x)\n",
    "x = fct.Fraction('7e-6')\n",
    "print(x)"
   ]
  },
  {
   "cell_type": "markdown",
   "metadata": {},
   "source": [
    "### 3.3 Criando um objeto Fraction de um Float"
   ]
  },
  {
   "cell_type": "code",
   "execution_count": 87,
   "metadata": {},
   "outputs": [
    {
     "name": "stdout",
     "output_type": "stream",
     "text": [
      "9/4\n",
      "2476979795053773/2251799813685248\n"
     ]
    }
   ],
   "source": [
    "# utilizando 'float'\n",
    "x = fct.Fraction(2.25)\n",
    "print(x)\n",
    "x = fct.Fraction(1.1)\n",
    "print(x)"
   ]
  },
  {
   "cell_type": "markdown",
   "metadata": {},
   "source": [
    "### 3.4 Criando um objeto Fraction de um Decimal"
   ]
  },
  {
   "cell_type": "code",
   "execution_count": 88,
   "metadata": {},
   "outputs": [
    {
     "name": "stdout",
     "output_type": "stream",
     "text": [
      "11/10\n"
     ]
    }
   ],
   "source": [
    "# utilizando 'Decimal'\n",
    "x = fct.Fraction(decimal.Decimal('1.1'))\n",
    "print(x)"
   ]
  },
  {
   "cell_type": "markdown",
   "metadata": {},
   "source": [
    "### 3.5 Obtendo o Numerador de Denominador\n",
    "\n",
    "Um objeto `Fraction` possui apenas dois atributos `numerator` e `denominator`."
   ]
  },
  {
   "cell_type": "code",
   "execution_count": 89,
   "metadata": {},
   "outputs": [
    {
     "name": "stdout",
     "output_type": "stream",
     "text": [
      "153 10\n"
     ]
    }
   ],
   "source": [
    "x = fct.Fraction('15.30')\n",
    "print(x.numerator,x.denominator)"
   ]
  },
  {
   "cell_type": "markdown",
   "metadata": {},
   "source": [
    "### 3.6 Operações númericas\n",
    "\n",
    "Os operadores funcionam perfeitamente com objetos `Fraction`."
   ]
  },
  {
   "cell_type": "code",
   "execution_count": 90,
   "metadata": {},
   "outputs": [
    {
     "name": "stdout",
     "output_type": "stream",
     "text": [
      "1\n",
      "9/5\n",
      "3/10\n",
      "5/6\n"
     ]
    }
   ],
   "source": [
    "x = fct.Fraction('1/2')\n",
    "y = fct.Fraction('3/5')\n",
    "\n",
    "print(x * 2)\n",
    "print(y * 3)\n",
    "print(x * y)\n",
    "print(x / y)"
   ]
  },
  {
   "cell_type": "markdown",
   "metadata": {},
   "source": [
    "***\n",
    "## 4. Cast"
   ]
  },
  {
   "cell_type": "code",
   "execution_count": 17,
   "metadata": {},
   "outputs": [
    {
     "data": {
      "text/plain": [
       "2.0"
      ]
     },
     "execution_count": 17,
     "metadata": {},
     "output_type": "execute_result"
    }
   ],
   "source": [
    "float(2)"
   ]
  },
  {
   "cell_type": "code",
   "execution_count": 13,
   "metadata": {},
   "outputs": [
    {
     "data": {
      "text/plain": [
       "2"
      ]
     },
     "execution_count": 13,
     "metadata": {},
     "output_type": "execute_result"
    }
   ],
   "source": [
    "int(2.9)"
   ]
  },
  {
   "cell_type": "code",
   "execution_count": 15,
   "metadata": {},
   "outputs": [
    {
     "data": {
      "text/plain": [
       "0"
      ]
     },
     "execution_count": 15,
     "metadata": {},
     "output_type": "execute_result"
    }
   ],
   "source": [
    "int(0.5)"
   ]
  },
  {
   "cell_type": "code",
   "execution_count": 16,
   "metadata": {},
   "outputs": [
    {
     "data": {
      "text/plain": [
       "-1"
      ]
     },
     "execution_count": 16,
     "metadata": {},
     "output_type": "execute_result"
    }
   ],
   "source": [
    "int(-1.5)"
   ]
  },
  {
   "cell_type": "code",
   "execution_count": 18,
   "metadata": {},
   "outputs": [
    {
     "data": {
      "text/plain": [
       "'2.9'"
      ]
     },
     "execution_count": 18,
     "metadata": {},
     "output_type": "execute_result"
    }
   ],
   "source": [
    "str(2.9)"
   ]
  },
  {
   "cell_type": "markdown",
   "metadata": {},
   "source": [
    "Zero, `None` e objetos vazios são convertidos para `False`:"
   ]
  },
  {
   "cell_type": "code",
   "execution_count": 19,
   "metadata": {},
   "outputs": [
    {
     "data": {
      "text/plain": [
       "False"
      ]
     },
     "execution_count": 19,
     "metadata": {},
     "output_type": "execute_result"
    }
   ],
   "source": [
    "bool(0)"
   ]
  },
  {
   "cell_type": "code",
   "execution_count": 20,
   "metadata": {},
   "outputs": [
    {
     "data": {
      "text/plain": [
       "False"
      ]
     },
     "execution_count": 20,
     "metadata": {},
     "output_type": "execute_result"
    }
   ],
   "source": [
    "bool(None)"
   ]
  },
  {
   "cell_type": "code",
   "execution_count": 21,
   "metadata": {},
   "outputs": [
    {
     "data": {
      "text/plain": [
       "False"
      ]
     },
     "execution_count": 21,
     "metadata": {},
     "output_type": "execute_result"
    }
   ],
   "source": [
    "bool('') # string vazia"
   ]
  },
  {
   "cell_type": "code",
   "execution_count": 22,
   "metadata": {},
   "outputs": [
    {
     "data": {
      "text/plain": [
       "False"
      ]
     },
     "execution_count": 22,
     "metadata": {},
     "output_type": "execute_result"
    }
   ],
   "source": [
    "bool([]) #lista vazia"
   ]
  },
  {
   "cell_type": "code",
   "execution_count": 23,
   "metadata": {},
   "outputs": [
    {
     "data": {
      "text/plain": [
       "False"
      ]
     },
     "execution_count": 23,
     "metadata": {},
     "output_type": "execute_result"
    }
   ],
   "source": [
    "bool({}) # dicionário vazio"
   ]
  },
  {
   "cell_type": "markdown",
   "metadata": {},
   "source": [
    "Os demais valores são convertidos para `True`:"
   ]
  },
  {
   "cell_type": "code",
   "execution_count": 24,
   "metadata": {},
   "outputs": [
    {
     "data": {
      "text/plain": [
       "True"
      ]
     },
     "execution_count": 24,
     "metadata": {},
     "output_type": "execute_result"
    }
   ],
   "source": [
    "bool(2)"
   ]
  },
  {
   "cell_type": "code",
   "execution_count": 25,
   "metadata": {},
   "outputs": [
    {
     "data": {
      "text/plain": [
       "True"
      ]
     },
     "execution_count": 25,
     "metadata": {},
     "output_type": "execute_result"
    }
   ],
   "source": [
    "bool('Two')"
   ]
  },
  {
   "cell_type": "code",
   "execution_count": 26,
   "metadata": {},
   "outputs": [
    {
     "data": {
      "text/plain": [
       "True"
      ]
     },
     "execution_count": 26,
     "metadata": {},
     "output_type": "execute_result"
    }
   ],
   "source": [
    "bool([2])"
   ]
  },
  {
   "cell_type": "markdown",
   "metadata": {},
   "source": [
    "<a href=\"https://github.com/loop-infinito/curso_python3\"><img style=\"display: inline-flex;margin-left: 400px;margin-right:auto\" src=\"./img/github-logo.png\" alt=\"Github repositório\" width=\"30\"></a>\n",
    "<a href=\"https://www.linkedin.com/in/marcosmapl\"><img style=\"display: inline-flex;margin-left: auto;margin-right:auto\" src=\"./img/linkedin.png\" alt=\"Linkedin Logo\" width=\"30\"></a>\n",
    "<a href=\"https://www.youtube.com/channel/UC-dBuD3xwKH4rm2mL-kGwfQ\"><img style=\"display: inline-flex;margin-left:auto;margin-right:auto\" src=\"./img/subscribe.png\" alt=\"Subscribe at my Channel\" width=\"90\"></a>\n",
    "</div>\n",
    "<p style=\"text-align:center\">&copy; 2020 Loop Infinito</p>"
   ]
  }
 ],
 "metadata": {
  "kernelspec": {
   "display_name": "Python 3",
   "language": "python",
   "name": "python3"
  },
  "language_info": {
   "codemirror_mode": {
    "name": "ipython",
    "version": 3
   },
   "file_extension": ".py",
   "mimetype": "text/x-python",
   "name": "python",
   "nbconvert_exporter": "python",
   "pygments_lexer": "ipython3",
   "version": "3.7.5"
  }
 },
 "nbformat": 4,
 "nbformat_minor": 2
}
