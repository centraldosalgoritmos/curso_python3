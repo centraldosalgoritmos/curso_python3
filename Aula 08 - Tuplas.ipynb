{
 "cells": [
  {
   "cell_type": "markdown",
   "metadata": {},
   "source": [
    "<img src=\"./img/channel-art.png\" alt=\"O Mago dos Bits - Channel Art\" width=\"100%\">\n",
    "\n",
    "# Curso Python - Aula 08 - Tuplas\n",
    "\n",
    "__Marcos Avner P. de Lima__\n",
    "\n",
    "marcos.lima@icomp.ufam.edu.br"
   ]
  },
  {
   "cell_type": "markdown",
   "metadata": {},
   "source": [
    "***\n",
    "# Roteiro\n",
    "* [1. Tuplas](#1.-Tuplas)"
   ]
  },
  {
   "cell_type": "markdown",
   "metadata": {},
   "source": [
    "***\n",
    "## 1. Tuplas\n",
    "\n",
    "São coleções __imutáveis__ e __ordenadas__ de objetos __heterogeneos__.\n",
    "\n",
    "Há várias formas de criar uma Tupla:\n",
    "* Usando o método construtor `tuple()`\n",
    "* Colocando os elementos entre `()`\n",
    "* Usando _Tuplas por Compreensão (Tuple Comprehension)_"
   ]
  },
  {
   "cell_type": "code",
   "execution_count": 62,
   "metadata": {},
   "outputs": [
    {
     "data": {
      "text/plain": [
       "(0, 1, 'b', 3, 'a')"
      ]
     },
     "execution_count": 62,
     "metadata": {},
     "output_type": "execute_result"
    }
   ],
   "source": [
    "# declarando uma 'tupla' diretamente\n",
    "t = (0, 1, 'b', 3 , 'a')\n",
    "t"
   ]
  },
  {
   "cell_type": "code",
   "execution_count": 63,
   "metadata": {},
   "outputs": [
    {
     "data": {
      "text/plain": [
       "('a', 1, 3, 'b', 'c', 3)"
      ]
     },
     "execution_count": 63,
     "metadata": {},
     "output_type": "execute_result"
    }
   ],
   "source": [
    "# criando uma 'tupla' a partir de uma 'lista'\n",
    "t = tuple(['a', 1, 3, 'b', 'c', 3])\n",
    "t"
   ]
  },
  {
   "cell_type": "code",
   "execution_count": 64,
   "metadata": {},
   "outputs": [
    {
     "data": {
      "text/plain": [
       "(0,)"
      ]
     },
     "execution_count": 64,
     "metadata": {},
     "output_type": "execute_result"
    }
   ],
   "source": [
    "# tupla unitária\n",
    "zero = (0,)\n",
    "zero"
   ]
  },
  {
   "cell_type": "markdown",
   "metadata": {},
   "source": [
    "### 1.1 Examinando uma tupla"
   ]
  },
  {
   "cell_type": "code",
   "execution_count": 65,
   "metadata": {},
   "outputs": [
    {
     "data": {
      "text/plain": [
       "('a', 1, 3, 'b', 'c', 3)"
      ]
     },
     "execution_count": 65,
     "metadata": {},
     "output_type": "execute_result"
    }
   ],
   "source": [
    "t"
   ]
  },
  {
   "cell_type": "code",
   "execution_count": 66,
   "metadata": {},
   "outputs": [
    {
     "data": {
      "text/plain": [
       "3"
      ]
     },
     "execution_count": 66,
     "metadata": {},
     "output_type": "execute_result"
    }
   ],
   "source": [
    "t[2]"
   ]
  },
  {
   "cell_type": "code",
   "execution_count": 67,
   "metadata": {},
   "outputs": [
    {
     "data": {
      "text/plain": [
       "3"
      ]
     },
     "execution_count": 67,
     "metadata": {},
     "output_type": "execute_result"
    }
   ],
   "source": [
    "t[-1]"
   ]
  },
  {
   "cell_type": "code",
   "execution_count": 68,
   "metadata": {},
   "outputs": [
    {
     "data": {
      "text/plain": [
       "6"
      ]
     },
     "execution_count": 68,
     "metadata": {},
     "output_type": "execute_result"
    }
   ],
   "source": [
    "len(t)"
   ]
  },
  {
   "cell_type": "code",
   "execution_count": 69,
   "metadata": {},
   "outputs": [
    {
     "data": {
      "text/plain": [
       "2"
      ]
     },
     "execution_count": 69,
     "metadata": {},
     "output_type": "execute_result"
    }
   ],
   "source": [
    "# conta a quantidade de ocorrências de um elemento\n",
    "t.count(3)"
   ]
  },
  {
   "cell_type": "code",
   "execution_count": 70,
   "metadata": {},
   "outputs": [
    {
     "data": {
      "text/plain": [
       "1"
      ]
     },
     "execution_count": 70,
     "metadata": {},
     "output_type": "execute_result"
    }
   ],
   "source": [
    "# retorna o 'índice' da primeira ocorrência de um elemento\n",
    "t.index(1)"
   ]
  },
  {
   "cell_type": "code",
   "execution_count": 71,
   "metadata": {},
   "outputs": [
    {
     "data": {
      "text/plain": [
       "2"
      ]
     },
     "execution_count": 71,
     "metadata": {},
     "output_type": "execute_result"
    }
   ],
   "source": [
    "t.index(3)"
   ]
  },
  {
   "cell_type": "markdown",
   "metadata": {},
   "source": [
    "### 1.2 Modificando uma Tupla"
   ]
  },
  {
   "cell_type": "code",
   "execution_count": 72,
   "metadata": {},
   "outputs": [],
   "source": [
    "# elements of a tuple cannot be modified (this would throw an error)\n",
    "# t[2] = 2"
   ]
  },
  {
   "cell_type": "code",
   "execution_count": 73,
   "metadata": {},
   "outputs": [
    {
     "data": {
      "text/plain": [
       "('a', 1, 3, 'b', 'c', 3, -3, 4)"
      ]
     },
     "execution_count": 73,
     "metadata": {},
     "output_type": "execute_result"
    }
   ],
   "source": [
    "# concatenação\n",
    "t = t + (-3, 4)\n",
    "t"
   ]
  },
  {
   "cell_type": "code",
   "execution_count": 74,
   "metadata": {},
   "outputs": [
    {
     "data": {
      "text/plain": [
       "('a', 1, 3, 'b', 'c', 3, -3, 4, 'a', 1, 3, 'b', 'c', 3, -3, 4)"
      ]
     },
     "execution_count": 74,
     "metadata": {},
     "output_type": "execute_result"
    }
   ],
   "source": [
    "t = t * 2\n",
    "t"
   ]
  },
  {
   "cell_type": "code",
   "execution_count": 78,
   "metadata": {},
   "outputs": [],
   "source": [
    "# nem todas as operações são suportadas\n",
    "# digits / 2"
   ]
  },
  {
   "cell_type": "markdown",
   "metadata": {},
   "source": [
    "### 1.3 Outras Operações com Tuplas"
   ]
  },
  {
   "cell_type": "code",
   "execution_count": 79,
   "metadata": {},
   "outputs": [
    {
     "data": {
      "text/plain": [
       "[(10, 40), (20, 30), (20, 60)]"
      ]
     },
     "execution_count": 79,
     "metadata": {},
     "output_type": "execute_result"
    }
   ],
   "source": [
    "# ordenando uma 'lista' de 'tuplas'\n",
    "t = [(20, 60), (10, 40), (20, 30)]\n",
    "# ordena primeiramente pelo primeiro elemento na lista, em caso de igualdade usa o segundo elemento\n",
    "sorted(t)    "
   ]
  },
  {
   "cell_type": "code",
   "execution_count": 95,
   "metadata": {},
   "outputs": [
    {
     "name": "stdout",
     "output_type": "stream",
     "text": [
      "Nome: Bart Simpson\n",
      "Idade: 09\n",
      "Sexo: M\n",
      "Altura: 1.52\n",
      "Cor: Amarelo\n"
     ]
    }
   ],
   "source": [
    "# tuple unpacking\n",
    "bart = ('Bart Simpson', 9, 'M', 1.523, 'amarelo')    # create a tuple\n",
    "(nome, idade, sexo, altura, cor) = bart        # unpacking\n",
    "print('Nome: {}'.format(nome))\n",
    "print('Idade: {:02d}'.format(idade))\n",
    "print('Sexo: {}'.format(sexo))\n",
    "print('Altura: {:.2f}'.format(altura))\n",
    "print('Cor: {}'.format(cor.capitalize()))"
   ]
  },
  {
   "cell_type": "markdown",
   "metadata": {},
   "source": [
    "## Referências\n",
    "\n",
    "* [Built-in Types - Python Docs 3.8.1](https://docs.python.org/3/library/stdtypes.html)\n",
    "* [Github jmportilla - Complete Python Bootcamp](https://github.com/jerry-git/learn-python3)"
   ]
  },
  {
   "cell_type": "markdown",
   "metadata": {},
   "source": [
    "<a href=\"https://github.com/omagodosbits/curso_python3\"><img style=\"display: inline-flex;margin-left: 400px;margin-right:auto\" src=\"./img/github-logo.png\" alt=\"Github repositório\" width=\"30\"></a>\n",
    "<a href=\"https://www.linkedin.com/in/marcosmapl\"><img style=\"display: inline-flex;margin-left: auto;margin-right:auto\" src=\"./img/linkedin.png\" alt=\"Linkedin Logo\" width=\"30\"></a>\n",
    "<a href=\"https://www.youtube.com/channel/UCH2hQ1qlt_Emv4exefAmw0w\"><img style=\"display: inline-flex;margin-left:auto;margin-right:auto\" src=\"./img/subscribe.png\" alt=\"Subscribe at my Channel\" width=\"90\"></a>\n",
    "<p style=\"text-align:center\">&copy; 2022 O Mago dos Bits</p>"
   ]
  }
 ],
 "metadata": {
  "kernelspec": {
   "display_name": "Python 3",
   "language": "python",
   "name": "python3"
  },
  "language_info": {
   "codemirror_mode": {
    "name": "ipython",
    "version": 3
   },
   "file_extension": ".py",
   "mimetype": "text/x-python",
   "name": "python",
   "nbconvert_exporter": "python",
   "pygments_lexer": "ipython3",
   "version": "3.7.5"
  }
 },
 "nbformat": 4,
 "nbformat_minor": 2
}
