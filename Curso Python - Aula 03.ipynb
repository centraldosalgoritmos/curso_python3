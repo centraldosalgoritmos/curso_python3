{
 "cells": [
  {
   "cell_type": "markdown",
   "metadata": {},
   "source": [
    "<img src=\"img/header.png\" alt=\"Devcated\">\n",
    "<h1 style=\"float:left\"> Curso Python - Aula 03 - Operadores & Tipos de Dados<h1>\n",
    "<a href=\"https://www.linkedin.com/in/marcosmapl\"><img style=\"float:right;margin-left:5px\" src=\"img/linkedin.png\" alt=\"Linkedin Logo\" width=\"32\"></a>\n",
    "<a href=\"https://github.com/devcated/curso_python3\"><img style=\"float:right;margin-left:5px;margin-right:5px\" src=\"img/github-logo.png\" alt=\"Github repositório\" width=\"32\"></a>\n",
    "<a href=\"https://www.youtube.com/channel/UC7XyhhdgvWNIskpPiX_Y6mA\"><img style=\"float:right\" src=\"img/subscribe.png\" alt=\"Subscribe at my Channel\" width=\"100\"></a>\n",
    "<h2> Marcos Avner P. de Lima </h2>\n",
    "\n",
    "marcos.lima@icomp.ufam.edu.br"
   ]
  },
  {
   "cell_type": "markdown",
   "metadata": {},
   "source": [
    "## Roteiro\n",
    "* [Palavras reservadas](#keywords)"
   ]
  },
  {
   "cell_type": "markdown",
   "metadata": {},
   "source": [
    "## Operadores\n",
    "\n",
    "Em Python através dos `Operadores` podemos manipular o valor das `variáveis`. Python fornece os seguintes tipos de operadores:\n",
    "* Aritméticos\n",
    "* Atribuição\n",
    "* Relacionais\n",
    "* Lógicos\n",
    "* Bitwise\n",
    "* Membership\n",
    "* Identidade\n",
    "\n",
    "Veremos primeiramente os `Operadores Aritméticos`:"
   ]
  },
  {
   "cell_type": "code",
   "execution_count": 4,
   "metadata": {},
   "outputs": [
    {
     "name": "stdout",
     "output_type": "stream",
     "text": [
      "7\n",
      "2\n",
      "5\n",
      "-3\n"
     ]
    }
   ],
   "source": [
    "# Operador Aritmético de Adição\n",
    "print(5 + 2)\n",
    "\n",
    "# Operador Aritmético de Subtração\n",
    "print(5 - 3)\n",
    "\n",
    "# Operador Aritméticos Unário Positivo\n",
    "print(+5)\n",
    "\n",
    "# Operador Aritméticos Unário Negativo\n",
    "print(-3)"
   ]
  },
  {
   "cell_type": "code",
   "execution_count": 5,
   "metadata": {},
   "outputs": [
    {
     "name": "stdout",
     "output_type": "stream",
     "text": [
      "15\n",
      "1.6666666666666667\n",
      "1\n"
     ]
    }
   ],
   "source": [
    "# Operador Aritmético de Multiplicação\n",
    "print(5 * 3)\n",
    "\n",
    "# Operador Aritmético de Divisão Ponto Flutuante\n",
    "print(5 / 3)\n",
    "\n",
    "# Operador Aritmético de Divisão Inteira\n",
    "print(5 // 3)"
   ]
  },
  {
   "cell_type": "code",
   "execution_count": 6,
   "metadata": {},
   "outputs": [
    {
     "name": "stdout",
     "output_type": "stream",
     "text": [
      "125\n",
      "1\n"
     ]
    }
   ],
   "source": [
    "# Operador Aritmético de Potenciação\n",
    "print(5 ** 3)\n",
    "\n",
    "# Operador Aritmético de Módulo\n",
    "print(10 % 3)"
   ]
  },
  {
   "cell_type": "markdown",
   "metadata": {},
   "source": [
    "Agora vamos analisar o funcionamento dos `Operadores de Atribuiçao`:"
   ]
  },
  {
   "cell_type": "code",
   "execution_count": 16,
   "metadata": {},
   "outputs": [
    {
     "name": "stdout",
     "output_type": "stream",
     "text": [
      "25\n"
     ]
    }
   ],
   "source": [
    "a = 15 # atribuição simples\n",
    "b = 10\n",
    "\n",
    "b += a # equivalente a 'b = b + a'\n",
    "print(b)"
   ]
  },
  {
   "cell_type": "code",
   "execution_count": 17,
   "metadata": {},
   "outputs": [
    {
     "name": "stdout",
     "output_type": "stream",
     "text": [
      "10\n"
     ]
    }
   ],
   "source": [
    "b -= a # equivalente a 'b = b - a'\n",
    "print(b)"
   ]
  },
  {
   "cell_type": "code",
   "execution_count": 18,
   "metadata": {},
   "outputs": [
    {
     "name": "stdout",
     "output_type": "stream",
     "text": [
      "150\n"
     ]
    }
   ],
   "source": [
    "b *= a # equivalente a 'b = b * a'\n",
    "print(b)"
   ]
  },
  {
   "cell_type": "code",
   "execution_count": 19,
   "metadata": {},
   "outputs": [
    {
     "name": "stdout",
     "output_type": "stream",
     "text": [
      "10.0\n"
     ]
    }
   ],
   "source": [
    "b /= a # equivalente a 'b = b / a'\n",
    "print(b)"
   ]
  },
  {
   "cell_type": "code",
   "execution_count": 20,
   "metadata": {},
   "outputs": [
    {
     "name": "stdout",
     "output_type": "stream",
     "text": [
      "5.0\n"
     ]
    }
   ],
   "source": [
    "a %= b # equivalente a 'a = a % b'\n",
    "print(a)"
   ]
  },
  {
   "cell_type": "code",
   "execution_count": 21,
   "metadata": {},
   "outputs": [
    {
     "name": "stdout",
     "output_type": "stream",
     "text": [
      "125.0\n"
     ]
    }
   ],
   "source": [
    "b = 3\n",
    "a **= b # equivalente a 'a = a ** b'\n",
    "print(a)"
   ]
  },
  {
   "cell_type": "markdown",
   "metadata": {},
   "source": [
    "Agora podemos iniciar o estudo dos Tipos de Dados e utilizar os Operadores vistos."
   ]
  },
  {
   "cell_type": "markdown",
   "metadata": {},
   "source": [
    "## Tipos de Dados\n",
    "\n",
    "Muito do trabalho de codificação em linguagens de baixo-nível,como C ou C++, envolve implementar `objetos` (também chamados de `estruturas de dados`). Você precisa planejar o uso da memória, gerenciar a alocação/desalocação de memória, implementar métodos de acesso e busca, etc. Tudo isso é 'tedioso' e propenso a erros, roubando produtividade do desenvolvedor.\n",
    "\n",
    "Python fornece um `modelo de objetos` consistente, e dentro dele, tudo é um `objeto` (número, string, estrutura de dados, função, classe, módulo, etc.). Todo `objeto` tem um tipo associado (por exemplo, _string_ ou _function_ ), atributos (por exemplo _tamanho_ ou _nome_ ) e métodos. Python fornece os seguintes tipos:\n",
    "* Number\n",
    "    * int\n",
    "        * boolean\n",
    "    * float\n",
    "    * complex\n",
    "    * decimal\n",
    "    * fraction\n",
    "* Sequences\n",
    "    * mutable\n",
    "        * string\n",
    "        * list\n",
    "    * immutable\n",
    "        * tuple\n",
    "        * range\n",
    "* Dictionary\n",
    "* Set\n",
    "* None"
   ]
  },
  {
   "cell_type": "markdown",
   "metadata": {},
   "source": [
    "##  Tipos Numéricos - Number\n",
    "\n",
    "Python disponibiliza vários tipos númericos para as mais diversas aplicações. A seguir, estão listados os tipo de dados numéricos:\n",
    "* `int` (inteiros)\n",
    "    * `bool` (booleanos)\n",
    "* `float` (ponto flutuante)\n",
    "* `complex` (complexos - real + imag)\n",
    "* `fraction` (frações)\n",
    "* `decimal` (ponto fluante com precisão fixa)"
   ]
  },
  {
   "cell_type": "markdown",
   "metadata": {},
   "source": [
    "### Inteiros - `int`\n",
    "\n",
    "São utilizados para representar valores positivos ou negativos sem casas decimais. Em Python não há limite para o quão grande um valor inteiro pode ser. Obviamente, ele é limitado apenas pela quantidade de memória que seu sistema possui. "
   ]
  },
  {
   "cell_type": "code",
   "execution_count": 1,
   "metadata": {},
   "outputs": [
    {
     "name": "stdout",
     "output_type": "stream",
     "text": [
      "7 -3\n",
      "2182178937192831982371897231872381723897189237192718571938571093571835109735901357\n",
      "10000000000\n"
     ]
    }
   ],
   "source": [
    "x = 7\n",
    "y = -3\n",
    "print(x,y)\n",
    "print(2182178937192831982371897231872381723897189237192718571938571093571835109735901357)\n",
    "# o underscore pode ser utilizado para melhorar a legibilidade separando digitos\n",
    "print(100_000_000_00)"
   ]
  },
  {
   "cell_type": "markdown",
   "metadata": {},
   "source": [
    "Alem disso podemos representar __inteiros__ utilizando outros sistemas de numeração que não sejam decimais. Para isso bastante adicionar um identificador no início do valor literal:\n",
    "* `0b` ou `0B` - para representação utilizando __Sistema Binário__\n",
    "* `0o` ou `0O` - para representação utilizando __Sistema Octal__\n",
    "* `0x` ou `0X` - para representação utilizando __Sistema Hexadecimal__"
   ]
  },
  {
   "cell_type": "code",
   "execution_count": 63,
   "metadata": {},
   "outputs": [
    {
     "name": "stdout",
     "output_type": "stream",
     "text": [
      "14\n",
      "65\n",
      "42\n"
     ]
    }
   ],
   "source": [
    "# base 2 - binário[0,1]\n",
    "a = 0b1110 # (1*2*2*2) + (1*2*2) + (1*2) + (0*1)\n",
    "print(a)\n",
    "\n",
    "# base 8 - octal[0-7]\n",
    "a = 0o101 # (1*8*8) + (0*8) + (1*1)\n",
    "print(a)\n",
    " \n",
    "# base 16 - hexadecimal[0-9,A-F] (A=10, B=11, C=12 D=13, E=14, F=15)\n",
    "a = 0x2A # (2*16) + (10*1)\n",
    "print(a)"
   ]
  },
  {
   "cell_type": "markdown",
   "metadata": {},
   "source": [
    "#### Função `type`\n",
    "Podemos fazer uso da função `type(var)` para verificar o tipo de uma variável:"
   ]
  },
  {
   "cell_type": "code",
   "execution_count": 10,
   "metadata": {},
   "outputs": [
    {
     "name": "stdout",
     "output_type": "stream",
     "text": [
      "<class 'int'>\n",
      "<class 'float'>\n",
      "<class 'str'>\n",
      "<class 'bool'>\n",
      "<class 'complex'>\n"
     ]
    }
   ],
   "source": [
    "a = 15\n",
    "b = 0.5\n",
    "c = 'avg'\n",
    "d = True\n",
    "e = 3 - 1j\n",
    "\n",
    "print(type(a))\n",
    "print(type(b))\n",
    "print(type(c))\n",
    "print(type(d))\n",
    "print(type(e))"
   ]
  },
  {
   "cell_type": "markdown",
   "metadata": {},
   "source": [
    "#### Função `bin`\n",
    "Retorna a representação `binária` de um inteiro `decimal` passado como parametro."
   ]
  },
  {
   "cell_type": "code",
   "execution_count": 64,
   "metadata": {},
   "outputs": [
    {
     "name": "stdout",
     "output_type": "stream",
     "text": [
      "-0b100101\n"
     ]
    }
   ],
   "source": [
    "a = -37\n",
    "x = bin(a)\n",
    "print(x)"
   ]
  },
  {
   "cell_type": "markdown",
   "metadata": {},
   "source": [
    "#### Função `oct`\n",
    "Retorna a representação `octal` de um inteiro `decimal` passado como parametro."
   ]
  },
  {
   "cell_type": "code",
   "execution_count": 65,
   "metadata": {},
   "outputs": [
    {
     "name": "stdout",
     "output_type": "stream",
     "text": [
      "-0o45\n"
     ]
    }
   ],
   "source": [
    "x = oct(a)\n",
    "print(x)"
   ]
  },
  {
   "cell_type": "markdown",
   "metadata": {},
   "source": [
    "#### Função `hex`\n",
    "Retorna a representaçao `hexadecimal` de um inteiro `decimal` passado como parametro."
   ]
  },
  {
   "cell_type": "code",
   "execution_count": 66,
   "metadata": {},
   "outputs": [
    {
     "name": "stdout",
     "output_type": "stream",
     "text": [
      "-0x25\n"
     ]
    }
   ],
   "source": [
    "x = hex(a)\n",
    "print(x)"
   ]
  },
  {
   "cell_type": "markdown",
   "metadata": {},
   "source": [
    "#### Função `bit_length`\n",
    "Retorna o `nº de bits` necessários para representar um inteiro em `binário`. São excluídos da contagem o `bit de sinal`e `zeros` a esquerda."
   ]
  },
  {
   "cell_type": "code",
   "execution_count": 76,
   "metadata": {},
   "outputs": [
    {
     "name": "stdout",
     "output_type": "stream",
     "text": [
      "255 0b11111111 8\n"
     ]
    }
   ],
   "source": [
    "a = 255\n",
    "print(a, bin(a), a.bit_length())"
   ]
  },
  {
   "cell_type": "markdown",
   "metadata": {},
   "source": [
    "#### Ordem dos Bits\n",
    "Para uma máquina não existe diferença em ler uma sequência de bits da `esquerda para direita` ou `direita para esquerda`. Por isso, a ordem (importancia) dos bits varia de acordo com a `arquitetura` da plataforma de execução. Isso em inglês é chamado de `endianness`.\n",
    "\n",
    "Felizmente Python possui o módulo `sys` que trás diversas informações inclusive o tipo de representação utilizado:"
   ]
  },
  {
   "cell_type": "code",
   "execution_count": 16,
   "metadata": {},
   "outputs": [
    {
     "name": "stdout",
     "output_type": "stream",
     "text": [
      "little\n"
     ]
    }
   ],
   "source": [
    "# descobrir a ordem dos bytes\n",
    "import sys\n",
    "print(sys.byteorder)"
   ]
  },
  {
   "cell_type": "markdown",
   "metadata": {},
   "source": [
    "Existem dois tipos de representação:\n",
    "* __Big-endian__ (`'big'`) - na qual o `byte` __mais significativo__ vem primeiro.\n",
    "* __Little-endian__ (`'little'`) - na qual o `byte` __menos significativo__ vem primeiro."
   ]
  },
  {
   "cell_type": "markdown",
   "metadata": {},
   "source": [
    "#### Função  `to_bytes`\n",
    "Retorna a representação de um inteiro num array de bytes. Recebe três parametros:\n",
    "* `length` - quantidade de bytes usados na representação.\n",
    "* `byteorder` - tipo de representação desejada (`'big'` ou `'litte'`).\n",
    "* `signed` - se o inteiro é sinalizado, valor padrão é False.\n",
    "Caso a quantidade de `bytes` não seja suficiente para representar o valor inteiro, um `OverflowError` será lançado."
   ]
  },
  {
   "cell_type": "code",
   "execution_count": 82,
   "metadata": {},
   "outputs": [
    {
     "name": "stdout",
     "output_type": "stream",
     "text": [
      "b'\\x04\\x00'\n",
      "b'\\x00\\x04'\n",
      "b'\\xff\\xff\\xff\\xfc\\x00'\n"
     ]
    }
   ],
   "source": [
    "print((1024).to_bytes(2, byteorder='big'))\n",
    "# b'\\x04\\x00' (04 * 16 * 16)\n",
    "print((1024).to_bytes(2, byteorder='little'))\n",
    "# b'\\x00\\x04' (16 * 16 * 04)\n",
    "print((-1024).to_bytes(5, byteorder='big', signed=True))"
   ]
  },
  {
   "cell_type": "markdown",
   "metadata": {},
   "source": [
    "#### Função `from_bytes`\n",
    "Retorna um inteiro `decimal` a partir de um array de `bytes`."
   ]
  },
  {
   "cell_type": "code",
   "execution_count": 83,
   "metadata": {},
   "outputs": [
    {
     "name": "stdout",
     "output_type": "stream",
     "text": [
      "16\n",
      "4096\n",
      "-1024\n",
      "64512\n",
      "513\n"
     ]
    }
   ],
   "source": [
    "print(int.from_bytes(b'\\x00\\x10', byteorder='big'))\n",
    "print(int.from_bytes(b'\\x00\\x10', byteorder='little'))\n",
    "print(int.from_bytes(b'\\xfc\\x00', byteorder='big', signed=True))\n",
    "print(int.from_bytes(b'\\xfc\\x00', byteorder='big', signed=False))\n",
    "print(int.from_bytes([0, 2, 1], byteorder='big'))"
   ]
  },
  {
   "cell_type": "markdown",
   "metadata": {},
   "source": [
    "### Booleanos - `boolean`\n",
    "\n",
    "Estes representam os valores da verdade Falso e Verdadeiro. Os dois objetos que representam os valores `False` e `True` são os únicos objetos booleanos. O tipo `Boolean` é um subtipo do tipo `Int` e os valores booleanos se comportam como os valores `0` e `1`, respectivamente, em quase todos os contextos, a exceção é que, quando convertidos em uma string, as strings `\"False\"` ou `\"True\"` são retornadas , respectivamente."
   ]
  },
  {
   "cell_type": "code",
   "execution_count": 1,
   "metadata": {},
   "outputs": [
    {
     "name": "stdout",
     "output_type": "stream",
     "text": [
      "True\n",
      "False\n"
     ]
    }
   ],
   "source": [
    "a = True\n",
    "b = False\n",
    "print(a)\n",
    "print(b)"
   ]
  },
  {
   "cell_type": "code",
   "execution_count": 22,
   "metadata": {},
   "outputs": [
    {
     "data": {
      "text/plain": [
       "bool"
      ]
     },
     "execution_count": 22,
     "metadata": {},
     "output_type": "execute_result"
    }
   ],
   "source": [
    "type(True)"
   ]
  },
  {
   "cell_type": "code",
   "execution_count": 58,
   "metadata": {},
   "outputs": [
    {
     "name": "stdout",
     "output_type": "stream",
     "text": [
      "True\n",
      "False\n"
     ]
    }
   ],
   "source": [
    "print(isinstance(1, int)) # se o 'objeto 1' é uma instancia da classe de objetos 'int'\n",
    "print(isinstance(1, bool)) # se o 'objeto 1' é uma instancia da classe de objetos 'bool'"
   ]
  },
  {
   "cell_type": "code",
   "execution_count": 54,
   "metadata": {},
   "outputs": [
    {
     "name": "stdout",
     "output_type": "stream",
     "text": [
      "True\n",
      "True\n"
     ]
    }
   ],
   "source": [
    "print(isinstance(True, bool)) # se o 'objeto True' é uma instancia da classe de objetos 'bool'\n",
    "print(isinstance(False, bool)) # se o 'objeto True' é uma instancia da classe de objetos 'bool'"
   ]
  },
  {
   "cell_type": "code",
   "execution_count": 55,
   "metadata": {},
   "outputs": [
    {
     "name": "stdout",
     "output_type": "stream",
     "text": [
      "True\n",
      "True\n"
     ]
    }
   ],
   "source": [
    "print(isinstance(True, int)) # se o 'objeto True' é uma instancia da classe de objetos 'int'\n",
    "print(isinstance(False, int)) # se o 'objeto True' é uma instancia da classe de objetos 'bool'"
   ]
  },
  {
   "cell_type": "markdown",
   "metadata": {},
   "source": [
    "O tipo `Boolean` está fortemente ligado ao resultado de operações __comparativas__ ou operações __lógicas__. Por isso vamos introduzir esses novos operadores, vejamos primeiramente os `Operadores Comparativos`:"
   ]
  },
  {
   "cell_type": "code",
   "execution_count": 29,
   "metadata": {},
   "outputs": [
    {
     "name": "stdout",
     "output_type": "stream",
     "text": [
      "True\n",
      "True\n"
     ]
    }
   ],
   "source": [
    "x = 12; y = 10; z = 10\n",
    "print(x > y) # x é maior que y?\n",
    "print(z >= y) # z é maior ou igual a y?"
   ]
  },
  {
   "cell_type": "code",
   "execution_count": 26,
   "metadata": {},
   "outputs": [
    {
     "name": "stdout",
     "output_type": "stream",
     "text": [
      "False\n",
      "True\n"
     ]
    }
   ],
   "source": [
    "print(x < y) # x é menor que y?\n",
    "print(z <= y) # z é menor ou igual a y?"
   ]
  },
  {
   "cell_type": "code",
   "execution_count": 32,
   "metadata": {},
   "outputs": [
    {
     "name": "stdout",
     "output_type": "stream",
     "text": [
      "False\n",
      "True\n",
      "True\n"
     ]
    }
   ],
   "source": [
    "print(x == y) # x é igual a y?\n",
    "print(z == y) # z é igual a y?\n",
    "print(x != y) # x é diferente de y?"
   ]
  },
  {
   "cell_type": "markdown",
   "metadata": {},
   "source": [
    "Os `Operadores Lógicos` fazem comparações lógicas entre __dois operandos__ e retornam `True` ou `False`:\n",
    "* `and` - __E__ lógico, retorna `True` se ambos os operandos forem `True`.\n",
    "* `or` - __OU__ lógico, retorna `True` se pelo menos um dos operandos for `True`.\n",
    "* `not` - __NÃO__ lógico, retornar o valor contrário de um operando."
   ]
  },
  {
   "cell_type": "code",
   "execution_count": 34,
   "metadata": {},
   "outputs": [
    {
     "name": "stdout",
     "output_type": "stream",
     "text": [
      "True\n",
      "False\n",
      "False\n",
      "False\n"
     ]
    }
   ],
   "source": [
    "# operador 'and' \n",
    "print(True and True)\n",
    "print(True and False)\n",
    "print(False and True)\n",
    "print(False and False)"
   ]
  },
  {
   "cell_type": "code",
   "execution_count": 38,
   "metadata": {},
   "outputs": [
    {
     "name": "stdout",
     "output_type": "stream",
     "text": [
      "True\n",
      "True\n",
      "True\n",
      "False\n"
     ]
    }
   ],
   "source": [
    "# operador 'or'\n",
    "print(True or True)\n",
    "print(True or False)\n",
    "print(False or True)\n",
    "print(False or False)"
   ]
  },
  {
   "cell_type": "code",
   "execution_count": 36,
   "metadata": {},
   "outputs": [
    {
     "name": "stdout",
     "output_type": "stream",
     "text": [
      "False\n",
      "True\n"
     ]
    }
   ],
   "source": [
    "# operador 'not'\n",
    "print(not True)\n",
    "print(not False)"
   ]
  },
  {
   "cell_type": "markdown",
   "metadata": {},
   "source": [
    "#### Short-Circuits\n",
    "\n",
    "Em Python ocorre uma otimização na análise de condições chamada de `short-circuit`. Ocorre que quando interpretador percebe que uma condição será `False` ou `True` após analisar o __primeiro operando__ e o __operador__ o interpretador simplesmente ignora o __segundo operado__ e já retorna o resultado da operação. Observe os dois exemplos abaixo:"
   ]
  },
  {
   "cell_type": "code",
   "execution_count": 41,
   "metadata": {},
   "outputs": [
    {
     "name": "stdout",
     "output_type": "stream",
     "text": [
      "True\n"
     ]
    }
   ],
   "source": [
    "print(True or print('operando 2'))"
   ]
  },
  {
   "cell_type": "code",
   "execution_count": 42,
   "metadata": {},
   "outputs": [
    {
     "name": "stdout",
     "output_type": "stream",
     "text": [
      "operando 2\n",
      "None\n"
     ]
    }
   ],
   "source": [
    "print(False or print('operando 2'))"
   ]
  },
  {
   "cell_type": "markdown",
   "metadata": {},
   "source": [
    "No primeiro exemplo o interpretador percebe que como o __primeiro operando__ é `True` e temos o operador `or` a condição já será verdadeira não importa o valor do __segundo operando__, então ele simplesmente ignora a instrução `print('1')`.\n",
    "No segundo exemplo o interpretador não consegue deduzir o resultador da operação e precisa executar o __segundo operando__. Por isso temos `operando 2` impresso.\n",
    "\n",
    "O mesmo raciocínio é válido para o operador `and`:"
   ]
  },
  {
   "cell_type": "code",
   "execution_count": 43,
   "metadata": {},
   "outputs": [
    {
     "name": "stdout",
     "output_type": "stream",
     "text": [
      "False\n"
     ]
    }
   ],
   "source": [
    "print(False and print('operando 2'))"
   ]
  },
  {
   "cell_type": "code",
   "execution_count": 44,
   "metadata": {},
   "outputs": [
    {
     "name": "stdout",
     "output_type": "stream",
     "text": [
      "operando 2\n",
      "None\n"
     ]
    }
   ],
   "source": [
    "print(True and print('operando 2'))"
   ]
  },
  {
   "cell_type": "markdown",
   "metadata": {},
   "source": [
    "### Ponto Flutuante - `float`\n",
    "\n",
    "Números de ponto flutuante são geralmente implementados usando o `double` (64 bits) da linguagem C. Informações sobre a precisão e representação interna dos números de ponto flutuante da máquina na qual seu programa está sendo executado estão disponíveis em `sys.float_info`."
   ]
  },
  {
   "cell_type": "code",
   "execution_count": 23,
   "metadata": {},
   "outputs": [
    {
     "name": "stdout",
     "output_type": "stream",
     "text": [
      "sys.float_info(max=1.7976931348623157e+308, max_exp=1024, max_10_exp=308, min=2.2250738585072014e-308, min_exp=-1021, min_10_exp=-307, dig=15, mant_dig=53, epsilon=2.220446049250313e-16, radix=2, rounds=1)\n",
      "1.7976931348623157e+308\n",
      "2.2250738585072014e-308\n"
     ]
    }
   ],
   "source": [
    "print(sys.float_info)\n",
    "print(sys.float_info.max)\n",
    "print(sys.float_info.min)"
   ]
  },
  {
   "cell_type": "markdown",
   "metadata": {},
   "source": [
    "#### Operações com float\n",
    "São utilizados os mesmos operadores, porém ao se trabalhar com números decimais utilizando o tipo `float` é necessário ter sempre em mente que existirão erros de arredondamento. Assim como no __sistema decimal__ não é possível representar qualquer número (dízimas periódicas e números complexos por exemplo) o __sistema binário__ também tem suas limitações, muitas delas em função da memória ser finita."
   ]
  },
  {
   "cell_type": "code",
   "execution_count": 22,
   "metadata": {},
   "outputs": [
    {
     "name": "stdout",
     "output_type": "stream",
     "text": [
      "0.30000000000000004\n"
     ]
    }
   ],
   "source": [
    "x = 0.1\n",
    "print(x * 3)"
   ]
  },
  {
   "cell_type": "code",
   "execution_count": 25,
   "metadata": {},
   "outputs": [
    {
     "name": "stdout",
     "output_type": "stream",
     "text": [
      "0.0030000000000000005\n"
     ]
    }
   ],
   "source": [
    "x = 0.1\n",
    "y = (3 * x) / 100\n",
    "print(y)"
   ]
  },
  {
   "cell_type": "code",
   "execution_count": 49,
   "metadata": {},
   "outputs": [
    {
     "name": "stdout",
     "output_type": "stream",
     "text": [
      "5.551115123125783e-17\n"
     ]
    }
   ],
   "source": [
    "x = 0.1 + 0.1 + 0.1 - 0.3\n",
    "print(x)"
   ]
  },
  {
   "cell_type": "markdown",
   "metadata": {},
   "source": [
    "#### Função `is_integer`\n",
    "Retornar `True` se o valor ponto flutuante puder ser representado corretamente como um inteiro. Caso contrário retorna `False`."
   ]
  },
  {
   "cell_type": "code",
   "execution_count": 26,
   "metadata": {},
   "outputs": [
    {
     "name": "stdout",
     "output_type": "stream",
     "text": [
      "False True\n"
     ]
    }
   ],
   "source": [
    "x = 4.5\n",
    "y = 3.0\n",
    "print(x.is_integer(), y.is_integer())"
   ]
  },
  {
   "cell_type": "markdown",
   "metadata": {},
   "source": [
    "#### Função `as_interger_ratio`\n",
    "Retorna uma `tupla` (par) de inteiros cuja divisão resulta no valor ponto flutuante."
   ]
  },
  {
   "cell_type": "code",
   "execution_count": 27,
   "metadata": {},
   "outputs": [
    {
     "data": {
      "text/plain": [
       "(3, 2)"
      ]
     },
     "execution_count": 27,
     "metadata": {},
     "output_type": "execute_result"
    }
   ],
   "source": [
    "(1.5).as_integer_ratio()"
   ]
  },
  {
   "cell_type": "code",
   "execution_count": 34,
   "metadata": {},
   "outputs": [
    {
     "name": "stdout",
     "output_type": "stream",
     "text": [
      "3.1415\n"
     ]
    },
    {
     "data": {
      "text/plain": [
       "(7074029114692207, 2251799813685248)"
      ]
     },
     "execution_count": 34,
     "metadata": {},
     "output_type": "execute_result"
    }
   ],
   "source": [
    "x = 3.1415\n",
    "print(x)\n",
    "x.as_integer_ratio() # 7074029114692207 / 2251799813685248 = 3.1415"
   ]
  },
  {
   "cell_type": "markdown",
   "metadata": {},
   "source": [
    "Como a função retorna uma `tupla` podemos acessar cada um dos valores inteiros utilizando `índices`."
   ]
  },
  {
   "cell_type": "code",
   "execution_count": 37,
   "metadata": {},
   "outputs": [
    {
     "name": "stdout",
     "output_type": "stream",
     "text": [
      "5 2\n"
     ]
    }
   ],
   "source": [
    "inteiros = (5/2).as_integer_ratio()\n",
    "print(inteiros[0],inteiros[1])"
   ]
  },
  {
   "cell_type": "markdown",
   "metadata": {},
   "source": [
    "#### Funções `hex` e `fromhex`\n",
    "A função `hex` retorna a representação `hexadecimal` do valor `float`. Em contrapartida a função `fromhex` retorna o valor `float` de uma representação `hexadecimal`."
   ]
  },
  {
   "cell_type": "code",
   "execution_count": 26,
   "metadata": {},
   "outputs": [
    {
     "name": "stdout",
     "output_type": "stream",
     "text": [
      "0x1.bbe76c8b43958p+2\n",
      "6.936\n",
      "3740.0\n"
     ]
    }
   ],
   "source": [
    "x = 6.936\n",
    "print(x.hex())\n",
    "print(float.fromhex('0x1.bbe76c8b43958p+2'))\n",
    "print(float.fromhex('0x3.a7p10'))"
   ]
  },
  {
   "cell_type": "markdown",
   "metadata": {},
   "source": [
    "### Números Complexos - Complex\n",
    "\n",
    "Números Complexos têm uma parte `real` e `imaginária`, onde cada um é `float`.  "
   ]
  },
  {
   "cell_type": "code",
   "execution_count": 45,
   "metadata": {},
   "outputs": [
    {
     "name": "stdout",
     "output_type": "stream",
     "text": [
      "(15-9j)\n"
     ]
    }
   ],
   "source": [
    "z = 5 - 3j\n",
    "z *= 3\n",
    "print(z)"
   ]
  },
  {
   "cell_type": "code",
   "execution_count": 46,
   "metadata": {},
   "outputs": [
    {
     "name": "stdout",
     "output_type": "stream",
     "text": [
      "(10-5j)\n"
     ]
    }
   ],
   "source": [
    "z += -5 + 4j\n",
    "print(z)"
   ]
  },
  {
   "cell_type": "markdown",
   "metadata": {},
   "source": [
    "Para extrair as partes `real` e `imaginária` basta usar as propriedades `real` e `imag`."
   ]
  },
  {
   "cell_type": "code",
   "execution_count": 47,
   "metadata": {},
   "outputs": [
    {
     "name": "stdout",
     "output_type": "stream",
     "text": [
      "10.0 -5.0\n"
     ]
    }
   ],
   "source": [
    "print(z.real,z.imag)"
   ]
  },
  {
   "cell_type": "markdown",
   "metadata": {},
   "source": [
    "Podemos obter o `conjugado` do número complexo através da propriedade `conjugate`."
   ]
  },
  {
   "cell_type": "code",
   "execution_count": 48,
   "metadata": {},
   "outputs": [
    {
     "data": {
      "text/plain": [
       "(10+5j)"
      ]
     },
     "execution_count": 48,
     "metadata": {},
     "output_type": "execute_result"
    }
   ],
   "source": [
    "z.conjugate()"
   ]
  },
  {
   "cell_type": "markdown",
   "metadata": {},
   "source": [
    "### Módulo Decimal\n",
    "\n",
    "O tipo `decimal` permite realizar, de forma rápida e eficiente, operações aritméticas em ponto flutuante com arredondamento correto. Ele oferece diversas vantagens em relação ao tipo `float`.\n",
    "* Modelo de ponto flutuante que foi projetado com um princípio orientador primordial - os computadores devem fornecer uma aritmética que funcione da mesma maneira que a aritmética que as pessoas aprendem na escola.\n",
    "* Os números decimais podem ser representados exatamente.\n",
    "* É aconselhável em aplicações contábeis que possuem restrições de igualdade.\n",
    "* Incorpora uma noção de casas significativas, de modo que `1,30 + 1,20` é `2,50`. O zero à direita é mantido para indicar significância. Esta é a apresentação habitual para __aplicações monetárias__.\n",
    "* Ao contrário do ponto flutuante binário baseado em hardware, o módulo decimal possui uma precisão alterável pelo usuário (padrão de 28 casas), que pode escalar conforme a necessidade do seu problema.\n",
    "\n",
    "Diferente dos demais tipos apresentados até aqui, o tipo `decimal` está num módulo separado chamado `decimal.py`. Para fazer uso desse tipo precisamos importar o módulo `decimal`."
   ]
  },
  {
   "cell_type": "markdown",
   "metadata": {},
   "source": [
    "<img src=\"img/devcated-logo-black.png\" alt=\"Devcated Logo\" width=\"180\">\n",
    "<p><center>&copy; 2019</center></p>"
   ]
  }
 ],
 "metadata": {
  "kernelspec": {
   "display_name": "Python 3",
   "language": "python",
   "name": "python3"
  },
  "language_info": {
   "codemirror_mode": {
    "name": "ipython",
    "version": 3
   },
   "file_extension": ".py",
   "mimetype": "text/x-python",
   "name": "python",
   "nbconvert_exporter": "python",
   "pygments_lexer": "ipython3",
   "version": "3.7.3"
  }
 },
 "nbformat": 4,
 "nbformat_minor": 2
}
