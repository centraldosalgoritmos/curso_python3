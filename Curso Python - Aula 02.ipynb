{
 "cells": [
  {
   "cell_type": "markdown",
   "metadata": {},
   "source": [
    "<img src=\"img/header.png\" alt=\"Devcated\">\n",
    "<h1 style=\"float:left\"> Curso Python - Aula 02 - Keywords e Variáveis<h1>\n",
    "<a href=\"https://www.linkedin.com/in/marcosmapl\"><img style=\"float:right;margin-left:5px\" src=\"img/linkedin.png\" alt=\"Linkedin Logo\" width=\"32\"></a>\n",
    "<a href=\"https://github.com/devcated/curso_python3\"><img style=\"float:right;margin-left:5px;margin-right:5px\" src=\"img/github-logo.png\" alt=\"Github repositório\" width=\"32\"></a>\n",
    "<a href=\"https://www.youtube.com/channel/UC7XyhhdgvWNIskpPiX_Y6mA\"><img style=\"float:right\" src=\"img/subscribe.png\" alt=\"Subscribe at my Channel\" width=\"100\"></a>\n",
    "<h2> Marcos Avner P. de Lima </h2>\n",
    "\n",
    "marcos.lima@icomp.ufam.edu.br"
   ]
  },
  {
   "cell_type": "markdown",
   "metadata": {},
   "source": [
    "## Roteiro\n",
    "* [Palavras reservadas](#keywords)\n",
    "* [Identificadores](#identifiers)\n",
    "* [Variáveis](#variables)"
   ]
  },
  {
   "cell_type": "markdown",
   "metadata": {},
   "source": [
    "## Keywords<a id=\"keywords\"></a>\n",
    "\n",
    "São termos únicos pertencentes a linguagem que possuem um significado especial (executam algum tipo de comando ou ação). Juntos eles formam o vocabulário da linguagem Python, representando a sintaxe e estrutura de um programa."
   ]
  },
  {
   "cell_type": "code",
   "execution_count": 1,
   "metadata": {},
   "outputs": [
    {
     "data": {
      "text/plain": [
       "['False',\n",
       " 'None',\n",
       " 'True',\n",
       " 'and',\n",
       " 'as',\n",
       " 'assert',\n",
       " 'async',\n",
       " 'await',\n",
       " 'break',\n",
       " 'class',\n",
       " 'continue',\n",
       " 'def',\n",
       " 'del',\n",
       " 'elif',\n",
       " 'else',\n",
       " 'except',\n",
       " 'finally',\n",
       " 'for',\n",
       " 'from',\n",
       " 'global',\n",
       " 'if',\n",
       " 'import',\n",
       " 'in',\n",
       " 'is',\n",
       " 'lambda',\n",
       " 'nonlocal',\n",
       " 'not',\n",
       " 'or',\n",
       " 'pass',\n",
       " 'raise',\n",
       " 'return',\n",
       " 'try',\n",
       " 'while',\n",
       " 'with',\n",
       " 'yield']"
      ]
     },
     "execution_count": 1,
     "metadata": {},
     "output_type": "execute_result"
    }
   ],
   "source": [
    "import keyword\n",
    "\n",
    "keyword.kwlist"
   ]
  },
  {
   "cell_type": "markdown",
   "metadata": {},
   "source": [
    "OBS: Python é uma linguagem `Case Sensitive`. Isso significa que `try` é uma __keyword__  e `TRY` não!"
   ]
  },
  {
   "cell_type": "markdown",
   "metadata": {},
   "source": [
    "## Identificadores<a id=\"identifiers\"></a>\n",
    "\n",
    "Identificadores são nomes definidos pelos programadores para representar uma variável, função, classe, módulo ou outro objeto.\n",
    "\n",
    "Python possui alguma regras para definição de identificadores:\n",
    "\n",
    "* Na composição do nome do identificador só são aceitos __letras__ `[a-zA-Z]`, __digitos__ `[0-9]` ou __underscore__ `[_]`.\n",
    "* Não é permitido começar o nome do identificador com um __digito__ `[0-9]`.\n",
    "* Não é permitido usar __keywords__ como nome de identificadores.\n",
    "* Não é permitido uso de __caractere de pontuação__ `[. ! @ # * / % + -]` no nome de identificadores. Estes símbolos são usados como operadores.\n",
    "* OBS: Documentação não restringe o tamanho (quantidade de caracteres) máximo do nome de um identificador, porém a [PEP-8: Style Guide For Python Code](https://www.python.org/dev/peps/pep-0008/) recomenda limitar todas as linhas de um programa a 79 characteres."
   ]
  },
  {
   "cell_type": "code",
   "execution_count": 2,
   "metadata": {},
   "outputs": [
    {
     "data": {
      "text/plain": [
       "False"
      ]
     },
     "execution_count": 2,
     "metadata": {},
     "output_type": "execute_result"
    }
   ],
   "source": [
    "# Testando se um identificador é válido\n",
    "keyword.iskeyword('devcated')"
   ]
  },
  {
   "cell_type": "code",
   "execution_count": 3,
   "metadata": {},
   "outputs": [
    {
     "data": {
      "text/plain": [
       "True"
      ]
     },
     "execution_count": 3,
     "metadata": {},
     "output_type": "execute_result"
    }
   ],
   "source": [
    "keyword.iskeyword('try')"
   ]
  },
  {
   "cell_type": "code",
   "execution_count": 4,
   "metadata": {},
   "outputs": [
    {
     "data": {
      "text/plain": [
       "False"
      ]
     },
     "execution_count": 4,
     "metadata": {},
     "output_type": "execute_result"
    }
   ],
   "source": [
    "# python 3.0\n",
    "'devcated.com'.isidentifier()"
   ]
  },
  {
   "cell_type": "code",
   "execution_count": 5,
   "metadata": {},
   "outputs": [
    {
     "data": {
      "text/plain": [
       "True"
      ]
     },
     "execution_count": 5,
     "metadata": {},
     "output_type": "execute_result"
    }
   ],
   "source": [
    "'devcated_com'.isidentifier()"
   ]
  },
  {
   "cell_type": "markdown",
   "metadata": {},
   "source": [
    "Algumas boas práticas para nomenclatura de identificadores:\n",
    "* Nome de __Classes__ com primeira letra maiúscula: \n",
    "    * `Carro`\n",
    "    * `ContaBancaria` \n",
    "    * `Reserva`\n",
    "* Identificadores __privados__ devem começar com `_`. \n",
    "    * `_salario`\n",
    "    * `_config`\n",
    "    * `_status`\n",
    "* Use nomes que possuam __significado__ e representem o dado armazenado. \n",
    "    * `s = 1000.50`, Soma? Salario? Desvio Padrão? `saldo_conta = 1000.50`!"
   ]
  },
  {
   "cell_type": "markdown",
   "metadata": {},
   "source": [
    "## Variáveis<a id=\"variables\"></a>\n",
    "\n",
    "No geral um programa consiste de numa __instruções__ que serão executadas e __dados__ que serão manipulados por tais instruções.\n",
    "\n",
    "Os __dados__ ficam armazenados em regiões endereçadas da memória, cada memória possui milhares de endereços numéricos e únicos. Agora imagine se tivermos que gravar, para cada dado manipulado em nosso programa, seu endereço de memória? Muito complicado!\n",
    "\n",
    "Pensando nisso, criou-se o conceito de __variáveis__ que são endereços de memória representados por um `idenificador`, pois é muito mais intuitivo lembrar que um dado relacionado ao salario está armazenado em na variável `salario_bruto`, ou que o modelo de um carro está armazenado em `modelo_carro`, do que no endereço `0xFF081632`!\n",
    "\n",
    "Dito isto, podemos então definir uma __variável__ como  um local na memória __nomeado__ (alias), onde foi armazenado algum __dado__ (idade, nome, salário, etc.).\n",
    "\n",
    "Em Python uma __variável__ é criada quando lhe associamos um valor (dad). Usamos o operador `=` para atribuir um valor a uma variável:"
   ]
  },
  {
   "cell_type": "code",
   "execution_count": 6,
   "metadata": {},
   "outputs": [],
   "source": [
    "idade = 30\n",
    "altura = 1.85\n",
    "peso = 102\n",
    "nome = 'Anthony Edward \"Tony\" Stark'\n",
    "masculino = True"
   ]
  },
  {
   "cell_type": "code",
   "execution_count": 7,
   "metadata": {},
   "outputs": [
    {
     "name": "stdout",
     "output_type": "stream",
     "text": [
      "Anthony Edward \"Tony\" Stark\n",
      "30\n"
     ]
    }
   ],
   "source": [
    "# Em python usamos a função print() para imprimir valores de variáveis no console\n",
    "print(nome)\n",
    "print(idade)"
   ]
  },
  {
   "cell_type": "code",
   "execution_count": 8,
   "metadata": {},
   "outputs": [
    {
     "name": "stdout",
     "output_type": "stream",
     "text": [
      "35\n"
     ]
    }
   ],
   "source": [
    "# Podemos modificar o valor armazenado na variável atribuindo um novo valor\n",
    "idade = 35\n",
    "print(idade)"
   ]
  },
  {
   "cell_type": "markdown",
   "metadata": {},
   "source": [
    "## Estilo de Código ( [PEP 8](https://www.python.org/dev/peps/pep-0008/) )<a id=\"code-style\"></a> \n",
    "\n",
    "### Formato de Arquivo e Codificação\n",
    "\n",
    "Código fonte Python é salvo em arquivos texto com extensão `.py`. Todo código Python sempre deve usar codificação `UTF-8`.\n",
    "\n",
    "### Identação<a id=\"identation\"></a>\n",
    "\n",
    "* Não há chaves para identificar `blocos de código`, `classes`, `controles de fluxo` ou `funções`.\n",
    "* `Blocos de código` são identificado pela identação. Use 4 espaços por nível de indentação."
   ]
  },
  {
   "cell_type": "code",
   "execution_count": 6,
   "metadata": {},
   "outputs": [
    {
     "name": "stdout",
     "output_type": "stream",
     "text": [
      "5\n"
     ]
    }
   ],
   "source": [
    "# Add 4 spaces (an extra level of indentation) to distinguish arguments from the rest.\n",
    "def maior(x, y):\n",
    "    if (x > y):\n",
    "        return x\n",
    "    else:\n",
    "        return y\n",
    "\n",
    "print(maior(5,3))"
   ]
  },
  {
   "cell_type": "markdown",
   "metadata": {},
   "source": [
    "### Comprimento da Linha de Código<a id=\"line-len\"></a>\n",
    "\n",
    "Limite todas as linhas a um __máximo__ de `79 caracteres`. Limitar a largura da janela do editor possibilita a abertura de vários arquivos lado a lado e funciona bem ao usar ferramentas de revisão de código que apresentam as duas versões em colunas adjacentes."
   ]
  },
  {
   "cell_type": "code",
   "execution_count": 8,
   "metadata": {},
   "outputs": [
    {
     "name": "stdout",
     "output_type": "stream",
     "text": [
      "aisudhauishduiasdhuiahsduianvjsnfdbmadfhmadfhopadmhokjandhkmsjgnhasnfjojasfgkoanfdgoadfngahdfjhgfghjklçjhgfhjklhghjkljhgjkljhgjkjhg\n",
      "aonoaisgnoaifjiafjioajgoiafjgaiodfjgioadjfgioajdfgajndfoafiadsiogjadiofgjaiodfgjadjfioajfioajfgiojadaksdnfosdngodanfgioadfgmaodfgmadfigmaoidfmgoaifmgikdofoagiamfgmoadfnhoadfmhojadfnhoadfmhoafhoandfhio\n"
     ]
    }
   ],
   "source": [
    "linha_longa = \"aisudhauishduiasdhuiahsduianvjsnfdbmadfhmadfhopadmhokjandhkmsjgnhasnfjojasfgkoanfdgoadfngahdfjhgfghjklçjhgfhjklhghjkljhgjkljhgjkjhg\"\n",
    "multiplas_linhas = \"aonoaisgnoaifjiafjioajgoiafjgaiodfjgioadjfgioajdfg\" \\\n",
    "                    \"ajndfoafiadsiogjadiofgjaiodfgjadjfioajfioajfgiojad\" \\\n",
    "                    \"aksdnfosdngodanfgioadfgmaodfgmadfigmaoidfmgoaifmgi\" \\\n",
    "                    \"kdofoagiamfgmoadfnhoadfmhojadfnhoadfmhoafhoandfhio\"\n",
    "print(linha_longa)\n",
    "print(multiplas_linhas)"
   ]
  },
  {
   "cell_type": "markdown",
   "metadata": {},
   "source": [
    "### Importação de Módulos\n",
    "\n",
    "São sempre colocadas na parte superior do arquivo, logo após quaiquer comentários e textos de documentação. As importações geralmente devem estar em linhas separadas e agrupadas na seguite ordem:\n",
    "* Importações de biblioteca padrão.\n",
    "* Importações de terceiros relacionadas.\n",
    "* mportações específicas de aplicativos / bibliotecas locais.\n",
    "\n",
    "OBS: É aconselhável colocar uma linha em branco entre cada grupo de importações."
   ]
  },
  {
   "cell_type": "code",
   "execution_count": 35,
   "metadata": {},
   "outputs": [
    {
     "name": "stdout",
     "output_type": "stream",
     "text": [
      "posix\n",
      "<module 'posixpath' from '/home/marcoslima/anaconda3/lib/python3.7/posixpath.py'>\n",
      "1013\n",
      "3.7.3 (default, Mar 27 2019, 22:11:17) \n",
      "[GCC 7.3.0]\n",
      "sys.version_info(major=3, minor=7, micro=3, releaselevel='final', serial=0)\n",
      "2019-09-30 00:15:56.127719\n"
     ]
    }
   ],
   "source": [
    "import os\n",
    "import sys\n",
    "\n",
    "import datetime as dt\n",
    "\n",
    "print(os.name)\n",
    "print(os.path)\n",
    "\n",
    "print(sys.api_version)\n",
    "print(sys.version)\n",
    "print(sys.version_info)\n",
    "\n",
    "print(dt.datetime.now())"
   ]
  },
  {
   "cell_type": "markdown",
   "metadata": {},
   "source": [
    "### Comentários\n",
    "\n",
    "Os comentários são parte integrante de qualquer programa. Eles podem vir na forma de `docstrings` no nível do módulo, ou mesmo explicações em linha que ajudam a esclarecer uma função complexa.\n",
    "\n",
    "Os comentários devem ser __frases completas__. A primeira palavra deve ser maiúscula, a menos que seja um identificador que comece com uma letra minúscula.\n",
    "\n",
    "Codificadores Python de países que não falam inglês: __escreva seus comentários em inglês__, a menos que você tenha 120% de certeza de que o código nunca será lido por pessoas que não falam seu idioma.\n",
    "\n",
    "Para escrever um comentário em Python, basta colocar a marca de hash # antes do comentário desejado:"
   ]
  },
  {
   "cell_type": "code",
   "execution_count": 2,
   "metadata": {},
   "outputs": [
    {
     "name": "stdout",
     "output_type": "stream",
     "text": [
      "comentários\n"
     ]
    }
   ],
   "source": [
    "# isto é um comentário em linha e será ignorado\n",
    "\n",
    "'''\n",
    "Bulk comments\n",
    "Multi-line comments\n",
    "'''\n",
    "\n",
    "print(\"comentários\") # outro comentário que será ignorado"
   ]
  },
  {
   "cell_type": "markdown",
   "metadata": {},
   "source": [
    "No entanto, tenha cuidado ao colocar esses __comentários multilinhas__. Dependendo de onde eles estão no seu programa, eles podem se transformar em [docstrings](https://www.python.org/dev/peps/pep-0257/), que são peças de documentação associadas a uma função ou método."
   ]
  },
  {
   "cell_type": "markdown",
   "metadata": {},
   "source": [
    "### Execução de Código\n",
    "\n",
    "* __Código-fonte__: Escrito num arquivo texto com codificação `UTF-8` e extensão `.py`.\n",
    "* __Byte-code__: O `código-fonte` é então convertido em `byte code`, ou seja, para um série de instruções compreensíveis pela máquina.\n",
    "* __PVM__: O `byte code` é executado dentro da `Python Virtual Machine`."
   ]
  },
  {
   "cell_type": "markdown",
   "metadata": {},
   "source": [
    "<img src=\"img/devcated-logo-black.png\" alt=\"Devcated Logo\" width=\"180\">\n",
    "<p><center>&copy; 2019</center></p>"
   ]
  }
 ],
 "metadata": {
  "kernelspec": {
   "display_name": "Python 3",
   "language": "python",
   "name": "python3"
  },
  "language_info": {
   "codemirror_mode": {
    "name": "ipython",
    "version": 3
   },
   "file_extension": ".py",
   "mimetype": "text/x-python",
   "name": "python",
   "nbconvert_exporter": "python",
   "pygments_lexer": "ipython3",
   "version": "3.7.3"
  }
 },
 "nbformat": 4,
 "nbformat_minor": 2
}
